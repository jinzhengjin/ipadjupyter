{
 "cells": [
  {
   "cell_type": "markdown",
   "metadata": {
    "ExecuteTime": {
     "end_time": "2021-05-19T00:32:28.397806Z",
     "start_time": "2021-05-19T00:32:28.394809Z"
    }
   },
   "source": [
    "# sklearn"
   ]
  },
  {
   "cell_type": "markdown",
   "metadata": {},
   "source": [
    "可以看到库的算法主要有四类：分类，回归，聚类，降维。其中：\n",
    "\n",
    "- 常用的回归：线性、决策树、SVM、KNN ；集成回归：随机森林、Adaboost、GradientBoosting、Bagging、ExtraTrees\n",
    "- 常用的分类：线性、决策树、SVM、KNN，朴素贝叶斯；集成分类：随机森林、Adaboost、GradientBoosting、Bagging、ExtraTrees\n",
    "- 常用聚类：k均值（K-means）、层次聚类（Hierarchical clustering）、DBSCAN\n",
    "- 常用降维：LinearDiscriminantAnalysis、PCA\n"
   ]
  },
  {
   "cell_type": "markdown",
   "metadata": {},
   "source": [
    "# 数据预处理preprocessing"
   ]
  },
  {
   "cell_type": "markdown",
   "metadata": {},
   "source": [
    "## 标准化\n",
    "- 在机器学习算法的目标函数(例如SVM的RBF内核或线性模型的l1和l2正则化)，许多学习算法中目标函数的基础都是假设所有的特征都是零均值并且具有同一阶数上的方差。如果某个特征的方差比其他特征大几个数量级，那么它就会在学习算法中占据主导位置，导致学习器并不能像我们说期望的那样，从其他特征中学习。"
   ]
  },
  {
   "cell_type": "markdown",
   "metadata": {},
   "source": [
    "sklearn.preprocessing.StandardScaler(*, copy=True, with_mean=True, with_std=True)"
   ]
  },
  {
   "cell_type": "code",
   "execution_count": 10,
   "metadata": {
    "ExecuteTime": {
     "end_time": "2021-05-19T00:58:16.974567Z",
     "start_time": "2021-05-19T00:58:16.967557Z"
    },
    "scrolled": true
   },
   "outputs": [
    {
     "name": "stdout",
     "output_type": "stream",
     "text": [
      "StandardScaler(copy=True, with_mean=True, with_std=True)\n",
      "[1.         0.         0.33333333]\n",
      "[[ 0.         -1.22474487  1.33630621]\n",
      " [ 1.22474487  0.         -0.26726124]\n",
      " [-1.22474487  1.22474487 -1.06904497]]\n"
     ]
    }
   ],
   "source": [
    "import numpy as np\n",
    "from  sklearn.preprocessing import StandardScaler\n",
    "X_train = np.array([[ 1., -1.,  2.],[ 2.,  0.,  0.],[ 0.,  1., -1.]])\n",
    "scaler = StandardScaler()\n",
    "print(scaler.fit(X_train))\n",
    "#================返回值提取\n",
    "print(scaler.mean_)\n",
    "print(scaler.transform(X_train))\n"
   ]
  },
  {
   "cell_type": "markdown",
   "metadata": {},
   "source": [
    "## 生成多项式特征\n",
    "-通常，考虑输入数据的非线性特征会增加模型的复杂性。多项式特征是一种简单而通用的方法，它可以获取特征的高阶和相互作用项。它在PolynomialFeatures以下位置实现："
   ]
  },
  {
   "cell_type": "markdown",
   "metadata": {},
   "source": [
    " sklearn.preprocessing.PolynomialFeatures(degree=2, *, interaction_only=False, include_bias=True, order='C')"
   ]
  },
  {
   "cell_type": "code",
   "execution_count": 11,
   "metadata": {
    "ExecuteTime": {
     "end_time": "2021-05-19T01:02:15.277333Z",
     "start_time": "2021-05-19T01:02:15.266334Z"
    }
   },
   "outputs": [
    {
     "data": {
      "text/plain": [
       "array([[ 1.,  0.,  1.,  0.],\n",
       "       [ 1.,  2.,  3.,  6.],\n",
       "       [ 1.,  4.,  5., 20.]])"
      ]
     },
     "execution_count": 11,
     "metadata": {},
     "output_type": "execute_result"
    }
   ],
   "source": [
    "import numpy as np\n",
    "from sklearn.preprocessing import PolynomialFeatures\n",
    "X = np.arange(6).reshape(3, 2)\n",
    "\n",
    "poly = PolynomialFeatures(2)\n",
    "poly.fit_transform(X)\n",
    "\n",
    "poly = PolynomialFeatures(interaction_only=True)\n",
    "poly.fit_transform(X)\n"
   ]
  },
  {
   "cell_type": "markdown",
   "metadata": {},
   "source": [
    "## 数据非线性变换"
   ]
  },
  {
   "cell_type": "markdown",
   "metadata": {},
   "source": [
    "-  PowerTransformer 目前提供两个这样的幂变换,Yeo-Johnson transform 和 the Box-Cox transform。\n",
    "- sklearn.preprocessing.PowerTransformer（method = 'yeo-johnson'，*，standardize = True，copy = True）"
   ]
  },
  {
   "cell_type": "code",
   "execution_count": 15,
   "metadata": {
    "ExecuteTime": {
     "end_time": "2021-05-19T01:08:15.424658Z",
     "start_time": "2021-05-19T01:08:15.417641Z"
    }
   },
   "outputs": [
    {
     "data": {
      "text/plain": [
       "array([[ 0.49024349,  0.17881995, -0.1563781 ],\n",
       "       [-0.05102892,  0.58863195, -0.57612414],\n",
       "       [ 0.69420009, -0.84857822,  0.10051454]])"
      ]
     },
     "execution_count": 15,
     "metadata": {},
     "output_type": "execute_result"
    }
   ],
   "source": [
    "from sklearn.preprocessing import PowerTransformer\n",
    "\n",
    "pt = PowerTransformer(method='box-cox', standardize=False)\n",
    "X_lognormal = np.random.RandomState(616).lognormal(size=(3, 3))\n",
    "pt.fit_transform(X_lognormal)\n",
    "#使用Box-Cox将样本从对数正态分布映射到正态分布"
   ]
  },
  {
   "cell_type": "markdown",
   "metadata": {},
   "source": [
    "# 回归分析\n",
    "\n",
    "-https://scikit-learn.org/stable/\n",
    "- 中文介绍 https://www.cntofu.com/book/170/readme.html"
   ]
  },
  {
   "cell_type": "markdown",
   "metadata": {},
   "source": [
    "## 线性回归分析"
   ]
  },
  {
   "cell_type": "markdown",
   "metadata": {
    "ExecuteTime": {
     "end_time": "2021-05-18T10:33:32.010114Z",
     "start_time": "2021-05-18T10:33:32.006089Z"
    }
   },
   "source": [
    "$$ \\hat{y}(w,x)= w_{0} + w_{1} x_{1} +\\ldots+ w_{p} x_{p} $$"
   ]
  },
  {
   "cell_type": "code",
   "execution_count": 126,
   "metadata": {
    "ExecuteTime": {
     "end_time": "2021-05-18T14:20:28.608530Z",
     "start_time": "2021-05-18T14:20:28.604540Z"
    },
    "solution2": "hidden",
    "solution2_first": true
   },
   "outputs": [],
   "source": [
    "from sklearn import linear_model\n",
    "# 线性模型： 最小二乘法、岭回归、Lasso（梯度下降）、弹性网、最小角回归、正交匹配追踪\n",
    "# 广义线性模型           #逻辑回归\n",
    "#随机梯度下降           #感知器\n",
    "#稳健回归             #多项式回归\n",
    "\n",
    "import pandas as pd"
   ]
  },
  {
   "cell_type": "markdown",
   "metadata": {},
   "source": [
    "1. **普通最小二乘法（Ordinary least squares）：**\n",
    "\n",
    "以模型预测值与样本观测值的残差平方和最小作为优化目标。\n",
    "\n",
    "2. **岭回归（Ridge regression）** \n",
    "\n",
    "在普通最小二乘法的基础上增加惩罚因子以减少共线性的影响，以带惩罚项（L2正则化）的残差平方和最小作为优化目标。在指标中同时考虑了较好的学习能力以及较小的惯性能量，以避免过拟合而导致模型泛化能力差。\n",
    "\n",
    "3. **Lasso 回归（Least absolute shrinkage and selection operator）**\n",
    "\n",
    "在普通最小二乘法的基础上增加绝对值偏差作为惩罚项（L1正则化）以减少共线性的影响，在拟合广义线性模型的同时进行变量筛选和复杂度调整，适用于稀疏系数模型。\n",
    "\n",
    "4. **多元 Lasso 回归（Multi-task Lasso）**\n",
    "\n",
    "用于估计多元回归稀疏系数的线性模型。注意不是指多线程或多任务，而是指对多个输出变量筛选出相同的特征变量（也即回归系数整列为 0，因此该列对应的输入变量可以被删除）。\n",
    "\n",
    "5. **弹性网络回归（Elastic-Net）**\n",
    "\n",
    "引入L1和L2范数正则化而构成带有两种惩罚项的模型，相当于岭回归和 Lasso 回归的组合。\n",
    "\n",
    "6. **Multi-task Elastic-Net**\n",
    "\n",
    "用于估计多元回归稀疏系数线性模型的弹性网络回归方法。\n",
    "\n",
    "7. **最小角回归算法（Least Angle Regression）**\n",
    "\n",
    "结合前向梯度算法和前向选择算法，在保留前向梯度算法的精确性的同时简化迭代过程。每次选择都加入一个与相关度最高的自变量，最多 m步就可以完成求解。特别适合于特征维度远高于样本数的情况。\n",
    "\n",
    "8. **LARS Lasso** 使用最小角回归算法求解 Lasso模型。\n",
    "\n",
    "9. **正交匹配追踪法（Orthogonal Matching Pursuit）**\n",
    "\n",
    "用于具有非零系数变量数约束的近似线性模型。在分解的每一步进行正交化处理，选择删除与当前残差最大相关的列，反复迭代达到所需的稀疏程度。\n",
    "\n",
    "10. **贝叶斯回归（Bayesian Regression）**\n",
    "\n",
    "用贝叶斯推断方法求解的线性回归模型，具有贝叶斯统计模型的基本性质，可以求解权重系数的概率密度函数。可以被用于观测数据较少但要求提供后验分布的问题，例如对物理常数的精确估计；也可以用于变量筛选和降维。\n",
    "\n",
    "11. **逻辑回归（Logistic Regression）**\n",
    "逻辑回归是一种广义线性模型，研究顺序变量或属性变量作为输出的问题，实际是一种分类方法。通过线性模型加Sigmoid映射函数，将线性模型连续型输出变换为离散值。常用于估计某种事物的可能性，如寻找危险因素、预测发病概率、判断患病概率，是流行病学和医学中最常用的分析方法。\n",
    "12. **广义线性回归（Generalized Linear Regression）**\n",
    "广义线性回归是线性回归模型的推广，实际上是非线性模型。通过单调可微的联结函数，建立输出变量与输入变量的线性关系，将问题简洁直接地转化为线性模型来处理。\n",
    "13. **随机梯度下降（Stochastic Gradient Descent）**\n",
    "梯度下降是一种基于搜索的最优化方法，用梯度下降法来求损失函数最小时的参数估计值，适用样本数（和特征数）非常非常大的情况。随机梯度下降法在计算下降方向时，随机选一个数据进行计算，而不是扫描全部训练数据集，加快了迭代速度。\n",
    "14. **感知机（Perceptron）感知机（Perceptron）** 感知机是一种适合大规模学习的简单分类算法。训练速度比SGD稍快，并且产生的模型更稀疏。\n",
    "15. **被动攻击算法（Passive Aggressive Algorithms）**\n",
    "被动攻击算法是一类用于大规模学习的算法。\n",
    "16. **鲁棒性回归（Robustness regression）**\n",
    "\n",
    "鲁棒性回归的目的是在存在损坏数据的情况下拟合回归模型，如存在异常值或错误的情况。\n",
    "17. **多项式回归（Polynomial regression）**\n",
    "多项式回归通过构造特征变量的多项式来扩展简单的线性回归模型。例如将特征变量组合成二阶多项式，可以将抛物面拟合到数据中，从而具有更广泛的灵活性和适应性。"
   ]
  },
  {
   "cell_type": "markdown",
   "metadata": {},
   "source": [
    "## 加载数据集"
   ]
  },
  {
   "cell_type": "markdown",
   "metadata": {},
   "source": [
    "### 导入sklearn 模块内的数据"
   ]
  },
  {
   "cell_type": "code",
   "execution_count": 219,
   "metadata": {
    "ExecuteTime": {
     "end_time": "2021-05-18T17:41:00.606890Z",
     "start_time": "2021-05-18T17:41:00.596945Z"
    },
    "scrolled": true
   },
   "outputs": [
    {
     "name": "stdout",
     "output_type": "stream",
     "text": [
      "dict_keys(['data', 'target', 'feature_names', 'DESCR', 'filename'])\n",
      "*-**-**-**-**-**-**-**-**-**-**-**-**-**-**-**-**-**-**-**-**-**-**-**-**-**-**-**-**-**-*\n",
      "['CRIM' 'ZN' 'INDUS' 'CHAS' 'NOX' 'RM' 'AGE' 'DIS' 'RAD' 'TAX' 'PTRATIO'\n",
      " 'B' 'LSTAT']\n",
      "*-**-**-**-**-**-**-**-**-**-**-**-**-**-**-**-**-**-**-**-**-**-**-**-**-**-**-**-**-**-*\n"
     ]
    }
   ],
   "source": [
    "import sklearn\n",
    "from sklearn.datasets import load_boston\n",
    "#装载数据集\n",
    "boston = load_boston()\n",
    "\n",
    "#显示元信息\n",
    "print (boston.keys())\n",
    "print('*-*'*30)\n",
    "print (boston.feature_names)\n",
    "print('*-*'*30)\n",
    "#print (boston.DESCR)"
   ]
  },
  {
   "cell_type": "code",
   "execution_count": 68,
   "metadata": {
    "ExecuteTime": {
     "end_time": "2021-05-18T13:18:48.509694Z",
     "start_time": "2021-05-18T13:18:48.505705Z"
    }
   },
   "outputs": [
    {
     "name": "stdout",
     "output_type": "stream",
     "text": [
      "<class 'numpy.ndarray'> <class 'numpy.ndarray'>\n"
     ]
    }
   ],
   "source": [
    "#方法一:以数据原来的格式--数组的形式\n",
    "X = boston.data\n",
    "y = boston.target\n",
    "print(type(X),type(y))\n",
    "\n",
    "# 方法二：\n",
    "Bos_X, Bos_y = sklearn.datasets.load_boston(return_X_y=True)\n"
   ]
  },
  {
   "cell_type": "code",
   "execution_count": 218,
   "metadata": {
    "ExecuteTime": {
     "end_time": "2021-05-18T17:40:06.589231Z",
     "start_time": "2021-05-18T17:40:06.572308Z"
    },
    "scrolled": true
   },
   "outputs": [
    {
     "name": "stdout",
     "output_type": "stream",
     "text": [
      "============================== 设定各个属性列的名称 ==============================\n",
      "============================== 增加价格PRICE列 ==============================\n",
      "======================================== 数据信息\n",
      "<class 'pandas.core.frame.DataFrame'>\n",
      "RangeIndex: 506 entries, 0 to 505\n",
      "Data columns (total 14 columns):\n",
      " #   Column   Non-Null Count  Dtype  \n",
      "---  ------   --------------  -----  \n",
      " 0   CRIM     506 non-null    float64\n",
      " 1   ZN       506 non-null    float64\n",
      " 2   INDUS    506 non-null    float64\n",
      " 3   CHAS     506 non-null    float64\n",
      " 4   NOX      506 non-null    float64\n",
      " 5   RM       506 non-null    float64\n",
      " 6   AGE      506 non-null    float64\n",
      " 7   DIS      506 non-null    float64\n",
      " 8   RAD      506 non-null    float64\n",
      " 9   TAX      506 non-null    float64\n",
      " 10  PTRATIO  506 non-null    float64\n",
      " 11  B        506 non-null    float64\n",
      " 12  LSTAT    506 non-null    float64\n",
      " 13  PRICE    506 non-null    float64\n",
      "dtypes: float64(14)\n",
      "memory usage: 55.5 KB\n"
     ]
    },
    {
     "data": {
      "text/plain": [
       "CRIM       0\n",
       "ZN         0\n",
       "INDUS      0\n",
       "CHAS       0\n",
       "NOX        0\n",
       "RM         0\n",
       "AGE        0\n",
       "DIS        0\n",
       "RAD        0\n",
       "TAX        0\n",
       "PTRATIO    0\n",
       "B          0\n",
       "LSTAT      0\n",
       "PRICE      0\n",
       "dtype: int64"
      ]
     },
     "execution_count": 218,
     "metadata": {},
     "output_type": "execute_result"
    }
   ],
   "source": [
    "#方法三：以数据框的形式\n",
    "#创建DataFrame\n",
    "bos = pd.DataFrame(boston.data)#特征\n",
    "#print (bos.head())\n",
    "print('='*30,'设定各个属性列的名称','='*30)\n",
    "\n",
    "bos.columns = boston.feature_names\n",
    "#print (bos.head())\n",
    "\n",
    "print('='*30,'增加价格PRICE列','='*30)\n",
    "#print (boston.target[:5])\n",
    "bos['PRICE'] = boston.target\n",
    "#print (bos.head())\n",
    "print('='*40,'数据信息')\n",
    "bos.info()\n",
    "bos.isnull().sum()"
   ]
  },
  {
   "cell_type": "code",
   "execution_count": 105,
   "metadata": {
    "ExecuteTime": {
     "end_time": "2021-05-18T14:08:25.420156Z",
     "start_time": "2021-05-18T14:08:25.276106Z"
    },
    "scrolled": true
   },
   "outputs": [
    {
     "data": {
      "text/html": [
       "<div>\n",
       "<style scoped>\n",
       "    .dataframe tbody tr th:only-of-type {\n",
       "        vertical-align: middle;\n",
       "    }\n",
       "\n",
       "    .dataframe tbody tr th {\n",
       "        vertical-align: top;\n",
       "    }\n",
       "\n",
       "    .dataframe thead th {\n",
       "        text-align: right;\n",
       "    }\n",
       "</style>\n",
       "<table border=\"1\" class=\"dataframe\">\n",
       "  <thead>\n",
       "    <tr style=\"text-align: right;\">\n",
       "      <th></th>\n",
       "      <th>CRIM</th>\n",
       "      <th>ZN</th>\n",
       "      <th>INDUS</th>\n",
       "      <th>CHAS</th>\n",
       "      <th>NOX</th>\n",
       "      <th>RM</th>\n",
       "      <th>AGE</th>\n",
       "      <th>DIS</th>\n",
       "      <th>RAD</th>\n",
       "      <th>TAX</th>\n",
       "      <th>PTRATIO</th>\n",
       "      <th>B</th>\n",
       "      <th>LSTAT</th>\n",
       "      <th>PRICE</th>\n",
       "    </tr>\n",
       "  </thead>\n",
       "  <tbody>\n",
       "    <tr>\n",
       "      <th>count</th>\n",
       "      <td>506.000000</td>\n",
       "      <td>506.000000</td>\n",
       "      <td>506.000000</td>\n",
       "      <td>506.000000</td>\n",
       "      <td>506.000000</td>\n",
       "      <td>506.000000</td>\n",
       "      <td>506.000000</td>\n",
       "      <td>506.000000</td>\n",
       "      <td>506.000000</td>\n",
       "      <td>506.000000</td>\n",
       "      <td>506.000000</td>\n",
       "      <td>506.000000</td>\n",
       "      <td>506.000000</td>\n",
       "      <td>506.000000</td>\n",
       "    </tr>\n",
       "    <tr>\n",
       "      <th>mean</th>\n",
       "      <td>3.613524</td>\n",
       "      <td>11.363636</td>\n",
       "      <td>11.136779</td>\n",
       "      <td>0.069170</td>\n",
       "      <td>0.554695</td>\n",
       "      <td>6.284634</td>\n",
       "      <td>68.574901</td>\n",
       "      <td>3.795043</td>\n",
       "      <td>9.549407</td>\n",
       "      <td>408.237154</td>\n",
       "      <td>18.455534</td>\n",
       "      <td>356.674032</td>\n",
       "      <td>12.653063</td>\n",
       "      <td>22.532806</td>\n",
       "    </tr>\n",
       "    <tr>\n",
       "      <th>std</th>\n",
       "      <td>8.601545</td>\n",
       "      <td>23.322453</td>\n",
       "      <td>6.860353</td>\n",
       "      <td>0.253994</td>\n",
       "      <td>0.115878</td>\n",
       "      <td>0.702617</td>\n",
       "      <td>28.148861</td>\n",
       "      <td>2.105710</td>\n",
       "      <td>8.707259</td>\n",
       "      <td>168.537116</td>\n",
       "      <td>2.164946</td>\n",
       "      <td>91.294864</td>\n",
       "      <td>7.141062</td>\n",
       "      <td>9.197104</td>\n",
       "    </tr>\n",
       "    <tr>\n",
       "      <th>min</th>\n",
       "      <td>0.006320</td>\n",
       "      <td>0.000000</td>\n",
       "      <td>0.460000</td>\n",
       "      <td>0.000000</td>\n",
       "      <td>0.385000</td>\n",
       "      <td>3.561000</td>\n",
       "      <td>2.900000</td>\n",
       "      <td>1.129600</td>\n",
       "      <td>1.000000</td>\n",
       "      <td>187.000000</td>\n",
       "      <td>12.600000</td>\n",
       "      <td>0.320000</td>\n",
       "      <td>1.730000</td>\n",
       "      <td>5.000000</td>\n",
       "    </tr>\n",
       "    <tr>\n",
       "      <th>25%</th>\n",
       "      <td>0.082045</td>\n",
       "      <td>0.000000</td>\n",
       "      <td>5.190000</td>\n",
       "      <td>0.000000</td>\n",
       "      <td>0.449000</td>\n",
       "      <td>5.885500</td>\n",
       "      <td>45.025000</td>\n",
       "      <td>2.100175</td>\n",
       "      <td>4.000000</td>\n",
       "      <td>279.000000</td>\n",
       "      <td>17.400000</td>\n",
       "      <td>375.377500</td>\n",
       "      <td>6.950000</td>\n",
       "      <td>17.025000</td>\n",
       "    </tr>\n",
       "    <tr>\n",
       "      <th>50%</th>\n",
       "      <td>0.256510</td>\n",
       "      <td>0.000000</td>\n",
       "      <td>9.690000</td>\n",
       "      <td>0.000000</td>\n",
       "      <td>0.538000</td>\n",
       "      <td>6.208500</td>\n",
       "      <td>77.500000</td>\n",
       "      <td>3.207450</td>\n",
       "      <td>5.000000</td>\n",
       "      <td>330.000000</td>\n",
       "      <td>19.050000</td>\n",
       "      <td>391.440000</td>\n",
       "      <td>11.360000</td>\n",
       "      <td>21.200000</td>\n",
       "    </tr>\n",
       "    <tr>\n",
       "      <th>75%</th>\n",
       "      <td>3.677083</td>\n",
       "      <td>12.500000</td>\n",
       "      <td>18.100000</td>\n",
       "      <td>0.000000</td>\n",
       "      <td>0.624000</td>\n",
       "      <td>6.623500</td>\n",
       "      <td>94.075000</td>\n",
       "      <td>5.188425</td>\n",
       "      <td>24.000000</td>\n",
       "      <td>666.000000</td>\n",
       "      <td>20.200000</td>\n",
       "      <td>396.225000</td>\n",
       "      <td>16.955000</td>\n",
       "      <td>25.000000</td>\n",
       "    </tr>\n",
       "    <tr>\n",
       "      <th>max</th>\n",
       "      <td>88.976200</td>\n",
       "      <td>100.000000</td>\n",
       "      <td>27.740000</td>\n",
       "      <td>1.000000</td>\n",
       "      <td>0.871000</td>\n",
       "      <td>8.780000</td>\n",
       "      <td>100.000000</td>\n",
       "      <td>12.126500</td>\n",
       "      <td>24.000000</td>\n",
       "      <td>711.000000</td>\n",
       "      <td>22.000000</td>\n",
       "      <td>396.900000</td>\n",
       "      <td>37.970000</td>\n",
       "      <td>50.000000</td>\n",
       "    </tr>\n",
       "  </tbody>\n",
       "</table>\n",
       "</div>"
      ],
      "text/plain": [
       "             CRIM          ZN       INDUS        CHAS         NOX          RM  \\\n",
       "count  506.000000  506.000000  506.000000  506.000000  506.000000  506.000000   \n",
       "mean     3.613524   11.363636   11.136779    0.069170    0.554695    6.284634   \n",
       "std      8.601545   23.322453    6.860353    0.253994    0.115878    0.702617   \n",
       "min      0.006320    0.000000    0.460000    0.000000    0.385000    3.561000   \n",
       "25%      0.082045    0.000000    5.190000    0.000000    0.449000    5.885500   \n",
       "50%      0.256510    0.000000    9.690000    0.000000    0.538000    6.208500   \n",
       "75%      3.677083   12.500000   18.100000    0.000000    0.624000    6.623500   \n",
       "max     88.976200  100.000000   27.740000    1.000000    0.871000    8.780000   \n",
       "\n",
       "              AGE         DIS         RAD         TAX     PTRATIO           B  \\\n",
       "count  506.000000  506.000000  506.000000  506.000000  506.000000  506.000000   \n",
       "mean    68.574901    3.795043    9.549407  408.237154   18.455534  356.674032   \n",
       "std     28.148861    2.105710    8.707259  168.537116    2.164946   91.294864   \n",
       "min      2.900000    1.129600    1.000000  187.000000   12.600000    0.320000   \n",
       "25%     45.025000    2.100175    4.000000  279.000000   17.400000  375.377500   \n",
       "50%     77.500000    3.207450    5.000000  330.000000   19.050000  391.440000   \n",
       "75%     94.075000    5.188425   24.000000  666.000000   20.200000  396.225000   \n",
       "max    100.000000   12.126500   24.000000  711.000000   22.000000  396.900000   \n",
       "\n",
       "            LSTAT       PRICE  \n",
       "count  506.000000  506.000000  \n",
       "mean    12.653063   22.532806  \n",
       "std      7.141062    9.197104  \n",
       "min      1.730000    5.000000  \n",
       "25%      6.950000   17.025000  \n",
       "50%     11.360000   21.200000  \n",
       "75%     16.955000   25.000000  \n",
       "max     37.970000   50.000000  "
      ]
     },
     "execution_count": 105,
     "metadata": {},
     "output_type": "execute_result"
    }
   ],
   "source": [
    "bos.describe()"
   ]
  },
  {
   "cell_type": "code",
   "execution_count": 109,
   "metadata": {
    "ExecuteTime": {
     "end_time": "2021-05-18T14:11:42.613531Z",
     "start_time": "2021-05-18T14:11:42.605553Z"
    }
   },
   "outputs": [
    {
     "data": {
      "text/plain": [
       "<Figure size 720x720 with 0 Axes>"
      ]
     },
     "metadata": {},
     "output_type": "display_data"
    }
   ],
   "source": [
    "corrboston = bos.corr()\n",
    "#corrboston\n",
    "import matplotlib.pyplot as plt\n",
    "import seaborn as sns\n",
    "sns.set()    #设置画图空间为 Seaborn 默认风格\n",
    "plt.figure(figsize=(10,10))    #设置画布\n",
    "#sns.heatmap(corrboston,annot=True,cmap='RdGy')\n",
    "plt.show()"
   ]
  },
  {
   "cell_type": "code",
   "execution_count": 145,
   "metadata": {
    "ExecuteTime": {
     "end_time": "2021-05-18T14:34:35.040989Z",
     "start_time": "2021-05-18T14:34:35.036037Z"
    }
   },
   "outputs": [],
   "source": [
    "names=list(boston.feature_names)\n",
    "x_data = bos[names] # 导入所有特征变量\n",
    "y_data = bos['PRICE'] # 导入目标值（房价）\n"
   ]
  },
  {
   "cell_type": "markdown",
   "metadata": {
    "ExecuteTime": {
     "end_time": "2021-05-18T13:07:12.113374Z",
     "start_time": "2021-05-18T13:07:12.001121Z"
    }
   },
   "source": [
    "### 数据划分"
   ]
  },
  {
   "cell_type": "code",
   "execution_count": 146,
   "metadata": {
    "ExecuteTime": {
     "end_time": "2021-05-18T14:34:37.845425Z",
     "start_time": "2021-05-18T14:34:37.836483Z"
    }
   },
   "outputs": [
    {
     "name": "stdout",
     "output_type": "stream",
     "text": [
      "(339, 13)\n",
      "(167, 13)\n",
      "(339,)\n",
      "(167,)\n"
     ]
    }
   ],
   "source": [
    "from sklearn.model_selection import train_test_split\n",
    "X_train, X_test, Y_train, Y_test =train_test_split ( x_data, y_data, test_size=0.33, random_state=5) \n",
    "# 划分对象可以是lists, numpy arrays, scipy-sparsematrices or pandas dataframes\n",
    "# 更多内容参见 help(train_test_split)\n",
    "print (X_train.shape )\n",
    "print (X_test.shape )\n",
    "print (Y_train.shape )\n",
    "print (Y_test.shape )\n"
   ]
  },
  {
   "cell_type": "markdown",
   "metadata": {
    "ExecuteTime": {
     "end_time": "2021-05-18T14:36:37.643255Z",
     "start_time": "2021-05-18T14:36:35.116980Z"
    }
   },
   "source": [
    "names =a\n",
    "plt.figure(figsize=(18,10))\n",
    "\n",
    "for i in range(13):\n",
    "    plt.subplot(4,4,i+1)\n",
    "    plt.scatter(x_data.values[:,i],y_data,s = 5)    #.values将DataFrame对象X_df转成ndarray数组\n",
    "    plt.xlabel(names[i])\n",
    "    plt.ylabel('Price')\n",
    "    plt.title(str(i+1)+'. '+names[i]+' - Price')  \n",
    "#plt.title('每个变量与房价的散点图')    \n",
    "plt.tight_layout()\n",
    "\n",
    "plt.show()"
   ]
  },
  {
   "cell_type": "markdown",
   "metadata": {
    "ExecuteTime": {
     "end_time": "2021-05-18T11:09:30.559501Z",
     "start_time": "2021-05-18T11:09:30.553519Z"
    }
   },
   "source": [
    "## 普通最小二乘法--sklearn"
   ]
  },
  {
   "cell_type": "markdown",
   "metadata": {},
   "source": [
    "### 拟合模型"
   ]
  },
  {
   "cell_type": "markdown",
   "metadata": {},
   "source": [
    "实现的语句：\n",
    "LinearRegression(*, fit_intercept=True, normalize=False, copy_X=True, n_jobs=None, positive=False)\n",
    "\n",
    "- fit_intercept设置为False时，将忽略此参数。如果为True，则将在回归之前通过减去均值并除以l2-范数来对回归变量X进行归一化。\n",
    "\n",
    "LinearRegression() 类的参数不多，通常几乎不需要设置。\n",
    "　\n",
    "LinearRegression() 类的主要方法：\n",
    "\n",
    "- fit(X,y[,sample_weight])　　用样本集（X, y）训练模型。sample_weight 为每个样本设权重，默认None。\n",
    "- get_params([deep])　　获取模型参数。注意不是指模型回归系数，而是指fit_intercept,normalize等参数。\n",
    "- predict(X)　　用训练的模型预测数据集 X 的输出。即可以对训练样本给出模型输出结果，也可以对测试样本给出预测结果。\n",
    "- score(X,y[,sample_weight])　　R2 判定系数，是常用的模型评价指标。"
   ]
  },
  {
   "cell_type": "code",
   "execution_count": 176,
   "metadata": {
    "ExecuteTime": {
     "end_time": "2021-05-18T16:21:30.939986Z",
     "start_time": "2021-05-18T16:21:30.928047Z"
    }
   },
   "outputs": [
    {
     "name": "stdout",
     "output_type": "stream",
     "text": [
      "回归截距项: 32.8589326340861\n",
      "回归系数: [-1.56381297e-01  3.85490972e-02 -2.50629921e-02  7.86439684e-01\n",
      " -1.29469121e+01  4.00268857e+00 -1.16023395e-02 -1.36828811e+00\n",
      "  3.41756915e-01 -1.35148823e-02 -9.88866034e-01  1.20588215e-02\n",
      " -4.72644280e-01]\n",
      "   features  Linear model estimated coefficients\n",
      "0      CRIM                            -0.156381\n",
      "1        ZN                             0.038549\n",
      "2     INDUS                            -0.025063\n",
      "3      CHAS                             0.786440\n",
      "4       NOX                           -12.946912\n",
      "5        RM                             4.002689\n",
      "6       AGE                            -0.011602\n",
      "7       DIS                            -1.368288\n",
      "8       RAD                             0.341757\n",
      "9       TAX                            -0.013515\n",
      "10  PTRATIO                            -0.988866\n",
      "11        B                             0.012059\n",
      "12    LSTAT                            -0.472644\n"
     ]
    }
   ],
   "source": [
    "from sklearn import linear_model\n",
    "#建立线性回归模型，并将变量带入模型进行训练。\n",
    "regr = linear_model.LinearRegression()\n",
    "\n",
    "model = regr.fit( X_train, Y_train)\n",
    "\n",
    "print('回归截距项:',model.intercept_)\n",
    "\n",
    "print('回归系数:',model.coef_)\n",
    "\n",
    "#显示各个变量的系数\n",
    "coef = pd.DataFrame( zip(boston.feature_names, model.coef_), columns=['features', 'OLS estimated coefficients'])\n",
    "print(coef)\n"
   ]
  },
  {
   "cell_type": "markdown",
   "metadata": {},
   "source": [
    "### 模型评估"
   ]
  },
  {
   "cell_type": "code",
   "execution_count": 166,
   "metadata": {
    "ExecuteTime": {
     "end_time": "2021-05-18T15:17:46.089122Z",
     "start_time": "2021-05-18T15:17:46.080176Z"
    }
   },
   "outputs": [
    {
     "name": "stdout",
     "output_type": "stream",
     "text": [
      "训练集的可决系数：0.7551\n",
      "训练集的均方误差：19.5468\n",
      "训练集的平均绝对值误差：3.1219\n",
      "训练集的中位绝对值误差：2.3422\n"
     ]
    }
   ],
   "source": [
    "from sklearn.metrics import r2_score\n",
    "y_pred =regr.predict(X_train)\n",
    "score = r2_score(Y_train, y_pred)\n",
    "print('训练集的可决系数：%.4f'%score)\n",
    "\n",
    "from sklearn.metrics import mean_squared_error\n",
    "mse = mean_squared_error(Y_train, y_pred)\n",
    "print('训练集的均方误差：%.4f'%mse)\n",
    "\n",
    "from sklearn.metrics import mean_absolute_error\n",
    "print('训练集的平均绝对值误差：{:.4f}'.format(mean_absolute_error(Y_train, y_pred)))  # MAE 平均绝对误差\n",
    "from sklearn.metrics import median_absolute_error\n",
    "print('训练集的中位绝对值误差：{:.4f}'.format(median_absolute_error(Y_train, y_pred)))  # 中值绝对误差"
   ]
  },
  {
   "cell_type": "markdown",
   "metadata": {},
   "source": [
    " **scikit-learn.metrics里各种指标简介**\n",
    "\n",
    "1. 简单介绍参见：https://www.cnblogs.com/mdevelopment/p/9456486.html\n",
    "\n",
    "2. 详细介绍参见：https://www.cnblogs.com/harvey888/p/6964741.html\n",
    "\n",
    "3. 官网介绍：https://scikit-learn.org/stable/modules/classes.html#module-sklearn.metrics"
   ]
  },
  {
   "cell_type": "markdown",
   "metadata": {},
   "source": [
    "### 绘制图像"
   ]
  },
  {
   "cell_type": "code",
   "execution_count": 171,
   "metadata": {
    "ExecuteTime": {
     "end_time": "2021-05-18T15:24:05.670371Z",
     "start_time": "2021-05-18T15:24:05.432008Z"
    }
   },
   "outputs": [
    {
     "data": {
      "image/png": "[encoded data removed]",
      "text/plain": [
       "<Figure size 720x432 with 1 Axes>"
      ]
     },
     "metadata": {},
     "output_type": "display_data"
    }
   ],
   "source": [
    "\n",
    "# 绘图：原始数据点，拟合曲线\n",
    "fig, ax = plt.subplots(figsize=(10, 6))  # YouCans, XUPT\n",
    "ax.plot(range(len(Y_train)), Y_train, 'b-.', label='Sample')  # 样本数据\n",
    "ax.plot(range(len(Y_train)), y_pred, 'r-', label='Fitting')  # 拟合数据\n",
    "ax.legend(loc='best')  # 显示图例\n",
    "plt.title('Regression analysis of boston  by SKlearn')\n",
    "#plt.xlabel('period')\n",
    "#plt.ylabel('sales')\n",
    "plt.show()"
   ]
  },
  {
   "cell_type": "markdown",
   "metadata": {},
   "source": [
    "## 普通最小二乘--Statsmodels"
   ]
  },
  {
   "cell_type": "markdown",
   "metadata": {},
   "source": [
    "statsmodels主要包括如下子模块：\n",
    "\n",
    "- 回归模型：线性回归，广义线性模型，稳健的线性模型，线性混合效应模型等等。\n",
    "\n",
    "- 方差分析（ANOVA）。\n",
    "\n",
    "- 时间序列分析：AR，ARMA，ARIMA，VAR和其它模型。\n",
    "\n",
    "- 非参数方法： 核密度估计，核回归。\n",
    "\n",
    "- 统计模型结果可视化。\n",
    "**比较：statsmodels更关注统计推断，提供不确定估计和参数p-value。相反的，scikit-learn注重预测。**"
   ]
  },
  {
   "cell_type": "code",
   "execution_count": 229,
   "metadata": {
    "ExecuteTime": {
     "end_time": "2021-05-18T17:48:13.017282Z",
     "start_time": "2021-05-18T17:48:13.013294Z"
    }
   },
   "outputs": [],
   "source": [
    "import statsmodels.api as sm #横截面模型和方法\n",
    "#https://www.statsmodels.org/stable/api.html"
   ]
  },
  {
   "cell_type": "markdown",
   "metadata": {},
   "source": [
    "OLS(endog, exog=None, missing='none', hasconst=None, **kwargs)\n",
    "\n",
    "- endog、 exog: array "
   ]
  },
  {
   "cell_type": "code",
   "execution_count": 231,
   "metadata": {
    "ExecuteTime": {
     "end_time": "2021-05-18T17:49:49.513167Z",
     "start_time": "2021-05-18T17:49:49.325265Z"
    }
   },
   "outputs": [
    {
     "name": "stdout",
     "output_type": "stream",
     "text": [
      "                            OLS Regression Results                            \n",
      "==============================================================================\n",
      "Dep. Variable:                      y   R-squared:                       0.733\n",
      "Model:                            OLS   Adj. R-squared:                  0.722\n",
      "Method:                 Least Squares   F-statistic:                     68.53\n",
      "Date:                Wed, 19 May 2021   Prob (F-statistic):           7.87e-85\n",
      "Time:                        01:49:49   Log-Likelihood:                -1013.8\n",
      "No. Observations:                 339   AIC:                             2056.\n",
      "Df Residuals:                     325   BIC:                             2109.\n",
      "Df Model:                          13                                         \n",
      "Covariance Type:            nonrobust                                         \n",
      "==============================================================================\n",
      "                 coef    std err          t      P>|t|      [0.025      0.975]\n",
      "------------------------------------------------------------------------------\n",
      "const         43.9010      6.182      7.101      0.000      31.738      56.064\n",
      "x1            -0.1109      0.041     -2.692      0.007      -0.192      -0.030\n",
      "x2             0.0685      0.017      3.985      0.000       0.035       0.102\n",
      "x3            -0.0095      0.076     -0.125      0.900      -0.159       0.140\n",
      "x4             3.3806      1.075      3.144      0.002       1.265       5.496\n",
      "x5           -19.5703      4.674     -4.187      0.000     -28.765     -10.376\n",
      "x6             2.6039      0.511      5.098      0.000       1.599       3.609\n",
      "x7             0.0220      0.017      1.295      0.196      -0.011       0.055\n",
      "x8            -1.5904      0.248     -6.410      0.000      -2.079      -1.102\n",
      "x9             0.3580      0.083      4.314      0.000       0.195       0.521\n",
      "x10           -0.0113      0.005     -2.359      0.019      -0.021      -0.002\n",
      "x11           -0.9357      0.164     -5.722      0.000      -1.257      -0.614\n",
      "x12            0.0111      0.003      3.431      0.001       0.005       0.017\n",
      "x13           -0.6630      0.062    -10.704      0.000      -0.785      -0.541\n",
      "==============================================================================\n",
      "Omnibus:                      102.105   Durbin-Watson:                   1.827\n",
      "Prob(Omnibus):                  0.000   Jarque-Bera (JB):              340.177\n",
      "Skew:                           1.320   Prob(JB):                     1.35e-74\n",
      "Kurtosis:                       7.137   Cond. No.                     1.45e+04\n",
      "==============================================================================\n",
      "\n",
      "Warnings:\n",
      "[1] Standard Errors assume that the covariance matrix of the errors is correctly specified.\n",
      "[2] The condition number is large, 1.45e+04. This might indicate that there are\n",
      "strong multicollinearity or other numerical problems.\n"
     ]
    }
   ],
   "source": [
    "from sklearn.model_selection import train_test_split\n",
    "X = boston.data\n",
    "y = boston.target\n",
    "\n",
    "X_train, X_test, Y_train, Y_test =train_test_split (X, y, test_size=0.33) \n",
    "X_train=sm.add_constant(X_train)\n",
    "model_s=sm.OLS(Y_train,X_train)\n",
    "results = model_s.fit()\n",
    "print(results.summary())\n"
   ]
  },
  {
   "cell_type": "code",
   "execution_count": 250,
   "metadata": {
    "ExecuteTime": {
     "end_time": "2021-05-18T18:14:28.077583Z",
     "start_time": "2021-05-18T18:14:28.070632Z"
    }
   },
   "outputs": [
    {
     "name": "stdout",
     "output_type": "stream",
     "text": [
      "训练集的可决系数：0.7327\n",
      "训练集的均方误差：23.1732\n",
      "训练集的平均绝对值误差：3.4139\n",
      "训练集的中位绝对值误差：2.6438\n"
     ]
    }
   ],
   "source": [
    "from sklearn.metrics import r2_score\n",
    "y_pred =results.predict(X_train)\n",
    "score = r2_score(Y_train, y_pred)\n",
    "print('训练集的可决系数：%.4f'%score)\n",
    "\n",
    "from sklearn.metrics import mean_squared_error\n",
    "mse = mean_squared_error(Y_train, y_pred)\n",
    "print('训练集的均方误差：%.4f'%mse)\n",
    "\n",
    "from sklearn.metrics import mean_absolute_error\n",
    "print('训练集的平均绝对值误差：{:.4f}'.format(mean_absolute_error(Y_train, y_pred)))  # MAE 平均绝对误差\n",
    "from sklearn.metrics import median_absolute_error\n",
    "print('训练集的中位绝对值误差：{:.4f}'.format(median_absolute_error(Y_train, y_pred)))  # 中值绝对误差"
   ]
  },
  {
   "cell_type": "code",
   "execution_count": 260,
   "metadata": {
    "ExecuteTime": {
     "end_time": "2021-05-18T18:26:22.432734Z",
     "start_time": "2021-05-18T18:26:22.056674Z"
    }
   },
   "outputs": [
    {
     "data": {
      "image/png": "[encoded data removed]",
      "text/plain": [
       "<Figure size 432x288 with 1 Axes>"
      ]
     },
     "metadata": {},
     "output_type": "display_data"
    }
   ],
   "source": [
    "residual = results.resid\n",
    "import matplotlib.pyplot as plt\n",
    "plt.rcParams['font.family']='SimHei'# 用黑体显示中文\n",
    "plt.rcParams['font.sans-serif']=['SimHei']\n",
    "plt.rcParams['axes.unicode_minus']=False  #解决负号问题\n",
    "plt.style.use( 'ggplot')\n",
    "\n",
    "plt.hist(residual , bins = 20, color = 'steelblue', edgecolor = 'k',label = '直方图')\n",
    "         # 绘图数据# 指定直方图的条形数为20个\n",
    "         # 指定填充色 # 指定直方图的边界色 # 为直方图呈现标签\n",
    "# 去除图形顶部边界和右边界的刻度\n",
    "plt.tick_params(top= 'off', right= 'off')\n",
    "# 显示图例\n",
    "plt.legend()\n",
    "# 显示图形\n",
    "plt.xlabel(\"年龄\") \n",
    "plt.show()"
   ]
  },
  {
   "cell_type": "code",
   "execution_count": 248,
   "metadata": {
    "ExecuteTime": {
     "end_time": "2021-05-18T18:08:57.285773Z",
     "start_time": "2021-05-18T18:08:57.260870Z"
    }
   },
   "outputs": [
    {
     "name": "stdout",
     "output_type": "stream",
     "text": [
      "[536.065574409438, 1.7228520755029013, 2.1963002172956156, 3.9339125495676006, 1.148262541468531, 4.231721232142396, 1.7820102520016192, 3.0588201969630613, 3.733431175770859, 7.728848661331716, 9.558848316852998, 1.8388693184173543, 1.473718149984518, 2.693406801085234]\n"
     ]
    },
    {
     "data": {
      "text/html": [
       "<div>\n",
       "<style scoped>\n",
       "    .dataframe tbody tr th:only-of-type {\n",
       "        vertical-align: middle;\n",
       "    }\n",
       "\n",
       "    .dataframe tbody tr th {\n",
       "        vertical-align: top;\n",
       "    }\n",
       "\n",
       "    .dataframe thead th {\n",
       "        text-align: right;\n",
       "    }\n",
       "</style>\n",
       "<table border=\"1\" class=\"dataframe\">\n",
       "  <thead>\n",
       "    <tr style=\"text-align: right;\">\n",
       "      <th></th>\n",
       "      <th>coef_name</th>\n",
       "      <th>VIF</th>\n",
       "    </tr>\n",
       "  </thead>\n",
       "  <tbody>\n",
       "    <tr>\n",
       "      <th>0</th>\n",
       "      <td>const</td>\n",
       "      <td>536.066</td>\n",
       "    </tr>\n",
       "    <tr>\n",
       "      <th>1</th>\n",
       "      <td>CRIM</td>\n",
       "      <td>1.723</td>\n",
       "    </tr>\n",
       "    <tr>\n",
       "      <th>2</th>\n",
       "      <td>ZN</td>\n",
       "      <td>2.196</td>\n",
       "    </tr>\n",
       "    <tr>\n",
       "      <th>3</th>\n",
       "      <td>INDUS</td>\n",
       "      <td>3.934</td>\n",
       "    </tr>\n",
       "    <tr>\n",
       "      <th>4</th>\n",
       "      <td>CHAS</td>\n",
       "      <td>1.148</td>\n",
       "    </tr>\n",
       "    <tr>\n",
       "      <th>5</th>\n",
       "      <td>NOX</td>\n",
       "      <td>4.232</td>\n",
       "    </tr>\n",
       "    <tr>\n",
       "      <th>6</th>\n",
       "      <td>RM</td>\n",
       "      <td>1.782</td>\n",
       "    </tr>\n",
       "    <tr>\n",
       "      <th>7</th>\n",
       "      <td>AGE</td>\n",
       "      <td>3.059</td>\n",
       "    </tr>\n",
       "    <tr>\n",
       "      <th>8</th>\n",
       "      <td>DIS</td>\n",
       "      <td>3.733</td>\n",
       "    </tr>\n",
       "    <tr>\n",
       "      <th>9</th>\n",
       "      <td>RAD</td>\n",
       "      <td>7.729</td>\n",
       "    </tr>\n",
       "    <tr>\n",
       "      <th>10</th>\n",
       "      <td>TAX</td>\n",
       "      <td>9.559</td>\n",
       "    </tr>\n",
       "    <tr>\n",
       "      <th>11</th>\n",
       "      <td>PTRATIO</td>\n",
       "      <td>1.839</td>\n",
       "    </tr>\n",
       "    <tr>\n",
       "      <th>12</th>\n",
       "      <td>B</td>\n",
       "      <td>1.474</td>\n",
       "    </tr>\n",
       "    <tr>\n",
       "      <th>13</th>\n",
       "      <td>LSTAT</td>\n",
       "      <td>2.693</td>\n",
       "    </tr>\n",
       "  </tbody>\n",
       "</table>\n",
       "</div>"
      ],
      "text/plain": [
       "   coef_name      VIF\n",
       "0      const  536.066\n",
       "1       CRIM    1.723\n",
       "2         ZN    2.196\n",
       "3      INDUS    3.934\n",
       "4       CHAS    1.148\n",
       "5        NOX    4.232\n",
       "6         RM    1.782\n",
       "7        AGE    3.059\n",
       "8        DIS    3.733\n",
       "9        RAD    7.729\n",
       "10       TAX    9.559\n",
       "11   PTRATIO    1.839\n",
       "12         B    1.474\n",
       "13     LSTAT    2.693"
      ]
     },
     "execution_count": 248,
     "metadata": {},
     "output_type": "execute_result"
    }
   ],
   "source": [
    "#、一般情况下，科学研究会建议VIF=10设置为threshold，任何变量的VIF>10,会被认为需\n",
    "#要重新检视该变量,可能存在多重共线性\n",
    "from statsmodels.stats.outliers_influence import variance_inflation_factor\n",
    "VIF= []\n",
    "for i in range(X_train.shape[1]):\n",
    "    VIF.append(variance_inflation_factor(exog=X_train,exog_idx=i))\n",
    "print(VIF)\n",
    "\n",
    "name1= list(boston.feature_names)\n",
    "name1=['const']+name1\n",
    "pd.DataFrame({'coef_name':name1,'VIF':np.round(VIF,3)})\n"
   ]
  },
  {
   "cell_type": "code",
   "execution_count": null,
   "metadata": {},
   "outputs": [],
   "source": []
  },
  {
   "cell_type": "markdown",
   "metadata": {},
   "source": [
    "## 岭回归"
   ]
  },
  {
   "cell_type": "markdown",
   "metadata": {},
   "source": [
    "Ridge（alpha = 1.0，*，fit_intercept = True，normalize = False，copy_X = True，max_iter = None，tol = 0.001，solver= 'auto'，random_state = None）\n",
    "\n",
    " 目标函数 ||y - Xw||^2_2 + alpha * ||w||^2_2\n"
   ]
  },
  {
   "cell_type": "code",
   "execution_count": 179,
   "metadata": {
    "ExecuteTime": {
     "end_time": "2021-05-18T16:22:45.755013Z",
     "start_time": "2021-05-18T16:22:45.745071Z"
    }
   },
   "outputs": [
    {
     "name": "stdout",
     "output_type": "stream",
     "text": [
      "   features  Ridge estimated coefficients\n",
      "0      CRIM                     -0.152847\n",
      "1        ZN                      0.039770\n",
      "2     INDUS                     -0.051566\n",
      "3      CHAS                      0.634287\n",
      "4       NOX                     -6.357149\n",
      "5        RM                      4.009259\n",
      "6       AGE                     -0.017092\n",
      "7       DIS                     -1.272979\n",
      "8       RAD                      0.327888\n",
      "9       TAX                     -0.014335\n",
      "10  PTRATIO                     -0.920537\n",
      "11        B                      0.011868\n",
      "12    LSTAT                     -0.484499\n"
     ]
    }
   ],
   "source": [
    "from sklearn.linear_model import Ridge\n",
    "clf = Ridge(alpha=1.0)\n",
    "model1=clf.fit(X_train, Y_train)\n",
    "#显示各个变量的系数\n",
    "coef1 = pd.DataFrame( zip(boston.feature_names, model1.coef_), columns=['features', 'Ridge estimated coefficients'])\n",
    "print(coef1)"
   ]
  },
  {
   "cell_type": "code",
   "execution_count": 277,
   "metadata": {
    "ExecuteTime": {
     "end_time": "2021-05-18T18:47:45.055454Z",
     "start_time": "2021-05-18T18:47:44.152867Z"
    }
   },
   "outputs": [
    {
     "name": "stderr",
     "output_type": "stream",
     "text": [
      "Font 'default' does not have a glyph for '-' [U+2212], substituting with a dummy symbol.\n",
      "Font 'default' does not have a glyph for '-' [U+2212], substituting with a dummy symbol.\n",
      "Font 'default' does not have a glyph for '-' [U+2212], substituting with a dummy symbol.\n",
      "Font 'default' does not have a glyph for '-' [U+2212], substituting with a dummy symbol.\n",
      "Font 'default' does not have a glyph for '-' [U+2212], substituting with a dummy symbol.\n",
      "Font 'default' does not have a glyph for '-' [U+2212], substituting with a dummy symbol.\n"
     ]
    },
    {
     "name": "stdout",
     "output_type": "stream",
     "text": [
      "CV 方法选择调节参数\n"
     ]
    },
    {
     "name": "stderr",
     "output_type": "stream",
     "text": [
      "Font 'default' does not have a glyph for '-' [U+2212], substituting with a dummy symbol.\n",
      "Font 'default' does not have a glyph for '-' [U+2212], substituting with a dummy symbol.\n",
      "Font 'default' does not have a glyph for '-' [U+2212], substituting with a dummy symbol.\n",
      "Font 'default' does not have a glyph for '-' [U+2212], substituting with a dummy symbol.\n",
      "Font 'default' does not have a glyph for '-' [U+2212], substituting with a dummy symbol.\n",
      "Font 'default' does not have a glyph for '-' [U+2212], substituting with a dummy symbol.\n"
     ]
    },
    {
     "data": {
      "image/png": "[encoded data removed]",
      "text/plain": [
       "<Figure size 1000x800 with 1 Axes>"
      ]
     },
     "metadata": {},
     "output_type": "display_data"
    }
   ],
   "source": [
    "print('CV 方法选择调节参数')\n",
    "plt.rcParams['font.family']='SimHei'# 用黑体显示中文\n",
    "plt.rcParams['font.sans-serif']=['SimHei']\n",
    "plt.rcParams['axes.unicode_minus']=False  #解决负号问题\n",
    "\n",
    "alphas = 10**np.linspace(-3,3,100)\n",
    "\n",
    "ridge_cofficients = []\n",
    "\n",
    "for alpha in alphas:\n",
    "    ridge = Ridge(alpha = alpha, normalize=True)\n",
    "    ridge.fit(X_train, Y_train)\n",
    "    ridge_cofficients.append(ridge.coef_)\n",
    "#print(ridge_cofficients)\n",
    "p1 = plt.figure(figsize=(10,8),dpi=100)## 确定画布大小\n",
    "ax = plt.subplot(1,1,1)\n",
    "\n",
    "ax.plot(alphas, ridge_cofficients)\n",
    "ax.set_xscale('log')\n",
    "#ax.set_xlim(ax.get_xlim()[::-1])  # reverse axis\n",
    "plt.xlabel('alpha')\n",
    "plt.ylabel('weights')\n",
    "plt.title('Ridge coefficients as a function of the regularization')\n",
    "plt.axis('tight')\n",
    "plt.show()"
   ]
  },
  {
   "cell_type": "code",
   "execution_count": 303,
   "metadata": {
    "ExecuteTime": {
     "end_time": "2021-05-18T19:16:42.312079Z",
     "start_time": "2021-05-18T19:16:41.713680Z"
    }
   },
   "outputs": [],
   "source": [
    "#为了找到最佳的lambda值,我们采用交叉验证方法\n",
    "#岭回归模型的交叉验\n",
    "alphas = list(10**np.linspace(-3,3,100))\n",
    "from sklearn.linear_model import RidgeCV\n",
    "#ridge_cv= RidgeCV(alphas = alphas, normalize=True, scoring='mean-squared_error, cv = 10)\n",
    "\n",
    "ridgecv=RidgeCV(alphas=alphas,cv=5)\n",
    "clf=ridgecv.fit(X_train,Y_train)\n",
    "#取出最佳的lambda值ridge best alpha =ridge cv.alpha\n",
    "ridge_best_alpha=ridgecv.alpha_\n",
    "ridge_best_alpha\n",
    "\n",
    "rcvb=Ridge(alpha=ridge_best_alpha)\n",
    "clf1=rcvb.fit(X_train,Y_train)"
   ]
  },
  {
   "cell_type": "code",
   "execution_count": 306,
   "metadata": {
    "ExecuteTime": {
     "end_time": "2021-05-18T19:17:47.306175Z",
     "start_time": "2021-05-18T19:17:47.297199Z"
    }
   },
   "outputs": [
    {
     "name": "stdout",
     "output_type": "stream",
     "text": [
      "   features  Ridge estimated coefficients\n",
      "0      CRIM                     -0.152847\n",
      "1        ZN                      0.039770\n",
      "2     INDUS                     -0.051566\n",
      "3      CHAS                      0.634287\n",
      "4       NOX                     -6.357149\n",
      "5        RM                      4.009259\n",
      "6       AGE                     -0.017092\n",
      "7       DIS                     -1.272979\n",
      "8       RAD                      0.327888\n",
      "9       TAX                     -0.014335\n",
      "10  PTRATIO                     -0.920537\n",
      "11        B                      0.011868\n",
      "12    LSTAT                     -0.484499\n"
     ]
    }
   ],
   "source": [
    "from sklearn.linear_model import Ridge\n",
    "clf = Ridge(alpha=ridge_best_alpha)\n",
    "modelr=clf.fit(X_train, Y_train)\n",
    "#显示各个变量的系数\n",
    "coefr = pd.DataFrame( zip(boston.feature_names, model1.coef_), columns=['features', 'Ridge estimated coefficients+CV'])\n",
    "print(coef1)"
   ]
  },
  {
   "cell_type": "code",
   "execution_count": 307,
   "metadata": {
    "ExecuteTime": {
     "end_time": "2021-05-18T19:17:49.125866Z",
     "start_time": "2021-05-18T19:17:49.118882Z"
    }
   },
   "outputs": [
    {
     "name": "stdout",
     "output_type": "stream",
     "text": [
      "训练集的可决系数：0.7327\n",
      "训练集的均方误差：23.1762\n",
      "训练集的平均绝对值误差：3.4077\n",
      "训练集的中位绝对值误差：2.6174\n"
     ]
    }
   ],
   "source": [
    "from sklearn.metrics import r2_score\n",
    "y_pred =modelr.predict(X_train)\n",
    "score = r2_score(Y_train, y_pred)\n",
    "print('训练集的可决系数：%.4f'%score)\n",
    "\n",
    "from sklearn.metrics import mean_squared_error\n",
    "mse = mean_squared_error(Y_train, y_pred)\n",
    "print('训练集的均方误差：%.4f'%mse)\n",
    "\n",
    "from sklearn.metrics import mean_absolute_error\n",
    "print('训练集的平均绝对值误差：{:.4f}'.format(mean_absolute_error(Y_train, y_pred)))  # MAE 平均绝对误差\n",
    "from sklearn.metrics import median_absolute_error\n",
    "print('训练集的中位绝对值误差：{:.4f}'.format(median_absolute_error(Y_train, y_pred)))  # 中值绝对误差"
   ]
  },
  {
   "cell_type": "code",
   "execution_count": null,
   "metadata": {},
   "outputs": [],
   "source": [
    "训练集的可决系数：0.7327\n",
    "训练集的均方误差：23.1732\n",
    "训练集的平均绝对值误差：3.4139\n",
    "训练集的中位绝对值误差：2.6438"
   ]
  },
  {
   "cell_type": "markdown",
   "metadata": {},
   "source": [
    "## Lasso"
   ]
  },
  {
   "cell_type": "markdown",
   "metadata": {},
   "source": [
    "Lasso（alpha = 1.0，*，fit_intercept = True，normalize = False，precompute = False，copy_X = True，max_iter = 1000，tol = 0.0001，warm_start = False，正= False，random_state = None，selection='cyclic')\n",
    "\n",
    "- (1 / (2 * n_samples)) * ||y - Xw||^2_2 + alpha * ||w||_1"
   ]
  },
  {
   "cell_type": "code",
   "execution_count": 26,
   "metadata": {
    "ExecuteTime": {
     "end_time": "2021-05-18T19:40:40.616367Z",
     "start_time": "2021-05-18T19:40:40.609387Z"
    },
    "run_control": {
     "marked": true
    }
   },
   "outputs": [
    {
     "data": {
      "text/plain": [
       "0.7306693217097966"
      ]
     },
     "execution_count": 26,
     "metadata": {},
     "output_type": "execute_result"
    }
   ],
   "source": [
    "from sklearn import linear_model\n",
    "\n",
    "reg = linear_model.Lasso(alpha=0.1)\n",
    "lasso_fit=reg.fit(X_train,Y_train)\n",
    "lasso_fit.coef_\n",
    "lasso_fit.score(X_train,Y_train)"
   ]
  },
  {
   "cell_type": "markdown",
   "metadata": {},
   "source": [
    "lasso_path(X, y, \\*, eps=0.001, n_alphas=100, alphas=None, precompute='auto', Xy=None, copy_X=True, coef_init=None, verbose=False, return_n_iter=False, positive=False, \\**params)"
   ]
  },
  {
   "cell_type": "code",
   "execution_count": 18,
   "metadata": {
    "ExecuteTime": {
     "end_time": "2021-05-18T19:36:13.740025Z",
     "start_time": "2021-05-18T19:36:13.538564Z"
    }
   },
   "outputs": [
    {
     "name": "stdout",
     "output_type": "stream",
     "text": [
      "Computing regularization path using the lasso...\n"
     ]
    },
    {
     "data": {
      "image/png": "[encoded data removed]",
      "text/plain": [
       "<Figure size 432x288 with 1 Axes>"
      ]
     },
     "metadata": {
      "needs_background": "light"
     },
     "output_type": "display_data"
    }
   ],
   "source": [
    "from itertools import cycle\n",
    "import numpy as np\n",
    "import matplotlib.pyplot as plt\n",
    "\n",
    "from sklearn.linear_model import lasso_path\n",
    "import sklearn\n",
    "from sklearn.datasets import load_boston\n",
    "#装载数据集\n",
    "boston = load_boston()\n",
    "\n",
    "#方法一:以数据原来的格式--数组的形式\n",
    "X = boston.data\n",
    "y = boston.target\n",
    "X /= X.std(axis=0)  # Standardize data (easier to set the l1_ratio parameter)\n",
    "from sklearn.model_selection import train_test_split\n",
    "X_train, X_test, Y_train, Y_test =train_test_split ( X, y, test_size=0.33) \n",
    "\n",
    "# Compute paths\n",
    "\n",
    "eps = 5e-3  # the smaller it is the longer is the path\n",
    "\n",
    "print(\"Computing regularization path using the lasso...\")\n",
    "alphas_lasso, coefs_lasso, _ = lasso_path(X, y, eps=eps, fit_intercept=False)\n",
    "\n",
    "\n",
    "# Display results\n",
    "\n",
    "plt.figure(1)\n",
    "colors = cycle(['b', 'r', 'g', 'c', 'k'])\n",
    "neg_log_alphas_lasso =  -np.log10(alphas_lasso)\n",
    "\n",
    "for coef_l, c in zip(coefs_lasso, colors):\n",
    "    l1 = plt.plot(neg_log_alphas_lasso, coef_l, c=c)\n",
    "    \n",
    "\n",
    "plt.xlabel('-Log(alpha)')\n",
    "plt.ylabel('coefficients')\n",
    "plt.title('Lasso  Paths')\n",
    "#plt.legend((l1[-1], l2[-1]), ('Lasso', 'Elastic-Net'), loc='lower left')\n",
    "plt.axis('tight')\n",
    "\n",
    "\n",
    "plt.show()"
   ]
  },
  {
   "cell_type": "code",
   "execution_count": 22,
   "metadata": {
    "ExecuteTime": {
     "end_time": "2021-05-18T19:39:13.926138Z",
     "start_time": "2021-05-18T19:39:13.865331Z"
    }
   },
   "outputs": [
    {
     "data": {
      "text/plain": [
       "0.7374345293226132"
      ]
     },
     "execution_count": 22,
     "metadata": {},
     "output_type": "execute_result"
    }
   ],
   "source": [
    "from sklearn.linear_model import LassoCV\n",
    "reg = LassoCV(cv=5, random_state=0).fit(X_train,Y_train)\n",
    "reg.score(X, y)"
   ]
  },
  {
   "cell_type": "markdown",
   "metadata": {},
   "source": [
    "# 逻辑回归"
   ]
  },
  {
   "cell_type": "markdown",
   "metadata": {},
   "source": [
    "## sklearn"
   ]
  },
  {
   "cell_type": "markdown",
   "metadata": {},
   "source": [
    "\\ min_ {w，c} \\ frac {1} {2} w ^ T w + C \\ sum_ {i = 1} ^ n \\ log（\\ exp（-y_i（X_i ^ T w + c））+ 1） \n",
    "\n",
    "LogisticRegression(penalty='l2', *, dual=False, tol=0.0001, C=1.0, fit_intercept=True, intercept_scaling=1, class_weight=None, random_state=None, solver='lbfgs', max_iter=100, multi_class='auto', verbose=0, warm_start=False, n_jobs=None, l1_ratio=None)"
   ]
  },
  {
   "cell_type": "code",
   "execution_count": 32,
   "metadata": {
    "ExecuteTime": {
     "end_time": "2021-05-18T19:59:48.291367Z",
     "start_time": "2021-05-18T19:59:48.267460Z"
    }
   },
   "outputs": [
    {
     "data": {
      "text/html": [
       "<div>\n",
       "<style scoped>\n",
       "    .dataframe tbody tr th:only-of-type {\n",
       "        vertical-align: middle;\n",
       "    }\n",
       "\n",
       "    .dataframe tbody tr th {\n",
       "        vertical-align: top;\n",
       "    }\n",
       "\n",
       "    .dataframe thead th {\n",
       "        text-align: right;\n",
       "    }\n",
       "</style>\n",
       "<table border=\"1\" class=\"dataframe\">\n",
       "  <thead>\n",
       "    <tr style=\"text-align: right;\">\n",
       "      <th></th>\n",
       "      <th>PassengerId</th>\n",
       "      <th>Survived</th>\n",
       "      <th>Pclass</th>\n",
       "      <th>Name</th>\n",
       "      <th>Sex</th>\n",
       "      <th>Age</th>\n",
       "      <th>SibSp</th>\n",
       "      <th>Parch</th>\n",
       "      <th>Ticket</th>\n",
       "      <th>Fare</th>\n",
       "      <th>Cabin</th>\n",
       "      <th>Embarked</th>\n",
       "    </tr>\n",
       "  </thead>\n",
       "  <tbody>\n",
       "    <tr>\n",
       "      <th>0</th>\n",
       "      <td>1</td>\n",
       "      <td>0</td>\n",
       "      <td>3</td>\n",
       "      <td>Braund, Mr. Owen Harris</td>\n",
       "      <td>male</td>\n",
       "      <td>22.0</td>\n",
       "      <td>1</td>\n",
       "      <td>0</td>\n",
       "      <td>A/5 21171</td>\n",
       "      <td>7.2500</td>\n",
       "      <td>NaN</td>\n",
       "      <td>S</td>\n",
       "    </tr>\n",
       "    <tr>\n",
       "      <th>1</th>\n",
       "      <td>2</td>\n",
       "      <td>1</td>\n",
       "      <td>1</td>\n",
       "      <td>Cumings, Mrs. John Bradley (Florence Briggs Th...</td>\n",
       "      <td>female</td>\n",
       "      <td>38.0</td>\n",
       "      <td>1</td>\n",
       "      <td>0</td>\n",
       "      <td>PC 17599</td>\n",
       "      <td>71.2833</td>\n",
       "      <td>C85</td>\n",
       "      <td>C</td>\n",
       "    </tr>\n",
       "    <tr>\n",
       "      <th>2</th>\n",
       "      <td>3</td>\n",
       "      <td>1</td>\n",
       "      <td>3</td>\n",
       "      <td>Heikkinen, Miss. Laina</td>\n",
       "      <td>female</td>\n",
       "      <td>26.0</td>\n",
       "      <td>0</td>\n",
       "      <td>0</td>\n",
       "      <td>STON/O2. 3101282</td>\n",
       "      <td>7.9250</td>\n",
       "      <td>NaN</td>\n",
       "      <td>S</td>\n",
       "    </tr>\n",
       "  </tbody>\n",
       "</table>\n",
       "</div>"
      ],
      "text/plain": [
       "   PassengerId  Survived  Pclass  \\\n",
       "0            1         0       3   \n",
       "1            2         1       1   \n",
       "2            3         1       3   \n",
       "\n",
       "                                                Name     Sex   Age  SibSp  \\\n",
       "0                            Braund, Mr. Owen Harris    male  22.0      1   \n",
       "1  Cumings, Mrs. John Bradley (Florence Briggs Th...  female  38.0      1   \n",
       "2                             Heikkinen, Miss. Laina  female  26.0      0   \n",
       "\n",
       "   Parch            Ticket     Fare Cabin Embarked  \n",
       "0      0         A/5 21171   7.2500   NaN        S  \n",
       "1      0          PC 17599  71.2833   C85        C  \n",
       "2      0  STON/O2. 3101282   7.9250   NaN        S  "
      ]
     },
     "execution_count": 32,
     "metadata": {},
     "output_type": "execute_result"
    }
   ],
   "source": [
    "import pandas as pd\n",
    "\n",
    "train=pd.read_csv('E:/Data/Titanic/train.csv',encoding='GBK')\n",
    "test=pd.read_csv('E:/Data/Titanic/test.csv',encoding='GBK')\n",
    "full=pd.concat([train,test],ignore_index=True)\n",
    "train.head(3)"
   ]
  },
  {
   "cell_type": "code",
   "execution_count": 44,
   "metadata": {
    "ExecuteTime": {
     "end_time": "2021-05-18T20:07:36.631878Z",
     "start_time": "2021-05-18T20:07:36.627924Z"
    }
   },
   "outputs": [],
   "source": [
    "import statsmodels.api as sm"
   ]
  },
  {
   "cell_type": "code",
   "execution_count": 57,
   "metadata": {
    "ExecuteTime": {
     "end_time": "2021-05-18T20:29:19.459741Z",
     "start_time": "2021-05-18T20:29:19.451762Z"
    }
   },
   "outputs": [],
   "source": [
    "\n",
    "mid = train['Age'].median()\n",
    "age = train['Age'].fillna(mid)\n",
    "age_test = test['Age'].fillna(mid)\n",
    "train['Age'] = age\n",
    "test['Age'] = age_test\n"
   ]
  },
  {
   "cell_type": "code",
   "execution_count": 59,
   "metadata": {
    "ExecuteTime": {
     "end_time": "2021-05-18T20:30:33.747056Z",
     "start_time": "2021-05-18T20:30:33.731104Z"
    }
   },
   "outputs": [
    {
     "data": {
      "text/html": [
       "<div>\n",
       "<style scoped>\n",
       "    .dataframe tbody tr th:only-of-type {\n",
       "        vertical-align: middle;\n",
       "    }\n",
       "\n",
       "    .dataframe tbody tr th {\n",
       "        vertical-align: top;\n",
       "    }\n",
       "\n",
       "    .dataframe thead th {\n",
       "        text-align: right;\n",
       "    }\n",
       "</style>\n",
       "<table border=\"1\" class=\"dataframe\">\n",
       "  <thead>\n",
       "    <tr style=\"text-align: right;\">\n",
       "      <th></th>\n",
       "      <th>PassengerId</th>\n",
       "      <th>Survived</th>\n",
       "      <th>Pclass</th>\n",
       "      <th>Name</th>\n",
       "      <th>Sex</th>\n",
       "      <th>Age</th>\n",
       "      <th>SibSp</th>\n",
       "      <th>Parch</th>\n",
       "      <th>Ticket</th>\n",
       "      <th>Fare</th>\n",
       "      <th>Cabin</th>\n",
       "      <th>Embarked</th>\n",
       "      <th>ismale</th>\n",
       "    </tr>\n",
       "  </thead>\n",
       "  <tbody>\n",
       "    <tr>\n",
       "      <th>0</th>\n",
       "      <td>1</td>\n",
       "      <td>0</td>\n",
       "      <td>3</td>\n",
       "      <td>Braund, Mr. Owen Harris</td>\n",
       "      <td>male</td>\n",
       "      <td>22.0</td>\n",
       "      <td>1</td>\n",
       "      <td>0</td>\n",
       "      <td>A/5 21171</td>\n",
       "      <td>7.2500</td>\n",
       "      <td>NaN</td>\n",
       "      <td>S</td>\n",
       "      <td>1</td>\n",
       "    </tr>\n",
       "    <tr>\n",
       "      <th>1</th>\n",
       "      <td>2</td>\n",
       "      <td>1</td>\n",
       "      <td>1</td>\n",
       "      <td>Cumings, Mrs. John Bradley (Florence Briggs Th...</td>\n",
       "      <td>female</td>\n",
       "      <td>38.0</td>\n",
       "      <td>1</td>\n",
       "      <td>0</td>\n",
       "      <td>PC 17599</td>\n",
       "      <td>71.2833</td>\n",
       "      <td>C85</td>\n",
       "      <td>C</td>\n",
       "      <td>0</td>\n",
       "    </tr>\n",
       "    <tr>\n",
       "      <th>2</th>\n",
       "      <td>3</td>\n",
       "      <td>1</td>\n",
       "      <td>3</td>\n",
       "      <td>Heikkinen, Miss. Laina</td>\n",
       "      <td>female</td>\n",
       "      <td>26.0</td>\n",
       "      <td>0</td>\n",
       "      <td>0</td>\n",
       "      <td>STON/O2. 3101282</td>\n",
       "      <td>7.9250</td>\n",
       "      <td>NaN</td>\n",
       "      <td>S</td>\n",
       "      <td>0</td>\n",
       "    </tr>\n",
       "    <tr>\n",
       "      <th>3</th>\n",
       "      <td>4</td>\n",
       "      <td>1</td>\n",
       "      <td>1</td>\n",
       "      <td>Futrelle, Mrs. Jacques Heath (Lily May Peel)</td>\n",
       "      <td>female</td>\n",
       "      <td>35.0</td>\n",
       "      <td>1</td>\n",
       "      <td>0</td>\n",
       "      <td>113803</td>\n",
       "      <td>53.1000</td>\n",
       "      <td>C123</td>\n",
       "      <td>S</td>\n",
       "      <td>0</td>\n",
       "    </tr>\n",
       "    <tr>\n",
       "      <th>4</th>\n",
       "      <td>5</td>\n",
       "      <td>0</td>\n",
       "      <td>3</td>\n",
       "      <td>Allen, Mr. William Henry</td>\n",
       "      <td>male</td>\n",
       "      <td>35.0</td>\n",
       "      <td>0</td>\n",
       "      <td>0</td>\n",
       "      <td>373450</td>\n",
       "      <td>8.0500</td>\n",
       "      <td>NaN</td>\n",
       "      <td>S</td>\n",
       "      <td>1</td>\n",
       "    </tr>\n",
       "  </tbody>\n",
       "</table>\n",
       "</div>"
      ],
      "text/plain": [
       "   PassengerId  Survived  Pclass  \\\n",
       "0            1         0       3   \n",
       "1            2         1       1   \n",
       "2            3         1       3   \n",
       "3            4         1       1   \n",
       "4            5         0       3   \n",
       "\n",
       "                                                Name     Sex   Age  SibSp  \\\n",
       "0                            Braund, Mr. Owen Harris    male  22.0      1   \n",
       "1  Cumings, Mrs. John Bradley (Florence Briggs Th...  female  38.0      1   \n",
       "2                             Heikkinen, Miss. Laina  female  26.0      0   \n",
       "3       Futrelle, Mrs. Jacques Heath (Lily May Peel)  female  35.0      1   \n",
       "4                           Allen, Mr. William Henry    male  35.0      0   \n",
       "\n",
       "   Parch            Ticket     Fare Cabin Embarked  ismale  \n",
       "0      0         A/5 21171   7.2500   NaN        S       1  \n",
       "1      0          PC 17599  71.2833   C85        C       0  \n",
       "2      0  STON/O2. 3101282   7.9250   NaN        S       0  \n",
       "3      0            113803  53.1000  C123        S       0  \n",
       "4      0            373450   8.0500   NaN        S       1  "
      ]
     },
     "execution_count": 59,
     "metadata": {},
     "output_type": "execute_result"
    }
   ],
   "source": [
    "ismale = (train['Sex'] == 'male').astype(int)\n",
    "ismale_test = (test['Sex'] == 'male').astype(int)\n",
    "train['ismale'] = ismale\n",
    "test['ismale'] = ismale_test\n",
    "train.head()\n"
   ]
  },
  {
   "cell_type": "code",
   "execution_count": 77,
   "metadata": {
    "ExecuteTime": {
     "end_time": "2021-05-18T20:44:25.953540Z",
     "start_time": "2021-05-18T20:44:25.931634Z"
    }
   },
   "outputs": [
    {
     "data": {
      "text/plain": [
       "LogisticRegression(C=1.0, class_weight=None, dual=False, fit_intercept=True,\n",
       "                   intercept_scaling=1, l1_ratio=None, max_iter=100,\n",
       "                   multi_class='auto', n_jobs=None, penalty='l2',\n",
       "                   random_state=None, solver='lbfgs', tol=0.0001, verbose=0,\n",
       "                   warm_start=False)"
      ]
     },
     "execution_count": 77,
     "metadata": {},
     "output_type": "execute_result"
    }
   ],
   "source": [
    "from sklearn.linear_model import LogisticRegression\n",
    "from sklearn.linear_model import LogisticRegressionCV\n",
    "from sklearn.tree import DecisionTreeClassifier\n",
    "\n",
    "pick = ['Pclass', 'Age', 'ismale']\n",
    "#从前面的数据分析看来，“Pclass”、“Age”、“ismale”这三个属性与是否幸存关系比较密切，因此选取这三列数作为自变量建模\n",
    "model = LogisticRegression()\n",
    "x_train=train[pick].values\n",
    "y_train=train.Survived\n",
    "x_train=sm.add_constant(x_train,prepend=False)\n",
    "#X_train.info\n",
    "model.fit(x_train, y_train)"
   ]
  },
  {
   "cell_type": "code",
   "execution_count": null,
   "metadata": {
    "ExecuteTime": {
     "end_time": "2021-05-18T21:36:14.322197Z",
     "start_time": "2021-05-18T21:36:14.303269Z"
    }
   },
   "outputs": [],
   "source": []
  },
  {
   "cell_type": "code",
   "execution_count": 80,
   "metadata": {
    "ExecuteTime": {
     "end_time": "2021-05-18T20:55:40.749773Z",
     "start_time": "2021-05-18T20:55:40.746750Z"
    }
   },
   "outputs": [],
   "source": [
    "b=model.coef_\n",
    "a=model.intercept_"
   ]
  },
  {
   "cell_type": "code",
   "execution_count": 81,
   "metadata": {
    "ExecuteTime": {
     "end_time": "2021-05-18T20:55:42.923383Z",
     "start_time": "2021-05-18T20:55:42.916409Z"
    }
   },
   "outputs": [
    {
     "data": {
      "text/plain": [
       "0.7878787878787878"
      ]
     },
     "execution_count": 81,
     "metadata": {},
     "output_type": "execute_result"
    }
   ],
   "source": [
    "\n",
    "y_predict = model.predict(x_train)\n",
    "(y_predict == y_train).mean()"
   ]
  },
  {
   "cell_type": "code",
   "execution_count": 87,
   "metadata": {
    "ExecuteTime": {
     "end_time": "2021-05-18T21:02:24.667614Z",
     "start_time": "2021-05-18T21:02:24.581851Z"
    }
   },
   "outputs": [
    {
     "name": "stdout",
     "output_type": "stream",
     "text": [
      "              precision    recall  f1-score   support\n",
      "\n",
      "           0       0.83      0.83      0.83       549\n",
      "           1       0.72      0.73      0.72       342\n",
      "\n",
      "    accuracy                           0.79       891\n",
      "   macro avg       0.78      0.78      0.78       891\n",
      "weighted avg       0.79      0.79      0.79       891\n",
      "\n"
     ]
    }
   ],
   "source": [
    "model = LogisticRegression()\n",
    "model.fit(x_train, y_train)\n",
    "y_predict_log=model.predict(x_train)\n",
    "from sklearn.metrics import classification_report\n",
    "print(classification_report(y_train,y_predict_log))\n"
   ]
  },
  {
   "cell_type": "code",
   "execution_count": 95,
   "metadata": {
    "ExecuteTime": {
     "end_time": "2021-05-18T21:12:18.180768Z",
     "start_time": "2021-05-18T21:12:18.174814Z"
    }
   },
   "outputs": [
    {
     "name": "stdout",
     "output_type": "stream",
     "text": [
      "Help on method decision_function in module sklearn.linear_model._base:\n",
      "\n",
      "decision_function(X) method of sklearn.linear_model._logistic.LogisticRegression instance\n",
      "    Predict confidence scores for samples.\n",
      "    \n",
      "    The confidence score for a sample is the signed distance of that\n",
      "    sample to the hyperplane.\n",
      "    \n",
      "    Parameters\n",
      "    ----------\n",
      "    X : array_like or sparse matrix, shape (n_samples, n_features)\n",
      "        Samples.\n",
      "    \n",
      "    Returns\n",
      "    -------\n",
      "    array, shape=(n_samples,) if n_classes == 2 else (n_samples, n_classes)\n",
      "        Confidence scores per (sample, class) combination. In the binary\n",
      "        case, confidence score for self.classes_[1] where >0 means this\n",
      "        class would be predicted.\n",
      "\n"
     ]
    }
   ],
   "source": [
    "from sklearn.metrics import confusion_matrix\n",
    "cnf_matrix = confusion_matrix(y_train,y_predict_log)\n",
    "cnf_matrix\n",
    "help(model.decision_function)"
   ]
  },
  {
   "cell_type": "code",
   "execution_count": 96,
   "metadata": {
    "ExecuteTime": {
     "end_time": "2021-05-18T21:15:19.669717Z",
     "start_time": "2021-05-18T21:15:19.657749Z"
    }
   },
   "outputs": [
    {
     "name": "stdout",
     "output_type": "stream",
     "text": [
      "[-2.0779864   2.20066132  0.31074739  2.29881469 -2.50331771 -2.27429316\n",
      " -0.84242833 -1.42363055  0.2780296   1.84462462  1.03053883  1.54630546\n",
      " -2.01255082 -2.63418888  0.7033609   0.50319513 -1.42363055 -1.13302944\n",
      "  0.14715843  0.24531181 -1.36205399 -1.3293362   0.67064311  0.00823428\n",
      "  0.89966766 -0.08186612 -2.27429316  0.30269441  0.24531181 -2.27429316\n",
      " -0.38437923  2.52783924  0.24531181 -2.37630556  0.00823428 -0.44981482\n",
      " -2.27429316 -2.04526861  0.57248973  0.7033609  -0.1473017   1.41929332\n",
      " -2.27429316  2.20452034  0.53977194 -2.27429316 -2.27429316  0.24531181\n",
      " -2.27429316  0.57248973 -1.58721951 -2.04526861  1.8407656   1.35385773\n",
      " -1.20232405  0.00823428  1.61560007 -2.29065205  2.13908475 -1.71809068\n",
      " -2.0779864   2.20066132 -0.5479682  -1.48906614  0.00823428 -2.27429316\n",
      "  1.35385773 -1.97983302  0.60520753 -2.20885757 -1.26390061  0.63792532\n",
      " -0.90400489 -2.20885757 -2.40516433 -2.17613978 -2.27429316 -2.27429316\n",
      " -0.24408702  0.17987622 -2.0779864  -2.30701095  0.24531181  0.00823428\n",
      "  1.74647124  0.08172284 -1.88167965 -2.27429316  2.6914282  -2.14342199\n",
      " -2.30701095 -2.01255082 -0.58068599 -2.20885757 -3.28854473 -2.27429316\n",
      " -1.3986308   0.17182324  1.19026877 -1.3293362   0.24531181 -2.27429316\n",
      "  0.23725882 -2.43788212 -2.56875329 -2.27429316  0.47433636 -2.27429316\n",
      " -2.60147108  0.24531181 -0.61340378  0.68700201 -2.0779864   0.50705415\n",
      "  0.60520753 -2.04526861 -3.66479934 -1.16574723  0.13910545  1.09597441\n",
      " -0.90400489 -2.27429316 -1.28025951  1.23934546 -0.84242833 -1.75080848\n",
      " -2.27429316 -2.14342199  0.24531181 -2.83049563 -2.43788212 -2.01255082\n",
      " -0.37632625  1.35385773 -1.03487606 -0.96944048  2.82229937 -0.28622586\n",
      " -1.88167965  0.13910545  0.24531181  0.44161856  0.37618298 -1.97983302\n",
      " -0.80585151 -0.83856931 -2.24157536  0.86694987 -1.41113068 -1.59107854\n",
      " -1.88553867  2.724146   -3.17403245 -2.68326556 -2.27429316 -0.74427495\n",
      "  0.63792532 -2.33972874 -2.27429316 -2.27429316 -2.79777784  0.99396201\n",
      " -2.20885757 -1.91439744 -1.39091276 -1.6526551   2.52783924 -0.31089067\n",
      "  0.00823428 -2.27429316 -1.07145288 -1.48906614  1.12869221 -2.04526861\n",
      " -0.90786391 -1.94711523 -2.27429316  1.80804781 -1.19846503 -2.5360355\n",
      "  0.24531181 -1.13302944 -1.6526551  -0.24964904  1.03053883  0.00823428\n",
      "  0.24531181 -0.5479682  -2.66690667 -2.5360355   1.25570435 -0.83856931\n",
      "  0.53977194 -0.31508463  2.00435456  1.54630546 -2.27429316 -2.73234225\n",
      "  0.24531181  1.51744669 -2.27429316 -2.27429316 -2.47059991 -2.84685453\n",
      " -1.94711523  1.09597441 -2.40516433 -2.20885757  0.63792532 -0.38437923\n",
      " -2.14342199  1.15755098 -2.0779864  -1.19846503 -2.27429316  2.42968586\n",
      "  0.2780296  -1.59107854  2.39696807 -1.19846503 -1.88167965 -1.10031165\n",
      " -3.02680239 -2.27429316 -0.31894365 -2.0779864  -0.83856931 -2.02890971\n",
      " -0.80585151  0.24531181  2.29881469 -2.30701095 -2.14728101  0.99782104\n",
      " -1.00215827  0.24531181 -1.65651412  2.04093138 -0.83856931 -1.2966184\n",
      "  0.24531181  0.24531181 -1.16574723 -2.0779864  -2.33972874 -0.5152504\n",
      "  0.34346519  1.51744669 -0.28622586 -1.98369205 -2.27429316  0.21259401\n",
      " -1.10417067 -2.33972874 -0.1800195   0.21259401  2.52783924  2.46240366\n",
      "  2.29881469  0.66678409 -2.27429316 -1.45634834 -0.77699274 -0.38437923\n",
      "  0.24531181 -1.39477178 -1.88167965 -2.17613978  1.54630546  2.29881469\n",
      "  0.00823428 -2.17613978  0.96124422 -0.28622586  0.24531181  1.3827165\n",
      " -0.31089067 -1.13302944 -1.58721951  0.01628726 -3.48485148 -2.27429316\n",
      " -1.88167965 -1.97983302  0.00823428 -2.43788212 -2.33972874 -2.0779864\n",
      " -1.59107854  0.44161856  2.59327483  2.82229937 -1.39477178  0.37618298\n",
      " -2.14342199  0.00823428 -2.12706309  3.37850185  0.00823428  1.80804781\n",
      "  0.24531181 -2.27429316 -1.97983302  1.38657552 -2.27429316  0.8942321\n",
      "  2.52783924  2.88773496 -1.19846503  2.46240366  2.65871041  2.85501717\n",
      "  1.45201111 -2.27429316 -1.62379633  0.31074739  1.51744669 -1.98369205\n",
      "  2.42968586  2.13522573 -2.0779864  -2.24157536  1.32113994  1.58288228\n",
      " -2.27429316  2.2660969  -3.35398031  1.12483318  0.14715843  2.92045275\n",
      "  0.24531181 -0.56432709 -0.31894365 -1.88167965  2.52783924 -2.27429316\n",
      " -0.02448352  2.10250794 -2.83049563 -0.5479682  -0.28236683  2.65871041\n",
      " -1.13302944 -1.03487606 -1.39477178  1.51744669  0.99396201  0.24531181\n",
      " -1.45634834 -2.73234225 -2.11070419  0.00823428 -1.84896185 -2.17613978\n",
      " -2.27429316 -2.27429316  2.724146    1.0593976   0.24531181  0.24531181\n",
      " -2.66690667 -1.16574723 -0.31089067 -2.50331771 -2.27429316 -2.33972874\n",
      "  1.48086988  0.24531181  0.24531181  2.65871041  0.10638765 -1.94711523\n",
      " -1.97983302  0.20454103  1.06325662  2.52783924  0.44161856  0.04095207\n",
      " -2.01255082 -1.97983302  2.06979015  1.12869221 -2.40516433  2.29881469\n",
      " -2.27429316 -0.80585151 -1.39091276  1.12483318 -2.27429316  1.74647124\n",
      " -0.25350806 -2.04526861 -2.27429316  2.6914282   0.37618298 -2.0779864\n",
      "  0.14715843 -1.72194971 -0.96944048  1.38657552 -2.63418888 -2.20885757\n",
      "  0.47433636 -2.27429316  0.50705415 -1.3293362  -3.02680239 -0.31508463\n",
      " -2.04526861  0.24531181 -2.27429316 -2.27429316  2.36425028 -1.13302944\n",
      " -2.79777784  0.24531181  1.19026877  1.71375345 -1.19846503  0.83423207\n",
      " -2.27429316 -2.04526861 -2.30701095  0.24531181 -1.94711523 -2.27429316\n",
      "  1.38657552  1.68103566 -2.27429316 -2.40516433  0.00823428  0.24531181\n",
      "  0.92852643 -1.91439744 -0.71155716  2.98588834  0.47433636  1.51744669\n",
      " -1.16960626 -1.23118282  0.83037305 -2.01255082 -2.17613978  1.38657552\n",
      " -2.27429316  0.7934613   1.87734241 -0.18807248  0.99782104 -0.77699274\n",
      " -1.39477178 -2.27429316 -0.05720131 -0.67883937 -2.27429316 -2.30701095\n",
      " -1.20232405  2.52783924  0.66678409 -2.27429316 -0.64612157 -2.47059991\n",
      " -0.61340378 -1.78738529 -2.27429316 -2.60147108 -1.13302944 -0.90786391\n",
      " -2.27429316  1.13687165 -2.27429316 -2.60147108  1.22298656  1.55016449\n",
      "  0.44161856  0.00823428 -1.3293362  -2.30701095 -2.0779864   1.09597441\n",
      " -1.6526551  -1.13302944 -2.99408459 -0.89981093  0.10638765  0.24531181\n",
      "  2.29881469 -0.9732995  -2.33972874 -1.6526551  -2.27429316 -2.04526861\n",
      " -0.87514612 -1.3986308  -2.04526861 -2.27429316  1.67717664 -2.27429316\n",
      "  2.62599262 -2.14342199 -1.91439744  0.47433636  0.24531181 -0.04914833\n",
      "  2.92045275  0.3354122   1.22298656  0.00823428 -2.27429316 -2.20885757\n",
      " -2.30701095 -2.27429316 -0.25350806  1.67717664 -2.14342199 -0.61340378\n",
      "  1.19026877 -2.27429316  1.12483318 -2.40516433  2.46240366 -2.0779864\n",
      " -2.27429316  2.00435456 -2.27429316 -2.68326556  0.66678409  0.00823428\n",
      " -2.63418888 -0.96944048  2.23723813 -2.27429316 -1.91439744  0.24531181\n",
      "  0.17987622  2.07364917 -0.5479682   2.46240366 -2.27429316  2.724146\n",
      "  2.2660969   0.86694987  0.80151428 -1.26390061 -0.71155716 -1.16960626\n",
      "  1.68103566 -1.13302944 -2.43788212 -0.47867359  0.36813    -1.10031165\n",
      " -2.27429316 -2.0779864   0.44161856 -1.10417067  1.87348339  0.00823428\n",
      "  2.16794352 -0.01643053 -2.27429316 -2.66690667 -1.13302944 -2.27429316\n",
      "  0.24531181 -2.14342199 -1.97983302  0.21259401 -2.27429316 -2.40516433\n",
      " -2.24543439  1.70989443 -0.25350806  0.24531181 -1.88167965 -1.97983302\n",
      "  1.19026877  2.16794352  0.24531181 -2.40516433  1.4847289   2.16794352\n",
      " -1.98369205 -0.25350806 -2.27429316  2.85501717 -1.7546675  -1.03873509\n",
      " -2.0779864  -2.27429316 -2.50331771  1.74261222 -2.89593122  0.24531181\n",
      " -1.42748957 -2.5360355   1.38657552 -2.9613668  -2.27429316 -0.67883937\n",
      "  1.51744669 -2.27429316  0.00823428 -2.79777784 -0.22079027 -2.5360355\n",
      " -2.33972874  0.04095207  1.58288228  2.13522573 -0.11458391 -2.27429316\n",
      "  0.24531181 -2.27429316 -2.50331771  1.51744669 -2.47059991  0.31074739\n",
      "  2.17180255 -1.06759386 -2.24157536 -0.44981482 -2.01255082 -2.04526861\n",
      " -2.04526861 -1.07145288 -2.08184542  2.75686379 -2.20885757 -2.27429316\n",
      " -1.69309094 -3.02680239 -0.12263689  0.00823428  0.86694987  1.38657552\n",
      " -2.40516433 -1.23118282 -0.1800195  -2.27429316 -2.01255082  2.65871041\n",
      "  1.09597441 -2.27429316  1.13687165 -0.64612157 -1.97983302 -0.90786391\n",
      " -2.27429316  0.40890077 -2.27429316  1.71375345 -2.04526861  0.24531181\n",
      "  0.57248973 -1.00215827 -2.27429316  0.11444064 -0.96944048 -0.9732995\n",
      " -0.71155716 -2.66690667 -0.61340378 -2.5360355  -2.01255082 -1.26390061\n",
      " -1.03487606 -2.27429316 -2.76506005  2.52783924  0.99396201 -0.0899191\n",
      " -2.50717673 -1.23118282 -1.13302944 -1.94711523 -2.15978088  0.57248973\n",
      " -0.24545508 -0.25350806  0.24531181  0.04095207 -2.01255082 -1.81624406\n",
      " -2.1799988  -1.03487606 -1.81624406 -1.97983302 -1.94711523  2.95317055\n",
      " -0.0899191   1.03053883 -2.27429316 -2.17613978 -1.03873509 -1.91825646\n",
      " -2.79777784  0.24531181 -0.67883937 -2.73234225  2.85501717 -0.22079027\n",
      "  0.57248973 -2.17613978 -2.20885757 -1.49292516  0.83037305 -0.44981482\n",
      "  2.724146   -2.27429316  2.65871041  0.00823428 -0.64612157 -2.30701095\n",
      " -1.91825646 -1.97983302  2.20066132  1.41929332 -2.27429316 -2.43788212\n",
      "  2.10636696 -1.91439744 -1.3293362  -1.85282088  0.04095207 -2.01255082\n",
      "  1.32113994  0.24531181 -1.03487606  0.34346519  2.49512145 -1.71809068\n",
      " -1.13302944 -0.96944048 -0.96944048 -2.29065205 -0.40904404 -0.22079027\n",
      " -2.27429316 -2.27429316  0.00823428 -0.25350806  2.75686379 -2.14342199\n",
      " -2.37244654 -1.36591301 -1.88167965  1.32113994  0.30269441 -2.37244654\n",
      "  2.17180255 -1.55450172 -2.43788212 -2.11070419  0.73221967 -0.23885217\n",
      " -2.27429316 -0.80585151 -2.47059991  2.36425028 -2.27429316 -2.69962446\n",
      " -2.01255082  2.2660969  -1.88167965  1.77533001  0.00823428  0.16351733\n",
      " -2.27429316 -2.40516433 -2.14342199 -2.92864901  0.43775954 -2.27429316\n",
      "  0.53591292 -1.94711523 -2.27429316  0.99782104 -2.27429316  2.03707235\n",
      "  0.7360787   2.88773496 -0.02448352 -2.27429316 -2.17613978 -2.17613978\n",
      "  0.57248973 -1.61993731 -1.39091276 -0.58068599 -2.27429316 -0.74041593\n",
      "  0.24531181  0.00823428 -2.17613978 -1.49292516  1.8407656   0.14715843\n",
      " -2.33972874  0.17987622 -1.3293362   1.28842215  0.56443675 -1.37193644\n",
      " -2.24157536 -2.37244654 -0.35166144  0.57248973 -1.49292516  2.36425028\n",
      " -2.20885757 -2.63418888 -1.36205399  0.96510324 -2.35608764  0.00823428\n",
      "  0.40890077 -1.23118282 -2.76506005 -1.68537289  1.74261222 -2.24157536\n",
      " -0.31894365  0.2780296  -1.42363055 -2.27429316 -2.27429316 -0.24964904\n",
      " -2.27429316  1.41543429  0.67064311 -0.24408702 -2.27429316 -2.11070419\n",
      " -1.94711523  2.16794352 -2.04526861 -2.27429316 -2.40516433  0.00823428\n",
      " -2.01255082 -0.74041593  2.46240366 -2.48695881 -1.91439744 -2.73234225\n",
      " -2.27429316 -2.50331771 -1.13302944  2.52783924 -1.48906614 -3.77931162\n",
      "  0.86694987  2.92045275  0.86309084  0.57248973  1.97163677 -0.74427495\n",
      "  0.37618298 -2.27429316 -2.69962446 -0.90400489  1.87348339  0.24531181\n",
      " -1.00215827  0.92852643  1.41929332 -0.0899191  -2.27429316 -1.48906614\n",
      " -2.20885757  1.90620118 -0.15535469 -2.89593122  1.38657552  0.67064311\n",
      " -2.01255082 -1.97983302 -2.27429316  1.61174105  1.4847289  -2.43788212\n",
      "  0.44161856 -1.13302944 -2.17613978 -0.11458391 -1.10031165  2.82229937\n",
      "  0.24531181  0.07366986 -2.40516433]\n"
     ]
    }
   ],
   "source": [
    "decision_scores = model.decision_function(x_train)\n",
    "print(decision_scores)\n",
    "\n",
    "from sklearn.metrics import precision_recall_curve\n",
    "\n",
    "precisions,recalls,thresholds = precision_recall_curve(y_train,decision_scores)\n",
    "#Returns\n",
    "#precision ndarray of shape (n_thresholds + 1,)Precision values such that element i is the precision of predictions with score >= thresholds[i] and the last element is 1.\n",
    "\n",
    "#recall ndarray of shape (n_thresholds + 1,)Decreasing recall values such that element i is the recall of predictions with score >= thresholds[i] and the last element is 0.\n",
    "\n",
    "#thresholds ndarray of shape (n_thresholds,)"
   ]
  },
  {
   "cell_type": "code",
   "execution_count": 92,
   "metadata": {
    "ExecuteTime": {
     "end_time": "2021-05-18T21:05:49.317596Z",
     "start_time": "2021-05-18T21:05:49.203901Z"
    }
   },
   "outputs": [
    {
     "data": {
      "image/png": "[encoded data removed]",
      "text/plain": [
       "<Figure size 432x288 with 1 Axes>"
      ]
     },
     "metadata": {
      "needs_background": "light"
     },
     "output_type": "display_data"
    }
   ],
   "source": [
    "plt.plot(thresholds,precisions[:-1])\n",
    "plt.plot(thresholds,recalls[:-1])\n",
    "plt.grid()\n",
    "plt.show() "
   ]
  },
  {
   "cell_type": "code",
   "execution_count": 94,
   "metadata": {
    "ExecuteTime": {
     "end_time": "2021-05-18T21:07:52.724546Z",
     "start_time": "2021-05-18T21:07:52.581929Z"
    }
   },
   "outputs": [
    {
     "data": {
      "image/png": "[encoded data removed]",
      "text/plain": [
       "<Figure size 640x480 with 1 Axes>"
      ]
     },
     "metadata": {
      "needs_background": "light"
     },
     "output_type": "display_data"
    }
   ],
   "source": [
    "from sklearn.metrics import roc_curve\n",
    "import matplotlib.pyplot as plt\n",
    "plt.rcParams['font.family']='SimHei'# 用黑体显示中文\n",
    "plt.rcParams['font.sans-serif']=['SimHei']\n",
    "plt.rcParams['axes.unicode_minus']=False  #解决负号问题\n",
    "\n",
    "fprs,tprs,thresholds = roc_curve(y_train,decision_scores)\n",
    "def plot_roc_curve(fprs,tprs):\n",
    "    plt.figure(figsize=(8,6),dpi=80)\n",
    "    plt.plot(fprs,tprs)\n",
    "    plt.plot([0,1],linestyle='--')\n",
    "    plt.xticks(fontsize=13)\n",
    "    plt.yticks(fontsize=13)\n",
    "    plt.ylabel('TP rate',fontsize=15)\n",
    "    plt.xlabel('FP rate',fontsize=15)\n",
    "    plt.title('ROC曲线',fontsize=17)\n",
    "    plt.show()\n",
    "    \n",
    "plot_roc_curve(fprs,tprs)\n"
   ]
  },
  {
   "cell_type": "markdown",
   "metadata": {},
   "source": [
    "## statsmodels"
   ]
  },
  {
   "cell_type": "code",
   "execution_count": 78,
   "metadata": {
    "ExecuteTime": {
     "end_time": "2021-05-18T20:44:31.818273Z",
     "start_time": "2021-05-18T20:44:31.804311Z"
    }
   },
   "outputs": [
    {
     "name": "stdout",
     "output_type": "stream",
     "text": [
      "                 Generalized Linear Model Regression Results                  \n",
      "==============================================================================\n",
      "Dep. Variable:               Survived   No. Observations:                  891\n",
      "Model:                            GLM   Df Residuals:                      887\n",
      "Model Family:                Binomial   Df Model:                            3\n",
      "Link Function:                  logit   Scale:                          1.0000\n",
      "Method:                          IRLS   Log-Likelihood:                -402.79\n",
      "Date:                Wed, 19 May 2021   Deviance:                       805.59\n",
      "Time:                        04:44:31   Pearson chi2:                     929.\n",
      "No. Iterations:                     5                                         \n",
      "Covariance Type:            nonrobust                                         \n",
      "==============================================================================\n",
      "                 coef    std err          z      P>|z|      [0.025      0.975]\n",
      "------------------------------------------------------------------------------\n",
      "x1            -1.1717      0.119     -9.820      0.000      -1.406      -0.938\n",
      "x2            -0.0333      0.007     -4.519      0.000      -0.048      -0.019\n",
      "x3            -2.6123      0.187    -14.006      0.000      -2.978      -2.247\n",
      "const          4.7247      0.450     10.504      0.000       3.843       5.606\n",
      "==============================================================================\n"
     ]
    }
   ],
   "source": [
    "glm=sm.GLM(y_train,x_train,family=sm.families.Binomial())\n",
    "res=glm.fit()\n",
    "print(res.summary())"
   ]
  },
  {
   "cell_type": "code",
   "execution_count": null,
   "metadata": {},
   "outputs": [],
   "source": []
  }
 ],
 "metadata": {
  "kernelspec": {
   "display_name": "Python 3",
   "language": "python",
   "name": "python3"
  },
  "language_info": {
   "codemirror_mode": {
    "name": "ipython",
    "version": 3
   },
   "file_extension": ".py",
   "mimetype": "text/x-python",
   "name": "python",
   "nbconvert_exporter": "python",
   "pygments_lexer": "ipython3",
   "version": "3.7.6"
  },
  "latex_envs": {
   "LaTeX_envs_menu_present": true,
   "autoclose": false,
   "autocomplete": true,
   "bibliofile": "biblio.bib",
   "cite_by": "apalike",
   "current_citInitial": 1,
   "eqLabelWithNumbers": true,
   "eqNumInitial": 1,
   "hotkeys": {
    "equation": "Ctrl-E",
    "itemize": "Ctrl-I"
   },
   "labels_anchors": false,
   "latex_user_defs": false,
   "report_style_numbering": false,
   "user_envs_cfg": false
  },
  "nbTranslate": {
   "displayLangs": [
    "*"
   ],
   "hotkey": "alt-t",
   "langInMainMenu": true,
   "sourceLang": "en",
   "targetLang": "fr",
   "useGoogleTranslate": true
  },
  "toc": {
   "base_numbering": 1,
   "nav_menu": {},
   "number_sections": true,
   "sideBar": true,
   "skip_h1_title": false,
   "title_cell": "Table of Contents",
   "title_sidebar": "Contents",
   "toc_cell": false,
   "toc_position": {
    "height": "calc(100% - 180px)",
    "left": "10px",
    "top": "150px",
    "width": "284.444px"
   },
   "toc_section_display": true,
   "toc_window_display": true
  }
 },
 "nbformat": 4,
 "nbformat_minor": 4
}
