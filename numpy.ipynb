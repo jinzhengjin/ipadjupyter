{
 "cells": [
  {
   "cell_type": "markdown",
   "metadata": {
    "ExecuteTime": {
     "end_time": "2021-03-29T06:53:51.980746Z",
     "start_time": "2021-03-29T06:53:51.974774Z"
    }
   },
   "source": [
    "# numpy 编程基础\n",
    "- NumPy 官网 http://www.numpy.org/\n",
    "- NumPy 源代码：https://github.com/numpy/numpy\n",
    "- 科学计算和数据分析的基础包"
   ]
  },
  {
   "cell_type": "markdown",
   "metadata": {},
   "source": [
    "- 数组是numpy库的中央数据结构。数组是值的网格，它包含有关原始数据，如何定位元素以及如何解释元素的信息。它具有可以以各种方式建立索引的元素网格。元素都是相同的类型，称为array dtype。\n",
    "- ndarray ('n维数组' 的简写)是numpy的核心概念，它是一系列<span class=\"burk\">同类型数据</span>组成的数组，可以是一维或多维数组\n",
    "- 结构数组允许异质数组结构 "
   ]
  },
  {
   "cell_type": "code",
   "execution_count": 264,
   "metadata": {
    "ExecuteTime": {
     "end_time": "2021-04-01T13:07:36.595158Z",
     "start_time": "2021-04-01T13:07:36.588145Z"
    }
   },
   "outputs": [
    {
     "name": "stdout",
     "output_type": "stream",
     "text": [
      "调用numpy 模块或函数时，应该使用np.模块或者函数名称的方式。\n",
      "- -- -- -- -- -- -- -- -- -- -- -- -- -- -- -- -- -- -- -- -- -- -- -- -- -- -- -- -- -- -\n",
      "查看numpy模块内的函数。\n",
      "- -- -- -- -- -- -- -- -- -- -- -- -- -- -- -- -- -- -- -- -- -- -- -- -- -- -- -- -- -- -\n",
      "查看numpy模块的版本。\n"
     ]
    },
    {
     "data": {
      "text/plain": [
       "'1.18.1'"
      ]
     },
     "execution_count": 264,
     "metadata": {},
     "output_type": "execute_result"
    }
   ],
   "source": [
    "import numpy as np \n",
    "print('''调用numpy 模块或函数时，应该使用np.模块或者函数名称的方式。''')\n",
    "print(\"- -\"*30)\n",
    "print('''查看numpy模块内的函数。''')\n",
    "a = dir(np)\n",
    "#print(a)\n",
    "print(\"- -\"*30)\n",
    "print('''查看numpy模块的版本。''')\n",
    "np.__version__"
   ]
  },
  {
   "cell_type": "markdown",
   "metadata": {},
   "source": [
    "# 数组的创建"
   ]
  },
  {
   "cell_type": "markdown",
   "metadata": {},
   "source": [
    "## 创建一维数组"
   ]
  },
  {
   "cell_type": "code",
   "execution_count": 35,
   "metadata": {
    "ExecuteTime": {
     "end_time": "2021-03-29T09:21:51.149201Z",
     "start_time": "2021-03-29T09:21:51.144243Z"
    }
   },
   "outputs": [
    {
     "name": "stdout",
     "output_type": "stream",
     "text": [
      "- -- -- -- -- -- -- -- -- -- -- -- -- -- -- - 用普通方法生成一维数组 - -- -- -- -- -- -- -- -- -- -- -- -- -- -- -\n",
      "[0, 0, 0, 0]\n",
      "列表中的元素类型可以不相同 ['Li', 1, 2, 3, 3.2]\n",
      "- -- -- -- -- -- -- -- -- -- -- -- -- -- -- - 下面介绍numpy模块创建数组的方法 - -- -- -- -- -- -- -- -- -- -- -- -- -- -- -\n"
     ]
    }
   ],
   "source": [
    "print(\"- -\"*15,'用普通方法生成一维数组',\"- -\"*15)  # 分割线\n",
    "num = [0 for i in range(1,5)]  # 创建一维数组\n",
    "print(num)  # 打印数组\n",
    "num1 = ['Li',1,2,3,3.2]\n",
    "print('列表中的元素类型可以不相同',num1)\n",
    "print(\"- -\"*15,'下面介绍numpy模块创建数组的方法',\"- -\"*15)  # 分割线"
   ]
  },
  {
   "cell_type": "markdown",
   "metadata": {},
   "source": [
    "### arange()方法\n",
    "- 语法    numpy.arange(start, stop, step, dtype = None)\n",
    "- 在给定间隔内返回均匀间隔的值，值在包括start但不包括stop的区间,返回的是 ndarray 。"
   ]
  },
  {
   "cell_type": "code",
   "execution_count": 38,
   "metadata": {
    "ExecuteTime": {
     "end_time": "2021-03-29T09:29:07.948572Z",
     "start_time": "2021-03-29T09:29:07.943585Z"
    }
   },
   "outputs": [
    {
     "data": {
      "text/plain": [
       "array([0, 1, 2, 3, 4, 5, 6, 7, 8, 9])"
      ]
     },
     "execution_count": 38,
     "metadata": {},
     "output_type": "execute_result"
    }
   ],
   "source": [
    "import numpy as np \n",
    "v = np.arange(10,dtype=int)\n",
    "v"
   ]
  },
  {
   "cell_type": "code",
   "execution_count": 23,
   "metadata": {
    "ExecuteTime": {
     "end_time": "2021-03-29T08:57:38.719823Z",
     "start_time": "2021-03-29T08:57:38.714808Z"
    }
   },
   "outputs": [
    {
     "data": {
      "text/plain": [
       "array([0. , 2.5, 5. , 7.5])"
      ]
     },
     "execution_count": 23,
     "metadata": {},
     "output_type": "execute_result"
    }
   ],
   "source": [
    "import numpy as np \n",
    "v = np.arange(10,step=2.5,dtype=float)\n",
    "v.dtype\n",
    "v"
   ]
  },
  {
   "cell_type": "markdown",
   "metadata": {
    "ExecuteTime": {
     "end_time": "2021-03-29T07:17:38.843586Z",
     "start_time": "2021-03-29T07:17:38.839595Z"
    }
   },
   "source": [
    "### linspace()方法: 产生等差数列\n",
    "- 语法 linspace(start, stop, num=50, endpoint=True, retstep=False, dtype=None)\n",
    "- retstep : bool. If True, return (`samples`, `step`), where `step` is the spacing between samples. retstep会改变计算的输出，输出一个元组，而元组的两个元素分别是需要生成的数列和数列的步进差值。\n"
   ]
  },
  {
   "cell_type": "code",
   "execution_count": 45,
   "metadata": {
    "ExecuteTime": {
     "end_time": "2021-03-29T09:38:42.213210Z",
     "start_time": "2021-03-29T09:38:42.208224Z"
    },
    "scrolled": true
   },
   "outputs": [
    {
     "data": {
      "text/plain": [
       "array([ 1.,  3.,  5.,  7.,  9., 11., 13., 15., 17., 19.])"
      ]
     },
     "execution_count": 45,
     "metadata": {},
     "output_type": "execute_result"
    }
   ],
   "source": [
    "a = np.linspace(1,19,10)\n",
    "a"
   ]
  },
  {
   "cell_type": "markdown",
   "metadata": {},
   "source": [
    "###  logspace()方法：产生等比数列"
   ]
  },
  {
   "cell_type": "code",
   "execution_count": 147,
   "metadata": {
    "ExecuteTime": {
     "end_time": "2021-03-29T14:50:27.717033Z",
     "start_time": "2021-03-29T14:50:27.677139Z"
    }
   },
   "outputs": [
    {
     "data": {
      "text/plain": [
       "array([  2.71828183,   7.3890561 ,  20.08553692,  54.59815003,\n",
       "       148.4131591 ])"
      ]
     },
     "execution_count": 147,
     "metadata": {},
     "output_type": "execute_result"
    }
   ],
   "source": [
    "#可直接创建一维的由等比数列组成的数组，可指定开始和结束数值，以及数列包含的数字数量\n",
    "'''np.logspace(\n",
    "    start, #序列的起始值\n",
    "    stop, #序列的终止值为：base ** stop。如果endpoint为true，该值包含于数列中\n",
    "    num=50, #要生成的等步长的样本数量，默认为50\n",
    "    endpoint=True, #该值为 true 时，数列中中包含stop值，反之不包含，默认是True。\n",
    "    base=10.0,  #对数 log 的底数。\n",
    "    dtype=None #不再赘述\n",
    ")\n",
    " '''\n",
    "import numpy as np\n",
    "from math import e\n",
    "np.logspace(1,5,5,base=e)"
   ]
  },
  {
   "cell_type": "markdown",
   "metadata": {},
   "source": [
    "### 创建对角矩阵数组"
   ]
  },
  {
   "cell_type": "code",
   "execution_count": 152,
   "metadata": {
    "ExecuteTime": {
     "end_time": "2021-03-29T14:53:59.447364Z",
     "start_time": "2021-03-29T14:53:59.442346Z"
    }
   },
   "outputs": [
    {
     "data": {
      "text/plain": [
       "2"
      ]
     },
     "execution_count": 152,
     "metadata": {},
     "output_type": "execute_result"
    }
   ],
   "source": [
    "'''#可创建对角线矩阵\n",
    "np.eye(\n",
    "    N, #指定对角矩阵的行数\n",
    "    M=None, #指定对角矩阵的列数，默认与N相等\n",
    "    k=0, #对角线的索引，默认为0，即斜对角，如果赋予正值或负值，则会相对向右上或左下移动\n",
    "    dtype=float,  #不再赘述\n",
    "    order='C'\n",
    ")'''\n",
    " \n",
    "import numpy as np\n",
    "a = np.eye(5,dtype=int)\n",
    "a.ndim"
   ]
  },
  {
   "cell_type": "markdown",
   "metadata": {
    "ExecuteTime": {
     "end_time": "2021-03-29T07:17:59.371565Z",
     "start_time": "2021-03-29T07:17:59.367599Z"
    }
   },
   "source": [
    "### 特殊数组：全0/1数组\n",
    "- zeros数组：全零数组，元素全为零。\n",
    "- ones数组：全1数组，元素全为1。\n",
    "- empty数组：创建一个内容随机且依赖于内存状态的向量。\n",
    "- 以上三个函数均可以产生多元数组。"
   ]
  },
  {
   "cell_type": "code",
   "execution_count": 77,
   "metadata": {
    "ExecuteTime": {
     "end_time": "2021-03-29T10:11:29.834129Z",
     "start_time": "2021-03-29T10:11:29.829115Z"
    }
   },
   "outputs": [
    {
     "data": {
      "text/plain": [
       "array([0., 0., 0., 0., 0., 0., 0., 0., 0., 0.])"
      ]
     },
     "execution_count": 77,
     "metadata": {},
     "output_type": "execute_result"
    }
   ],
   "source": [
    "x = np.zeros(10)\n",
    "'''语法： zeros(shape, dtype=float, order='C')'''\n",
    "'''可以产生多元数组如 np.zeros((3,4))'''\n",
    "#help(np.zeros)\n",
    "x"
   ]
  },
  {
   "cell_type": "code",
   "execution_count": 67,
   "metadata": {
    "ExecuteTime": {
     "end_time": "2021-03-29T10:07:00.164880Z",
     "start_time": "2021-03-29T10:07:00.159893Z"
    }
   },
   "outputs": [
    {
     "data": {
      "text/plain": [
       "array([1., 1., 1., 1., 1., 1., 1., 1., 1., 1., 1., 1., 1., 1., 1., 1., 1.,\n",
       "       1., 1., 1.])"
      ]
     },
     "execution_count": 67,
     "metadata": {},
     "output_type": "execute_result"
    }
   ],
   "source": [
    "x = np.ones(20)\n",
    "x"
   ]
  },
  {
   "cell_type": "code",
   "execution_count": 76,
   "metadata": {
    "ExecuteTime": {
     "end_time": "2021-03-29T10:10:45.578275Z",
     "start_time": "2021-03-29T10:10:45.573288Z"
    }
   },
   "outputs": [
    {
     "data": {
      "text/plain": [
       "array([[ 1885941401,  1073308081, -2104352480,  1073094847],\n",
       "       [ 1507217317,  1072516558,   864273760,  1067754983],\n",
       "       [ -627551566,  1072153251,  1754293168,  1073418987]])"
      ]
     },
     "execution_count": 76,
     "metadata": {},
     "output_type": "execute_result"
    }
   ],
   "source": [
    "x1 = np.empty((3,4),np.int)\n",
    "x1"
   ]
  },
  {
   "cell_type": "markdown",
   "metadata": {},
   "source": [
    "### 随机数组"
   ]
  },
  {
   "cell_type": "code",
   "execution_count": 83,
   "metadata": {
    "ExecuteTime": {
     "end_time": "2021-03-29T10:17:26.615506Z",
     "start_time": "2021-03-29T10:17:26.607527Z"
    }
   },
   "outputs": [
    {
     "name": "stdout",
     "output_type": "stream",
     "text": [
      "- -- -- -- -- -- -- -- -- -- -- -- -- -- -- - 高斯分布的随机数(一) - -- -- -- -- -- -- -- -- -- -- -- -- -- -- -\n",
      "标准高斯分布的随机数+二维数组 [[ 1.02451632  2.14325302 -0.96544785]\n",
      " [-0.25607679  1.12515145 -0.40051724]]\n",
      "- -- -- -- -- -- -- -- -- -- -- -- -- -- -- - 高斯分布的随机数(二) - -- -- -- -- -- -- -- -- -- -- -- -- -- -- -\n",
      "一般的高斯分布的随机数 [-0.93870094 -0.52932362  1.74854311  0.49922881  1.28462598  0.92733802\n",
      "  0.42558788  0.44365482  0.97052676  1.54326362]\n",
      "一般的高斯分布的随机数+二维数组 [[ 1.67724202  2.52283387  1.88909515]\n",
      " [ 0.59776421 -0.13757208  2.13721878]]\n"
     ]
    }
   ],
   "source": [
    "print(\"- -\"*15,'高斯分布的随机数(一)',\"- -\"*15)\n",
    "'''np.random.randn(d0,d1,...dn)：生成对应的标准的高斯分布随机数'''\n",
    "print('标准高斯分布的随机数+二维数组',np.random.randn(2,3))\n",
    "\n",
    "print(\"- -\"*15,'高斯分布的随机数(二)',\"- -\"*15)\n",
    "'''np.random.normal(loc, scale, size)：生成均值为loc，标准差为scale，大小为size的高斯分布随机数'''\n",
    "x = np.random.normal(1,1,10)\n",
    "print(\"一般的高斯分布的随机数\",x)\n",
    "x = np.random.normal(1,1,(2,3))\n",
    "print(\"一般的高斯分布的随机数+二维数组\",x)"
   ]
  },
  {
   "cell_type": "code",
   "execution_count": 85,
   "metadata": {
    "ExecuteTime": {
     "end_time": "2021-03-29T10:22:15.602385Z",
     "start_time": "2021-03-29T10:22:15.595403Z"
    }
   },
   "outputs": [
    {
     "name": "stdout",
     "output_type": "stream",
     "text": [
      "- -- -- -- -- -- -- -- -- -- -- -- -- -- -- - 均匀分布的随机数(一) - -- -- -- -- -- -- -- -- -- -- -- -- -- -- -\n",
      "[[0.74545452 0.20294491 0.20069759]\n",
      " [0.14923271 0.75442628 0.70120174]]\n",
      "- -- -- -- -- -- -- -- -- -- -- -- -- -- -- - 均匀分布的随机数(二) - -- -- -- -- -- -- -- -- -- -- -- -- -- -- -\n",
      "[0.4427768  0.28877574 0.4876246  0.06657145 0.47267468 0.27346376\n",
      " 0.81062662 0.56814251 0.34885429 0.36801066]\n"
     ]
    },
    {
     "data": {
      "text/plain": [
       "'如何产生其它分布的随机数？'"
      ]
     },
     "execution_count": 85,
     "metadata": {},
     "output_type": "execute_result"
    }
   ],
   "source": [
    "print(\"- -\"*15,'均匀分布的随机数(一)',\"- -\"*15)\n",
    "'''np.random.rand(shape)：生成对应形状（shape）的[0,1]均匀分布的随机数'''\n",
    "x = np.random.rand(2,3)\n",
    "print(x)\n",
    "print(\"- -\"*15,'均匀分布的随机数(二)',\"- -\"*15)\n",
    "'''np.random.uniform(low, high, size)：生成一个从[low, high)中随即采样的，样本数量为size的均匀分布随机数'''\n",
    "x1 = np.random.uniform(0,1,10)\n",
    "print(x1)\n",
    "'''如何产生其它分布的随机数？'''"
   ]
  },
  {
   "cell_type": "markdown",
   "metadata": {
    "ExecuteTime": {
     "end_time": "2021-03-29T10:16:11.876076Z",
     "start_time": "2021-03-29T10:16:11.872087Z"
    }
   },
   "source": [
    "## 二维数组"
   ]
  },
  {
   "cell_type": "code",
   "execution_count": 106,
   "metadata": {
    "ExecuteTime": {
     "end_time": "2021-03-29T10:29:35.853160Z",
     "start_time": "2021-03-29T10:29:35.847176Z"
    }
   },
   "outputs": [
    {
     "name": "stdout",
     "output_type": "stream",
     "text": [
      "[[1, 1, 1, 1], [1, 1, 1, 1], [1, 1, 1, 1], [1, 1, 1, 1]]\n",
      "--------------------------------------------------\n"
     ]
    },
    {
     "data": {
      "text/plain": [
       "array([[1, 1, 1, 1],\n",
       "       [1, 1, 1, 1],\n",
       "       [1, 1, 1, 1],\n",
       "       [1, 1, 1, 1]])"
      ]
     },
     "execution_count": 106,
     "metadata": {},
     "output_type": "execute_result"
    }
   ],
   "source": [
    "'''普通方法生成'''\n",
    "num = [[1 for i in range(1,5)]for j in range(1,5)]\n",
    "print(num)  # 打印数组\n",
    "print(\"- -\"*50)  # 分割线\n",
    "\n",
    "'''等价的方法'''\n",
    "np.ones((4,4),dtype=int)"
   ]
  },
  {
   "cell_type": "code",
   "execution_count": 154,
   "metadata": {
    "ExecuteTime": {
     "end_time": "2021-03-29T15:01:37.221541Z",
     "start_time": "2021-03-29T15:01:37.217553Z"
    }
   },
   "outputs": [
    {
     "name": "stdout",
     "output_type": "stream",
     "text": [
      "import numpy as np\n",
      "np.array(\n",
      "    object, #传入列表、元组来创建一维数组，或列表、元组的嵌套创建多维数组\n",
      "    dtype = None, #设置数组元素的数据类型，可以是内置的数据类型，也可是自定义的结构化数据类型\n",
      "    copy = True,  #设置传入的对象是否需要复制，默认是True，如果设置为False，则会直接引用，一般用不到\n",
      "    order = None, #设置创建数组的样式，C为行方向，F为列方向，A为任意方向（默认）,一般无需显示设置\n",
      "    subok = False, #默认返回一个与基类类型一致的数组，暂时还未用到过\n",
      "    ndmin = 0 #指定生成数组的最小维度，如果传入的object维度没达到最小维度，则会自定转变为最小维度的数组\n",
      ")\n"
     ]
    }
   ],
   "source": [
    "#一般使用array构造函数创建ndarray\n",
    "print('''import numpy as np\n",
    "np.array(\n",
    "    object, #传入列表、元组来创建一维数组，或列表、元组的嵌套创建多维数组\n",
    "    dtype = None, #设置数组元素的数据类型，可以是内置的数据类型，也可是自定义的结构化数据类型\n",
    "    copy = True,  #设置传入的对象是否需要复制，默认是True，如果设置为False，则会直接引用，一般用不到\n",
    "    order = None, #设置创建数组的样式，C为行方向，F为列方向，A为任意方向（默认）,一般无需显示设置\n",
    "    subok = False, #默认返回一个与基类类型一致的数组，暂时还未用到过\n",
    "    ndmin = 0 #指定生成数组的最小维度，如果传入的object维度没达到最小维度，则会自定转变为最小维度的数组\n",
    ")''')"
   ]
  },
  {
   "cell_type": "code",
   "execution_count": 118,
   "metadata": {
    "ExecuteTime": {
     "end_time": "2021-03-29T12:46:21.025742Z",
     "start_time": "2021-03-29T12:46:21.017727Z"
    }
   },
   "outputs": [
    {
     "name": "stdout",
     "output_type": "stream",
     "text": [
      "[[ 1  2  3]\n",
      " [ 4  5  6]\n",
      " [ 7  8  9]\n",
      " [10 11 12]\n",
      " [13 14 15]\n",
      " [16 17 18]]\n",
      "- -- -- -- -- -- -- -- -- -- -- -- -- -- -- - array要求数据的类型相同 - -- -- -- -- -- -- -- -- -- -- -- -- -- -- -\n",
      "[['1' '2' '3']\n",
      " ['4' '5' '6']\n",
      " ['7' '8' '9']\n",
      " ['10' '11' '12']\n",
      " ['13' '14' '15']\n",
      " ['16' '17' '18']\n",
      " ['li' 'liu' 'zhang']]\n",
      "- -- -- -- -- -- -- -- -- -- -- -- -- -- -- - 描述数据的元组数据组成 - -- -- -- -- -- -- -- -- -- -- -- -- -- -- -\n",
      "(6, 3)\n",
      "2\n",
      "44\n"
     ]
    }
   ],
   "source": [
    "import numpy as np\n",
    "m1= np.array([np.arange(1,4),np.arange(4,7),np.arange(7,10),np.arange(10,13),np.arange(13,16),np.arange(16,19)])  # 创建6行3列的二维数组\n",
    "print(m1)\n",
    "print(\"- -\"*15,'array要求数据的类型相同',\"- -\"*15) \n",
    "m2= np.array([np.arange(1,4),np.arange(4,7),np.arange(7,10),np.arange(10,13),np.arange(13,16),np.arange(16,19),['li','liu','zhang']])  \n",
    "print(m2)"
   ]
  },
  {
   "cell_type": "markdown",
   "metadata": {},
   "source": [
    "## 结构数组"
   ]
  },
  {
   "cell_type": "code",
   "execution_count": 137,
   "metadata": {
    "ExecuteTime": {
     "end_time": "2021-03-29T14:29:09.678371Z",
     "start_time": "2021-03-29T14:29:09.672418Z"
    }
   },
   "outputs": [
    {
     "data": {
      "text/plain": [
       "{'姓名': ['Alice', 'Bob', 'Cathy', 'Doug'],\n",
       " '年龄': [25, 45, 37, 19],\n",
       " '体重': [55.0, 85.5, 68.0, 61.5]}"
      ]
     },
     "execution_count": 137,
     "metadata": {},
     "output_type": "execute_result"
    }
   ],
   "source": [
    "name = ['Alice','Bob','Cathy','Doug']\n",
    "age = [25,45,37,19]\n",
    "weight = [55.0, 85.5, 68.0, 61.5]\n",
    "dict(姓名=name,年龄=age,体重=weight)\n"
   ]
  },
  {
   "cell_type": "code",
   "execution_count": 221,
   "metadata": {
    "ExecuteTime": {
     "end_time": "2021-04-06T18:11:34.508943Z",
     "start_time": "2021-04-06T18:11:34.504983Z"
    }
   },
   "outputs": [
    {
     "name": "stdout",
     "output_type": "stream",
     "text": [
      "Python 中的数据类型\n",
      "默认情况下，Python 拥有以下数据类型：\n",
      "\n",
      "strings - 用于表示文本数据，文本用引号引起来。例如 \"ABCD\"。\n",
      "integer - 用于表示整数。例如 -1, -2, -3。\n",
      "float - 用于表示实数。例如 1.2, 42.42。\n",
      "bool - 用于表示 True 或 False。\n",
      "complex - 用于表示复平面中的数字。例如 1.0 + 2.0j，1.5 + 2.5j。\n"
     ]
    }
   ],
   "source": [
    "print('''Python 中的数据类型\n",
    "默认情况下，Python 拥有以下数据类型：\n",
    "\n",
    "strings - 用于表示文本数据，文本用引号引起来。例如 \"ABCD\"。\n",
    "integer - 用于表示整数。例如 -1, -2, -3。\n",
    "float - 用于表示实数。例如 1.2, 42.42。\n",
    "bool - 用于表示 True 或 False。\n",
    "complex - 用于表示复平面中的数字。例如 1.0 + 2.0j，1.5 + 2.5j。''')"
   ]
  },
  {
   "cell_type": "code",
   "execution_count": 225,
   "metadata": {
    "ExecuteTime": {
     "end_time": "2021-04-06T18:18:30.758650Z",
     "start_time": "2021-04-06T18:18:30.754660Z"
    }
   },
   "outputs": [
    {
     "name": "stdout",
     "output_type": "stream",
     "text": [
      "numpy 有一些额外的数据类型，并通过一个字符引用数据类型，例如 i 代表整数，u 代表无符号整数等。\n",
      "\n",
      "以下是 numpy 中所有数据类型的列表以及用于表示它们的字符。\n",
      "\n",
      "i - 整数\n",
      "b - 布尔\n",
      "u - 无符号整数\n",
      "f - 浮点\n",
      "c - 复合浮点数\n",
      "m - timedelta\n",
      "M - datetime\n",
      "O - 对象\n",
      "S - 字符串\n",
      "U - unicode 字符串\n",
      "V - 固定的其他类型的内存块 ( void )\n",
      "\n",
      "对于 i、u、f、S 和 U，我们也可以定义大小。\n"
     ]
    }
   ],
   "source": [
    "print('''numpy 有一些额外的数据类型，并通过一个字符引用数据类型，例如 i 代表整数，u 代表无符号整数等。\n",
    "\n",
    "以下是 numpy 中所有数据类型的列表以及用于表示它们的字符。\n",
    "\n",
    "i - 整数\n",
    "b - 布尔\n",
    "u - 无符号整数\n",
    "f - 浮点\n",
    "c - 复合浮点数\n",
    "m - timedelta\n",
    "M - datetime\n",
    "O - 对象\n",
    "S - 字符串\n",
    "U - unicode 字符串\n",
    "V - 固定的其他类型的内存块 ( void )\n",
    "\n",
    "对于 i、u、f、S 和 U，我们也可以定义大小。''')"
   ]
  },
  {
   "cell_type": "code",
   "execution_count": 224,
   "metadata": {
    "ExecuteTime": {
     "end_time": "2021-04-06T18:14:21.454349Z",
     "start_time": "2021-04-06T18:14:21.450360Z"
    },
    "scrolled": true
   },
   "outputs": [
    {
     "name": "stdout",
     "output_type": "stream",
     "text": [
      "查看完整的ndarry数据类型\n",
      "{<class 'numpy.uint32'>, <class 'numpy.str_'>, <class 'numpy.datetime64'>, <class 'numpy.float32'>, <class 'numpy.bool_'>, <class 'numpy.float64'>, <class 'numpy.clongdouble'>, <class 'numpy.float16'>, <class 'numpy.bytes_'>, <class 'numpy.uint16'>, <class 'numpy.complex64'>, <class 'numpy.complex128'>, <class 'numpy.timedelta64'>, <class 'numpy.int32'>, <class 'numpy.uint8'>, <class 'numpy.longdouble'>, <class 'numpy.void'>, <class 'numpy.int64'>, <class 'numpy.uintc'>, <class 'numpy.object_'>, <class 'numpy.int8'>, <class 'numpy.intc'>, <class 'numpy.uint64'>, <class 'numpy.int16'>}\n"
     ]
    }
   ],
   "source": [
    "print('''查看完整的ndarry数据类型''')\n",
    "a = set(np.typeDict.values())\n",
    "print(a)"
   ]
  },
  {
   "cell_type": "code",
   "execution_count": 228,
   "metadata": {
    "ExecuteTime": {
     "end_time": "2021-04-06T18:21:20.291680Z",
     "start_time": "2021-04-06T18:21:20.287730Z"
    }
   },
   "outputs": [
    {
     "name": "stdout",
     "output_type": "stream",
     "text": [
      "[1 2 3 4]\n",
      "int32\n"
     ]
    }
   ],
   "source": [
    "import numpy as np\n",
    "\n",
    "arr = np.array([1, 2, 3, 4], dtype='i4')\n",
    "\n",
    "print(arr)\n",
    "print(arr.dtype)"
   ]
  },
  {
   "cell_type": "code",
   "execution_count": 219,
   "metadata": {
    "ExecuteTime": {
     "end_time": "2021-04-06T18:03:00.589414Z",
     "start_time": "2021-04-06T18:03:00.568471Z"
    }
   },
   "outputs": [
    {
     "name": "stdout",
     "output_type": "stream",
     "text": [
      "[('name', '<U10'), ('age', '<i4'), ('weight', '<f8')]\n",
      "[('name', '<U10'), ('age', '<i4'), ('weight', '<f4')]\n",
      "[('name', 'S10'), ('age', '<i4'), ('weight', '<f8')]\n",
      "定义号好数据类型后, 便可以构造结构数组:\n",
      "[('abc', 21, 50.) ('xyz', 18, 75.)]\n"
     ]
    }
   ],
   "source": [
    "'''numpy 模块如何存储不同类型的数据?\n",
    "\n",
    "结构化数组的数据类型有多种制定方式：'''\n",
    "# 1. 采用字典的方法：两个键：names(定义每个字段的名称)和formats（）定义每个字段的类型\n",
    "array1 = np.dtype({'names':('name', 'age', 'weight'),'formats':('U10', 'i4', 'f8')})\n",
    "print(array1)\n",
    "# 2. 数值数据类型可以用Python类型和numpy的dtype类型指定：\n",
    "array2 = np.dtype({'names':('name', 'age', 'weight'),'formats':((np.str_, 10), int, np.float32)})\n",
    "print(array2)\n",
    "# 3. 使用元组的方式：\n",
    "array3 = np.dtype([('name', 'S10'), ('age', 'i4'), ('weight', 'f8')])\n",
    "print(array3)\n",
    "print('定义号好数据类型后, 便可以构造结构数组:')\n",
    "a = np.array([('abc', 21, 50),('xyz', 18, 75)], dtype =array1) \n",
    "print(a)"
   ]
  },
  {
   "cell_type": "markdown",
   "metadata": {},
   "source": [
    "## 从已有的数据创建数组"
   ]
  },
  {
   "cell_type": "code",
   "execution_count": 141,
   "metadata": {
    "ExecuteTime": {
     "end_time": "2021-03-29T14:36:30.308325Z",
     "start_time": "2021-03-29T14:36:30.304306Z"
    }
   },
   "outputs": [
    {
     "name": "stdout",
     "output_type": "stream",
     "text": [
      "np.asarray(a, dtype = None, order = None)\n",
      "a:任意形式的输入参数，可以是，列表, 列表的元组, 元组, 元组的元组, 元组的列表，\n",
      "多维数组\n",
      "order: \"C\"和\"F\"两个选项,分别代表，行优先和列优先，在计算机内存中的存储元素的顺序。\n"
     ]
    }
   ],
   "source": [
    "print('''np.asarray(a, dtype = None, order = None)\n",
    "a:任意形式的输入参数，可以是，列表, 列表的元组, 元组, 元组的元组, 元组的列表，\n",
    "多维数组\n",
    "order: \"C\"和\"F\"两个选项,分别代表，行优先和列优先，在计算机内存中的存储元素的顺序。''')"
   ]
  },
  {
   "cell_type": "code",
   "execution_count": 287,
   "metadata": {
    "ExecuteTime": {
     "end_time": "2021-04-01T14:07:13.250284Z",
     "start_time": "2021-04-01T14:07:13.245297Z"
    }
   },
   "outputs": [
    {
     "name": "stdout",
     "output_type": "stream",
     "text": [
      "[(1, 2, 3) (4, 5)]\n",
      "[(1, 2, 3) (4, 5)]\n"
     ]
    }
   ],
   "source": [
    "x =  [(1,2,3),(4,5)] \n",
    "a = np.asarray(x)  \n",
    "print (a)\n",
    "a.shape\n",
    "a.ndim\n",
    "print(np.array(x))"
   ]
  },
  {
   "cell_type": "markdown",
   "metadata": {},
   "source": [
    "# 索引和切片"
   ]
  },
  {
   "cell_type": "markdown",
   "metadata": {},
   "source": [
    "## 基本索引与切片"
   ]
  },
  {
   "cell_type": "code",
   "execution_count": 163,
   "metadata": {
    "ExecuteTime": {
     "end_time": "2021-03-29T15:06:50.142757Z",
     "start_time": "2021-03-29T15:06:50.138767Z"
    }
   },
   "outputs": [
    {
     "name": "stdout",
     "output_type": "stream",
     "text": [
      "[[ 1  2  3]\n",
      " [ 4  5  6]\n",
      " [ 7  8  9]\n",
      " [10 11 12]\n",
      " [13 14 15]\n",
      " [16 17 18]]\n"
     ]
    }
   ],
   "source": [
    "'''因矩阵或数组，其实本质是由列表组成，故也可以使用与访问Python列表元素相同的方式对数组进行切片和索引访问。'''\n",
    "import numpy as np\n",
    "m1= np.array([np.arange(1,4),np.arange(4,7),np.arange(7,10),np.arange(10,13),np.arange(13,16),np.arange(16,19)])  # 创建6行3列的二维数组\n",
    "print(m1)"
   ]
  },
  {
   "cell_type": "code",
   "execution_count": 176,
   "metadata": {
    "ExecuteTime": {
     "end_time": "2021-03-29T15:23:28.862727Z",
     "start_time": "2021-03-29T15:23:28.857740Z"
    }
   },
   "outputs": [],
   "source": [
    "import numpy as np\n",
    "m1= np.array([np.arange(1,4),np.arange(4,7),np.arange(7,10),np.arange(10,13),np.arange(13,16),np.arange(16,19)])  # 创建6行3列的二维数组"
   ]
  },
  {
   "cell_type": "code",
   "execution_count": 181,
   "metadata": {
    "ExecuteTime": {
     "end_time": "2021-03-30T02:05:42.213159Z",
     "start_time": "2021-03-30T02:05:42.185203Z"
    },
    "scrolled": true
   },
   "outputs": [
    {
     "name": "stdout",
     "output_type": "stream",
     "text": [
      "- -- -- -- -- - 提取1到6行每隔1行取一行，及1到2列的数据 - -- -- -- -- -\n",
      "[[ 1  2]\n",
      " [ 7  8]\n",
      " [13 14]]\n",
      "- -- -- -- -- - 提取第3行的数据 - -- -- -- -- -\n",
      "[7 8 9]\n",
      "- -- -- -- -- - 提取第3列 - -- -- -- -- -\n",
      "[ 3  6  9 12 15 18]\n",
      "- -- -- -- -- - 提取第2行的第二列元素 - -- -- -- -- -\n",
      "5\n",
      "- -- -- -- -- - 当要提取某一整行或整列时，其效果与：完全相同 - -- -- -- -- -\n",
      "m1[:,2] 等同于m1[...,2]:即提取数组的第二列数据\n",
      " [ 3  6  9 12 15 18]\n",
      "m1[2,:] 等同于m1[2,...]:即提取数组的第二行数据\n",
      " [7 8 9]\n"
     ]
    },
    {
     "data": {
      "text/plain": [
       "slice(1, 3, None)"
      ]
     },
     "execution_count": 181,
     "metadata": {},
     "output_type": "execute_result"
    }
   ],
   "source": [
    "'''1、使用索引切片访问和提取数组的一部分'''\n",
    "print('- -'*5,'提取1到6行每隔1行取一行，及1到2列的数据','- -'*5)\n",
    "\n",
    "print(m1[0:5:2,0:2]) #会并组成一个2*3矩阵\n",
    "\n",
    "'''2、提取指定的行、列: 用，表示不同的维度'''\n",
    "print('- -'*5,'提取第3行的数据','- -'*5)\n",
    "print(m1[2,:]) \n",
    "print('- -'*5,'提取第3列','- -'*5)\n",
    "print(m1[:,2])\n",
    "\n",
    "'''3、提取指定的元素''' \n",
    "print('- -'*5,'提取第2行的第二列元素','- -'*5)\n",
    "print(m1[1,1])\n",
    " \n",
    "'''4、一维及更高维，同理，比如提取shape为3*4*5的矩阵，则即a[k,m,n]，其中京k、m、n即可以是索引值，也可以是由索引值构成的切片'''\n",
    "'''5、切片中省略号的用法''' \n",
    "\n",
    "print('- -'*5,'当要提取某一整行或整列时，其效果与：完全相同','- -'*5)\n",
    "print('m1[:,2] 等同于m1[...,2]:即提取数组的第二列数据\\n',m1[...,2])\n",
    "\n",
    "print('m1[2,:] 等同于m1[2,...]:即提取数组的第二行数据\\n',m1[2,...])\n",
    "\n",
    " \n",
    "'''6、切片对象可以通过内置的 slice 函数，并设置 start, stop 及 step 参数进行，从原数组中切割出一个新数组。'''\n",
    "s=slice(1,3)\n",
    "m1[s] #等同于m1[1:3]"
   ]
  },
  {
   "cell_type": "markdown",
   "metadata": {},
   "source": [
    "## 花式索引访问\n",
    "- 指利用整数数组进行索引，使用指定顺序对数组提取子集。\n",
    "- 使用一维整型数组作为索引时，\n",
    "  如果目标是一维数组，那么索引的结果就是对应位置的元素（类似索引访问）；\n",
    "  如果目标是二维数组，那么就是对应下标的行（类似直接取对应的行）"
   ]
  },
  {
   "cell_type": "code",
   "execution_count": 182,
   "metadata": {
    "ExecuteTime": {
     "end_time": "2021-03-30T02:18:39.821377Z",
     "start_time": "2021-03-30T02:18:39.793452Z"
    }
   },
   "outputs": [
    {
     "data": {
      "text/plain": [
       "array([2, 3, 4])"
      ]
     },
     "execution_count": 182,
     "metadata": {},
     "output_type": "execute_result"
    }
   ],
   "source": [
    "'''1.原数组为一维数组，传入1个一维数组作为索引.'''\n",
    "a=np.array([1,2,3,4,5,6])\n",
    "a[[1,2,3]] #得到a的第2、3、4个元素并组成一个新的一维数组"
   ]
  },
  {
   "cell_type": "code",
   "execution_count": 201,
   "metadata": {
    "ExecuteTime": {
     "end_time": "2021-03-30T02:52:38.457065Z",
     "start_time": "2021-03-30T02:52:38.451052Z"
    }
   },
   "outputs": [
    {
     "data": {
      "text/plain": [
       "array([[1, 2, 3],\n",
       "       [4, 5, 6]])"
      ]
     },
     "execution_count": 201,
     "metadata": {},
     "output_type": "execute_result"
    }
   ],
   "source": [
    "'''2.原数组为二维数组，传入1个一维数组作为索引'''\n",
    "a=np.array([\n",
    "    [1,2,3],\n",
    "    [4,5,6],\n",
    "    [7,8,9]\n",
    "])\n",
    "a[[1,2]] #得到a的第2和第3行组成的2*3数组\n"
   ]
  },
  {
   "cell_type": "code",
   "execution_count": 218,
   "metadata": {
    "ExecuteTime": {
     "end_time": "2021-03-30T03:25:49.340049Z",
     "start_time": "2021-03-30T03:25:49.334095Z"
    }
   },
   "outputs": [
    {
     "name": "stdout",
     "output_type": "stream",
     "text": [
      "[[[ 0  1  2  3]\n",
      "  [ 4  5  6  7]\n",
      "  [ 8  9 10 11]]\n",
      "\n",
      " [[12 13 14 15]\n",
      "  [16 17 18 19]\n",
      "  [20 21 22 23]]]\n",
      "- -- -- -- -- - 提取第0层第1行第2列、第0层第2行第3列的数据集 - -- -- -- -- -- -- -- -- -- -\n",
      "[ 6 11]\n"
     ]
    }
   ],
   "source": [
    "'''3.原数组为多维数组，传入多个一维数组作为索引'''\n",
    "b = np.arange(24).reshape(2,3,4)\n",
    "print(b)\n",
    "print(\"- -\"*5, '提取第0层第1行第2列、第0层第2行第3列的数据集','- -'*10)\n",
    "index = [[0],[1,2],[2,3]]#将被弃用\n",
    "#b[index]\n",
    "index = ([0],[1,2],[2,3])#将多个一维数组放在元组内；层，行列，行列\n",
    "print(b[index])"
   ]
  },
  {
   "cell_type": "code",
   "execution_count": 221,
   "metadata": {
    "ExecuteTime": {
     "end_time": "2021-03-30T03:28:13.429375Z",
     "start_time": "2021-03-30T03:28:13.424387Z"
    }
   },
   "outputs": [
    {
     "name": "stdout",
     "output_type": "stream",
     "text": [
      "[[[ 6  7]\n",
      "  [10 11]]]\n",
      "- -- -- -- -- - 第0层的第1行的第2列和第3列,和第2行的的第2列和第3列元素 - -- -- -- -- -- -- -- -- -- -\n"
     ]
    }
   ],
   "source": [
    "'''4. 原数组为多维数组，传入多个一维数组作为索引，且使用ix_ 函数\n",
    "ix_函数将多个一维数组转换为一个用于选取矩形区域的索引器\n",
    "#pandas内的iloc索引方式，其本质即ix_的索引方式'''\n",
    "index = np.ix_([0],[1,2],[2,3]) #层，行，列\n",
    "print(b[index])\n",
    "print(\"- -\"*5, '''第0层的第1行的第2列和第3列,和第2行的的第2列和第3列元素''','- -'*10)"
   ]
  },
  {
   "cell_type": "code",
   "execution_count": 212,
   "metadata": {
    "ExecuteTime": {
     "end_time": "2021-03-30T03:20:57.752568Z",
     "start_time": "2021-03-30T03:20:57.747585Z"
    }
   },
   "outputs": [
    {
     "data": {
      "text/plain": [
       "array([[[20, 23, 22],\n",
       "        [16, 19, 18]],\n",
       "\n",
       "       [[ 8, 11, 10],\n",
       "        [ 4,  7,  6]]])"
      ]
     },
     "execution_count": 212,
     "metadata": {},
     "output_type": "execute_result"
    }
   ],
   "source": [
    "index1 = np.ix_([1,0],[2,1],[0,3,2])\n",
    "b[index1]"
   ]
  },
  {
   "cell_type": "markdown",
   "metadata": {},
   "source": [
    "## 逻辑索引\n",
    "- 使用布尔型索引、条件索引"
   ]
  },
  {
   "cell_type": "code",
   "execution_count": 222,
   "metadata": {
    "ExecuteTime": {
     "end_time": "2021-03-30T03:33:26.536938Z",
     "start_time": "2021-03-30T03:33:26.507018Z"
    }
   },
   "outputs": [
    {
     "data": {
      "text/plain": [
       "array([15, 16, 17, 18, 19, 20, 21, 22, 23])"
      ]
     },
     "execution_count": 222,
     "metadata": {},
     "output_type": "execute_result"
    }
   ],
   "source": [
    "b = np.arange(24).reshape(2,3,4)\n",
    "b[b>=15]"
   ]
  },
  {
   "cell_type": "code",
   "execution_count": 227,
   "metadata": {
    "ExecuteTime": {
     "end_time": "2021-03-30T03:37:46.615781Z",
     "start_time": "2021-03-30T03:37:46.596802Z"
    }
   },
   "outputs": [
    {
     "data": {
      "text/plain": [
       "array([ 0,  1,  2,  3,  4,  5,  6,  7,  8,  9, 10, 11, 12, 13, 14])"
      ]
     },
     "execution_count": 227,
     "metadata": {},
     "output_type": "execute_result"
    }
   ],
   "source": [
    "b = np.arange(24).reshape(2,3,4)\n",
    "b[~(b>=15)]"
   ]
  },
  {
   "cell_type": "code",
   "execution_count": 232,
   "metadata": {
    "ExecuteTime": {
     "end_time": "2021-03-30T03:41:05.005169Z",
     "start_time": "2021-03-30T03:41:04.999185Z"
    }
   },
   "outputs": [
    {
     "data": {
      "text/plain": [
       "'and 和 or 布尔数组中无效'"
      ]
     },
     "execution_count": 232,
     "metadata": {},
     "output_type": "execute_result"
    }
   ],
   "source": [
    "b = np.arange(24).reshape(2,3,4)\n",
    "b[(b<20)&(b>=15)]\n",
    "b[(b>20)|(b>=15)]\n",
    "'''and 和 or 布尔数组中无效'''"
   ]
  },
  {
   "cell_type": "code",
   "execution_count": 233,
   "metadata": {
    "ExecuteTime": {
     "end_time": "2021-03-30T03:42:21.266145Z",
     "start_time": "2021-03-30T03:42:21.261159Z"
    }
   },
   "outputs": [
    {
     "data": {
      "text/plain": [
       "'\\n#布尔索引，可以使用布尔表达式（条件表达式）来检索出某个数组符合指定条件的元素，并返回由这些元素组成的一维数组\\n\\n#布尔索引在理解pandas相关条件检索操作时，很有用，可以说pandas的条件检索，本质就是布尔索引\\n#其本质的运算逻辑即对数组进行遍历，找出满足条件的元素对应的索引值，最后返回索引值对应的元素\\n'"
      ]
     },
     "execution_count": 233,
     "metadata": {},
     "output_type": "execute_result"
    }
   ],
   "source": [
    "'''\n",
    "#布尔索引，可以使用布尔表达式（条件表达式）来检索出某个数组符合指定条件的元素，并返回由这些元素组成的一维数组\n",
    "\n",
    "#布尔索引在理解pandas相关条件检索操作时，很有用，可以说pandas的条件检索，本质就是布尔索引\n",
    "\n",
    "#其本质的运算逻辑即对数组进行遍历，找出满足条件的元素对应的索引值，最后返回索引值对应的元素\n",
    "'''"
   ]
  },
  {
   "cell_type": "markdown",
   "metadata": {},
   "source": [
    "# 数组的属性"
   ]
  },
  {
   "cell_type": "code",
   "execution_count": 123,
   "metadata": {
    "ExecuteTime": {
     "end_time": "2021-03-29T14:09:49.022843Z",
     "start_time": "2021-03-29T14:09:48.990929Z"
    }
   },
   "outputs": [
    {
     "name": "stdout",
     "output_type": "stream",
     "text": [
      "- -- -- -- -- -- -- -- -- -- -- -- -- -- -- - 数组的属性 - -- -- -- -- -- -- -- -- -- -- -- -- -- -- -\n",
      "(6, 3)\n",
      "2\n",
      "44\n"
     ]
    }
   ],
   "source": [
    "import numpy as np\n",
    "m1= np.array([np.arange(1,4),np.arange(4,7),np.arange(7,10),np.arange(10,13),np.arange(13,16),np.arange(16,19)])  # 创建6行3列的二维数组\n",
    "#print(m1)\n",
    "print(\"- -\"*15,'数组的属性',\"- -\"*15) \n",
    "print(m1.shape)#shape属性表示数组的形状\n",
    "print(m1.ndim)#ndim属性表示数组的维数\n",
    "print(m2.itemsize)#itemsize 属性表示元素大小：即该数组内元素占据内存大小，字节单位"
   ]
  },
  {
   "cell_type": "code",
   "execution_count": 125,
   "metadata": {
    "ExecuteTime": {
     "end_time": "2021-03-29T14:11:14.622157Z",
     "start_time": "2021-03-29T14:11:14.619166Z"
    }
   },
   "outputs": [
    {
     "name": "stdout",
     "output_type": "stream",
     "text": [
      "其它的数组属性\n",
      "ndarray.ndim\t秩，即轴的数量或维度的数量\n",
      "ndarray.shape\t数组的维度，对于矩阵，n 行 m 列\n",
      "ndarray.size\t数组元素的总个数，相当于 .shape 中 n*m 的值\n",
      "ndarray.dtype\tndarray 对象的元素类型\n",
      "ndarray.itemsize\tndarray 对象中每个元素的大小，以字节为单位\n",
      "ndarray.flags\tndarray 对象的内存信息\n",
      "ndarray.real\tndarray元素的实部\n",
      "ndarray.imag\tndarray 元素的虚部\n",
      "ndarray.data\t包含实际数组元素的缓冲区，由于一般通过数组的索引获取元素，所以通常不需要使用这个属性。\n"
     ]
    }
   ],
   "source": [
    "print('''其它的数组属性\n",
    "ndarray.ndim\t秩，即轴的数量或维度的数量\n",
    "ndarray.shape\t数组的维度，对于矩阵，n 行 m 列\n",
    "ndarray.size\t数组元素的总个数，相当于 .shape 中 n*m 的值\n",
    "ndarray.dtype\tndarray 对象的元素类型\n",
    "ndarray.itemsize\tndarray 对象中每个元素的大小，以字节为单位\n",
    "ndarray.flags\tndarray 对象的内存信息\n",
    "ndarray.real\tndarray元素的实部\n",
    "ndarray.imag\tndarray 元素的虚部\n",
    "ndarray.data\t包含实际数组元素的缓冲区，由于一般通过数组的索引获取元素，所以通常不需要使用这个属性。''')"
   ]
  },
  {
   "cell_type": "markdown",
   "metadata": {},
   "source": [
    "#  数组操作"
   ]
  },
  {
   "cell_type": "markdown",
   "metadata": {},
   "source": [
    "numpy 中包含了一些函数用于处理数组，大概可分为以下几类：\n",
    "\n",
    "- 修改数组形状\n",
    "- 翻转数组\n",
    "- 修改数组维度\n",
    "- 连接数组\n",
    "- 分割数组\n",
    "- 数组元素的添加与删除"
   ]
  },
  {
   "cell_type": "markdown",
   "metadata": {},
   "source": [
    "## 修改数组形状"
   ]
  },
  {
   "cell_type": "code",
   "execution_count": 235,
   "metadata": {
    "ExecuteTime": {
     "end_time": "2021-04-01T12:43:38.403166Z",
     "start_time": "2021-04-01T12:43:38.381199Z"
    }
   },
   "outputs": [
    {
     "name": "stdout",
     "output_type": "stream",
     "text": [
      "\n",
      "函数\t描述\n",
      "reshape\t不改变数据的条件下修改形状\n",
      "flat\t数组元素迭代器\n",
      "flatten\t返回一份数组拷贝，对拷贝所做的修改不会影响原始数组\n",
      "ravel\t返回展开数组\n"
     ]
    }
   ],
   "source": [
    "print('''\n",
    "函数\t描述\n",
    "reshape\t不改变数据的条件下修改形状\n",
    "flat\t数组元素迭代器\n",
    "flatten\t返回一份数组拷贝，对拷贝所做的修改不会影响原始数组\n",
    "ravel\t返回展开数组''')"
   ]
  },
  {
   "cell_type": "code",
   "execution_count": 236,
   "metadata": {
    "ExecuteTime": {
     "end_time": "2021-04-01T12:46:18.354192Z",
     "start_time": "2021-04-01T12:46:18.350173Z"
    }
   },
   "outputs": [
    {
     "name": "stdout",
     "output_type": "stream",
     "text": [
      "np.reshape 函数可以在不改变数据的条件下修改形状，格式如下： \n",
      "          np.reshape(arr, newshape, order='C')\n",
      "arr：要修改形状的数组\n",
      "newshape：整数或者整数数组，新的形状应当兼容原有形状\n",
      "order：'C' -- 按行，'F' -- 按列，'A' -- 原顺序，'k' -- 元素在内存中的出现顺序。\n"
     ]
    }
   ],
   "source": [
    "print('''np.reshape 函数可以在不改变数据的条件下修改形状，格式如下： \n",
    "          np.reshape(arr, newshape, order='C')\n",
    "arr：要修改形状的数组\n",
    "newshape：整数或者整数数组，新的形状应当兼容原有形状\n",
    "order：'C' -- 按行，'F' -- 按列，'A' -- 原顺序，'k' -- 元素在内存中的出现顺序。''')"
   ]
  },
  {
   "cell_type": "code",
   "execution_count": 242,
   "metadata": {
    "ExecuteTime": {
     "end_time": "2021-04-01T12:48:50.566514Z",
     "start_time": "2021-04-01T12:48:50.548529Z"
    }
   },
   "outputs": [
    {
     "name": "stdout",
     "output_type": "stream",
     "text": [
      "原始数组： [0 1 2 3 4 5 6 7 8 9] \n",
      "\n",
      "- -- -- -- -- -- -- -- -- -- -- -- -- -- -- -- -- -- -- -- -\n",
      "修改后的数组：\n",
      " [[0 1 2 3 4]\n",
      " [5 6 7 8 9]]\n"
     ]
    }
   ],
   "source": [
    "import numpy as np \n",
    "a = np.arange(10)\n",
    "print ('原始数组：',a,'\\n')\n",
    "print(\"- -\"*20) \n",
    "b = a.reshape(2,5)\n",
    "print ('修改后的数组：\\n',b)"
   ]
  },
  {
   "cell_type": "code",
   "execution_count": 255,
   "metadata": {
    "ExecuteTime": {
     "end_time": "2021-04-01T13:01:28.801697Z",
     "start_time": "2021-04-01T13:01:28.796679Z"
    }
   },
   "outputs": [
    {
     "name": "stdout",
     "output_type": "stream",
     "text": [
      "原始数组：\n",
      "[0 1 2 3 4]\n",
      "[5 6 7 8 9]\n",
      "- -- -- -- -- -- -- -- -- -- -- -- -- -- -- -- -- -- -- -- -- -- -- -- -- -- -- -- -- -- -\n",
      "<numpy.flatiter object at 0x000001662106A230>\n"
     ]
    }
   ],
   "source": [
    "import numpy as np\n",
    " \n",
    "a = np.arange(10).reshape(2,5) \n",
    "print ('原始数组：')\n",
    "for row in a:\n",
    "    print (row)\n",
    "print(\"- -\"*30)  \n",
    "print(a.flat)"
   ]
  },
  {
   "cell_type": "code",
   "execution_count": null,
   "metadata": {},
   "outputs": [],
   "source": [
    "'''对数组中每个元素都进行处理，可以使用flat属性，该属性是一个数组元素迭代器：'''\n",
    "print ('迭代后的数组：')\n",
    "for element in a.flat:\n",
    "    print (element)"
   ]
  },
  {
   "cell_type": "code",
   "execution_count": 265,
   "metadata": {
    "ExecuteTime": {
     "end_time": "2021-04-01T13:10:13.118632Z",
     "start_time": "2021-04-01T13:10:13.115639Z"
    }
   },
   "outputs": [
    {
     "name": "stdout",
     "output_type": "stream",
     "text": [
      "numpy.ndarray.flatten 返回一份数组拷贝，对拷贝所做的修改不会影响原始数组，格式如下：\n",
      "\n",
      "ndarray.flatten(order='C')\n",
      "参数说明：\n",
      "\n",
      "order：'C' -- 按行，'F' -- 按列，'A' -- 原顺序，'K' -- 元素在内存中的出现顺序。\n"
     ]
    }
   ],
   "source": [
    "print('''numpy.ndarray.flatten 返回一份数组拷贝，对拷贝所做的修改不会影响原始数组，格式如下：\n",
    "\n",
    "ndarray.flatten(order='C')\n",
    "参数说明：\n",
    "\n",
    "order：'C' -- 按行，'F' -- 按列，'A' -- 原顺序，'K' -- 元素在内存中的出现顺序。''')"
   ]
  },
  {
   "cell_type": "code",
   "execution_count": 266,
   "metadata": {
    "ExecuteTime": {
     "end_time": "2021-04-01T13:12:31.364834Z",
     "start_time": "2021-04-01T13:12:31.349875Z"
    }
   },
   "outputs": [
    {
     "name": "stdout",
     "output_type": "stream",
     "text": [
      "原数组： [[0 1 2 3 4]\n",
      " [5 6 7 8 9]]\n",
      "- -- -- -- -- -- -- -- -- -- -- -- -- -- -- -- -- -- -- -- -- -- -- -- -- -- -- -- -- -- -\n",
      "展开的数组： [0 1 2 3 4 5 6 7 8 9]\n",
      "- -- -- -- -- -- -- -- -- -- -- -- -- -- -- -- -- -- -- -- -- -- -- -- -- -- -- -- -- -- -\n",
      "以 F 风格顺序展开的数组： [0 5 1 6 2 7 3 8 4 9]\n"
     ]
    }
   ],
   "source": [
    "import numpy as np\n",
    " \n",
    "a = np.arange(10).reshape(2,5)\n",
    " \n",
    "print ('原数组：',a)\n",
    "print(\"- -\"*30) \n",
    "\n",
    "print ('展开的数组：',a.flatten())\n",
    "print(\"- -\"*30) \n",
    " \n",
    "print ('以 F 风格顺序展开的数组：',a.flatten(order = 'F'))\n"
   ]
  },
  {
   "cell_type": "markdown",
   "metadata": {},
   "source": [
    "## 反转数组"
   ]
  },
  {
   "cell_type": "code",
   "execution_count": 270,
   "metadata": {
    "ExecuteTime": {
     "end_time": "2021-04-01T13:18:20.831123Z",
     "start_time": "2021-04-01T13:18:20.828113Z"
    }
   },
   "outputs": [
    {
     "name": "stdout",
     "output_type": "stream",
     "text": [
      "\n",
      "函数\t           描述\n",
      "transpose\t对换数组的维度\n",
      "ndarray.T\t和 self.transpose() 相同\n",
      "rollaxis\t向后滚动指定的轴\n",
      "swapaxes\t对换数组的两个轴\n"
     ]
    }
   ],
   "source": [
    "print('''\n",
    "函数\t           描述\n",
    "transpose\t对换数组的维度\n",
    "ndarray.T\t和 self.transpose() 相同\n",
    "rollaxis\t向后滚动指定的轴\n",
    "swapaxes\t对换数组的两个轴''')"
   ]
  },
  {
   "cell_type": "code",
   "execution_count": 271,
   "metadata": {
    "ExecuteTime": {
     "end_time": "2021-04-01T13:20:06.784201Z",
     "start_time": "2021-04-01T13:20:06.781202Z"
    }
   },
   "outputs": [
    {
     "name": "stdout",
     "output_type": "stream",
     "text": [
      "numpy.transpose 函数用于对换数组的维度，格式如下：\n",
      "\n",
      "         numpy.transpose(arr, axes)\n",
      "参数说明:\n",
      "arr：要操作的数组\n",
      "axes：整数列表，对应维度，通常所有维度都会对换。\n"
     ]
    }
   ],
   "source": [
    "print('''numpy.transpose 函数用于对换数组的维度，格式如下：\n",
    "\n",
    "         numpy.transpose(arr, axes)\n",
    "参数说明:\n",
    "arr：要操作的数组\n",
    "axes：整数列表，对应维度，通常所有维度都会对换。''')"
   ]
  },
  {
   "cell_type": "code",
   "execution_count": 273,
   "metadata": {
    "ExecuteTime": {
     "end_time": "2021-04-01T13:22:53.425960Z",
     "start_time": "2021-04-01T13:22:53.420016Z"
    }
   },
   "outputs": [
    {
     "name": "stdout",
     "output_type": "stream",
     "text": [
      "原数组：\n",
      " [[ 0  1  2  3]\n",
      " [ 4  5  6  7]\n",
      " [ 8  9 10 11]]\n",
      "- -- -- -- -- -- -- -- -- -- -- -- -- -- -- -- -- -- -- -- -- -- -- -- -- -- -- -- -- -- -\n",
      "对换数组：\n",
      "[[ 0  4  8]\n",
      " [ 1  5  9]\n",
      " [ 2  6 10]\n",
      " [ 3  7 11]]\n"
     ]
    }
   ],
   "source": [
    "import numpy as np\n",
    " \n",
    "a = np.arange(12).reshape(3,4)\n",
    "print ('原数组：\\n',a)\n",
    "print(\"- -\"*30)\n",
    "b = np.transpose(a) \n",
    "print ('反转数组：')\n",
    "print (b)"
   ]
  },
  {
   "cell_type": "markdown",
   "metadata": {},
   "source": [
    "## 数组整合"
   ]
  },
  {
   "cell_type": "code",
   "execution_count": 274,
   "metadata": {
    "ExecuteTime": {
     "end_time": "2021-04-01T13:42:47.937028Z",
     "start_time": "2021-04-01T13:42:47.933039Z"
    }
   },
   "outputs": [
    {
     "name": "stdout",
     "output_type": "stream",
     "text": [
      "\n",
      "函数\t            描述\n",
      "concatenate\t   连接沿现有轴的数组序列\n",
      "stack\t       沿着新的轴加入一系列数组。\n",
      "hstack\t       水平堆叠序列中的数组（列方向）\n",
      "vstack\t       竖直堆叠序列中的数组（行方向）\n"
     ]
    }
   ],
   "source": [
    "print('''\n",
    "函数\t            描述\n",
    "concatenate\t   连接沿现有轴的数组序列\n",
    "stack\t       沿着新的轴加入一系列数组。\n",
    "hstack\t       水平堆叠序列中的数组（列方向）\n",
    "vstack\t       竖直堆叠序列中的数组（行方向）''')"
   ]
  },
  {
   "cell_type": "markdown",
   "metadata": {},
   "source": [
    "### 水平组合\n",
    "- hstack 函数\n",
    "- concatenate函数"
   ]
  },
  {
   "cell_type": "code",
   "execution_count": 285,
   "metadata": {
    "ExecuteTime": {
     "end_time": "2021-04-01T13:58:51.263674Z",
     "start_time": "2021-04-01T13:58:51.255695Z"
    }
   },
   "outputs": [
    {
     "name": "stdout",
     "output_type": "stream",
     "text": [
      "第一个数组：\n",
      " [[1 2]\n",
      " [3 4]]\n",
      "\n",
      "\n",
      "第二个数组：\n",
      " [[5 6]\n",
      " [7 8]]\n",
      "- -- -- -- -- -- -- -- -- -- -- -- -- -- -- -- -- -- -- -- -- -- -- -- -- -- -- -- -- -- - 行数相同\n",
      "hstack函数处理的对象是元组,所以需要两层括号:\n",
      " [[1 2 5 6]\n",
      " [3 4 7 8]]\n"
     ]
    }
   ],
   "source": [
    "import numpy as np\n",
    " \n",
    "a = np.array([[1,2],[3,4]])\n",
    " \n",
    "print ('第一个数组：\\n',a)\n",
    "\n",
    "print ('\\n')\n",
    "b = np.array([[5,6],[7,8]])\n",
    " \n",
    "print ('第二个数组：\\n',b)\n",
    "print(\"- -\"*30,'行数相同')\n",
    "h_ab = np.hstack((a,b))\n",
    "print(\"hstack函数处理的对象是元组,所以需要两层括号:\\n\",h_ab)"
   ]
  },
  {
   "cell_type": "code",
   "execution_count": 275,
   "metadata": {
    "ExecuteTime": {
     "end_time": "2021-04-01T13:44:02.073217Z",
     "start_time": "2021-04-01T13:44:02.069259Z"
    }
   },
   "outputs": [
    {
     "name": "stdout",
     "output_type": "stream",
     "text": [
      "\n",
      "np.concatenate 函数用于沿指定轴连接相同形状的两个或多个数组，格式如下：\n",
      "               np.concatenate((a1, a2, ...), axis)\n",
      "参数说明：\n",
      "\n",
      "a1, a2, ...：相同类型的数组\n",
      "axis：沿着它连接数组的轴，默认为 0\n"
     ]
    }
   ],
   "source": [
    "print('''\n",
    "np.concatenate 函数用于沿指定轴连接相同形状的两个或多个数组，格式如下：\n",
    "               np.concatenate((a1, a2, ...), axis)\n",
    "参数说明：\n",
    "\n",
    "a1, a2, ...：相同类型的数组\n",
    "axis：沿着它连接数组的轴，默认为 0''')"
   ]
  },
  {
   "cell_type": "code",
   "execution_count": 278,
   "metadata": {
    "ExecuteTime": {
     "end_time": "2021-04-01T13:45:45.979891Z",
     "start_time": "2021-04-01T13:45:45.973907Z"
    }
   },
   "outputs": [
    {
     "name": "stdout",
     "output_type": "stream",
     "text": [
      "第一个数组：\n",
      " [[1 2]\n",
      " [3 4]]\n",
      "\n",
      "\n",
      "第二个数组：\n",
      " [[5 6]\n",
      " [7 8]]\n",
      "\n",
      "\n",
      "沿轴 0 连接两个数组：\n",
      "[[1 2]\n",
      " [3 4]\n",
      " [5 6]\n",
      " [7 8]]\n",
      "\n",
      "\n",
      "沿轴 1 连接两个数组：\n",
      "[[1 2 5 6]\n",
      " [3 4 7 8]]\n"
     ]
    }
   ],
   "source": [
    "import numpy as np\n",
    " \n",
    "a = np.array([[1,2],[3,4]])\n",
    " \n",
    "print ('第一个数组：\\n',a)\n",
    "\n",
    "print ('\\n')\n",
    "b = np.array([[5,6],[7,8]])\n",
    " \n",
    "print ('第二个数组：\\n',b)\n",
    "\n",
    "print ('\\n')\n",
    "# 两个数组的维度相同\n",
    " \n",
    "print ('沿轴 1 连接两个数组：行数相同')\n",
    "print (np.concatenate((a,b),axis = 1))"
   ]
  },
  {
   "cell_type": "markdown",
   "metadata": {},
   "source": [
    "### 垂直组合"
   ]
  },
  {
   "cell_type": "code",
   "execution_count": 283,
   "metadata": {
    "ExecuteTime": {
     "end_time": "2021-04-01T13:56:40.856076Z",
     "start_time": "2021-04-01T13:56:40.850066Z"
    }
   },
   "outputs": [
    {
     "name": "stdout",
     "output_type": "stream",
     "text": [
      "第一个数组： [[1 2]\n",
      " [3 4]]\n",
      "\n",
      "\n",
      "第二个数组： [[5 6]\n",
      " [7 8]]\n",
      "\n",
      "\n",
      "- -- -- -- -- -- -- -- -- -- -- -- -- -- -- -- -- -- -- -- -- -- -- -- -- -- -- -- -- -- -\n",
      "竖直堆叠：\n",
      "[[1 2]\n",
      " [3 4]\n",
      " [5 6]\n",
      " [7 8]]\n"
     ]
    }
   ],
   "source": [
    "import numpy as np\n",
    " \n",
    "a = np.array([[1,2],[3,4]])\n",
    " \n",
    "print ('第一个数组：',a)\n",
    "print ('\\n')\n",
    "b = np.array([[5,6],[7,8]])\n",
    " \n",
    "print ('第二个数组：',b)\n",
    "print ('\\n')\n",
    "print(\"- -\"*30)\n",
    "print ('竖直堆叠：列数相同')\n",
    "v_ab = np.vstack((a,b))\n",
    "print (v_ab)"
   ]
  },
  {
   "cell_type": "code",
   "execution_count": 282,
   "metadata": {
    "ExecuteTime": {
     "end_time": "2021-04-01T13:54:59.267998Z",
     "start_time": "2021-04-01T13:54:59.262979Z"
    }
   },
   "outputs": [
    {
     "name": "stdout",
     "output_type": "stream",
     "text": [
      "第一个数组：\n",
      " [[1 2]\n",
      " [3 4]]\n",
      "\n",
      "\n",
      "第二个数组：\n",
      " [[5 6]\n",
      " [7 8]]\n",
      "\n",
      "\n",
      "沿轴 0 连接两个数组：\n",
      "[[1 2]\n",
      " [3 4]\n",
      " [5 6]\n",
      " [7 8]]\n",
      "\n",
      "\n"
     ]
    }
   ],
   "source": [
    "import numpy as np\n",
    " \n",
    "a = np.array([[1,2],[3,4]])\n",
    " \n",
    "print ('第一个数组：\\n',a)\n",
    "\n",
    "print ('\\n')\n",
    "b = np.array([[5,6],[7,8]])\n",
    " \n",
    "print ('第二个数组：\\n',b)\n",
    "\n",
    "print ('\\n')\n",
    "\n",
    " \n",
    "print ('沿轴 0 连接两个数组：列数应该相同')\n",
    "print (np.concatenate((a,b)))\n",
    "print ('\\n')"
   ]
  },
  {
   "cell_type": "markdown",
   "metadata": {},
   "source": [
    "## 分割数组"
   ]
  },
  {
   "cell_type": "code",
   "execution_count": 288,
   "metadata": {
    "ExecuteTime": {
     "end_time": "2021-04-01T14:22:09.858110Z",
     "start_time": "2021-04-01T14:22:09.854121Z"
    }
   },
   "outputs": [
    {
     "name": "stdout",
     "output_type": "stream",
     "text": [
      "\n",
      "函数\t  数组及操作\n",
      "split\t将一个数组分割为多个子数组\n",
      "hsplit\t将一个数组水平分割为多个子数组（按列）\n",
      "vsplit\t将一个数组垂直分割为多个子数组（按行）\n"
     ]
    }
   ],
   "source": [
    "print('''\n",
    "函数\t  数组及操作\n",
    "split\t将一个数组分割为多个子数组\n",
    "hsplit\t将一个数组水平分割为多个子数组（按列）\n",
    "vsplit\t将一个数组垂直分割为多个子数组（按行）''')"
   ]
  },
  {
   "cell_type": "code",
   "execution_count": 290,
   "metadata": {
    "ExecuteTime": {
     "end_time": "2021-04-01T14:23:35.296962Z",
     "start_time": "2021-04-01T14:23:35.292941Z"
    }
   },
   "outputs": [
    {
     "name": "stdout",
     "output_type": "stream",
     "text": [
      "\n",
      "np.split 函数沿特定的轴将数组分割为子数组，格式如下：\n",
      "\n",
      "np.split(ary, indices_or_sections, axis)\n",
      "参数说明：\n",
      "\n",
      "ary：被分割的数组\n",
      "indices_or_sections：是一个整数，就用该数平均切分，如果是一个数组，为沿轴切分的位置（左开右闭）\n",
      "axis：设置沿着哪个方向进行切分，默认为 0，横向切分，即水平方向。为 1 时，纵向切分，即竖直方向。\n"
     ]
    }
   ],
   "source": [
    "print('''\n",
    "np.split 函数沿特定的轴将数组分割为子数组，格式如下：\n",
    "\n",
    "np.split(ary, indices_or_sections, axis)\n",
    "参数说明：\n",
    "\n",
    "ary：被分割的数组\n",
    "indices_or_sections：是一个整数，就用该数平均切分，如果是一个数组，为沿轴切分的位置（左开右闭）\n",
    "axis：设置沿着哪个方向进行切分，默认为 0，横向切分，即水平方向。为 1 时，纵向切分，即竖直方向。''')"
   ]
  },
  {
   "cell_type": "code",
   "execution_count": 298,
   "metadata": {
    "ExecuteTime": {
     "end_time": "2021-04-01T14:27:16.564449Z",
     "start_time": "2021-04-01T14:27:16.556474Z"
    }
   },
   "outputs": [
    {
     "name": "stdout",
     "output_type": "stream",
     "text": [
      "第一个数组： [0 1 2 3 4 5 6 7 8]\n",
      "- -- -- -- -- -- -- -- -- -- -- -- -- -- -- -- -- -- -- -- -- -- -- -- -- -- -- -- -- -- -\n",
      "将数组分为三个大小相等的子数组：\n",
      "[array([0, 1, 2]), array([3, 4, 5]), array([6, 7, 8])]\n",
      "\n",
      "\n",
      "- -- -- -- -- -- -- -- -- -- -- -- -- -- -- -- -- -- -- -- -- -- -- -- -- -- -- -- -- -- -\n",
      "将数组在一维数组中表明的位置分割：\n",
      "[array([0, 1, 2, 3]), array([4, 5, 6]), array([7, 8])]\n",
      "\n",
      "\n",
      "- -- -- -- -- -- -- -- -- -- -- -- -- -- -- -- -- -- -- -- -- -- -- -- -- -- -- -- -- -- -\n",
      "split 返回的是一个列表： <class 'list'>\n"
     ]
    }
   ],
   "source": [
    "import numpy as np\n",
    " \n",
    "a = np.arange(9)\n",
    " \n",
    "print ('第一个数组：',a)\n",
    "print(\"- -\"*30)\n",
    "print ('将数组分为三个大小相等的子数组：')\n",
    "b = np.split(a,3)\n",
    "print (b)\n",
    "print ('\\n')\n",
    "print(\"- -\"*30) \n",
    "print ('将数组在一维数组中表明的位置分割：')\n",
    "b = np.split(a,[4,7])\n",
    "print (b)\n",
    "print ('\\n')\n",
    "print(\"- -\"*30) \n",
    "print('split 返回的是一个列表：', type(b))"
   ]
  },
  {
   "cell_type": "code",
   "execution_count": 310,
   "metadata": {
    "ExecuteTime": {
     "end_time": "2021-04-01T14:35:56.636061Z",
     "start_time": "2021-04-01T14:35:56.630076Z"
    }
   },
   "outputs": [
    {
     "name": "stdout",
     "output_type": "stream",
     "text": [
      "第一个数组：\n",
      "[[ 0  1  2  3]\n",
      " [ 4  5  6  7]\n",
      " [ 8  9 10 11]\n",
      " [12 13 14 15]]\n",
      "\n",
      "\n",
      "默认分割（0轴）：\n",
      "[array([[0, 1, 2, 3],\n",
      "       [4, 5, 6, 7]]), array([[ 8,  9, 10, 11],\n",
      "       [12, 13, 14, 15]])]\n",
      "\n",
      "\n",
      "沿垂直方向分割：\n",
      "[array([[ 0,  1],\n",
      "       [ 4,  5],\n",
      "       [ 8,  9],\n",
      "       [12, 13]]), array([[ 2,  3],\n",
      "       [ 6,  7],\n",
      "       [10, 11],\n",
      "       [14, 15]])]\n",
      "\n",
      "\n",
      "[array([[ 0,  1,  2,  3],\n",
      "       [ 4,  5,  6,  7],\n",
      "       [ 8,  9, 10, 11],\n",
      "       [12, 13, 14, 15]]), array([], shape=(0, 4), dtype=int32), array([], shape=(0, 4), dtype=int32)]\n"
     ]
    }
   ],
   "source": [
    "import numpy as np\n",
    "\n",
    "a = np.arange(16).reshape(4, 4)\n",
    "print('第一个数组：')\n",
    "print(a)\n",
    "print('\\n')\n",
    "print('默认分割（0轴）：')\n",
    "b = np.split(a,2)\n",
    "print(b)\n",
    "print('\\n')\n",
    "\n",
    "print('沿垂直方向分割：')\n",
    "c = np.split(a,2,1)\n",
    "print(c)\n",
    "print('\\n')\n",
    "\n"
   ]
  },
  {
   "cell_type": "markdown",
   "metadata": {
    "ExecuteTime": {
     "end_time": "2021-04-01T14:32:50.937707Z",
     "start_time": "2021-04-01T14:32:50.925736Z"
    }
   },
   "source": [
    "## ufunc （universal function）运算\n",
    "- 这些函数能够作用于narray对象的每一个元素上，而不是针对narray对象操作，numpy提供了大量的ufunc的函数。\n",
    "- 可以使用'out='关键字来指定函数返回结果存储在指定数组中"
   ]
  },
  {
   "cell_type": "markdown",
   "metadata": {},
   "source": [
    "### 数学函数"
   ]
  },
  {
   "cell_type": "code",
   "execution_count": 96,
   "metadata": {
    "ExecuteTime": {
     "end_time": "2021-04-06T14:56:47.174076Z",
     "start_time": "2021-04-06T14:56:47.167097Z"
    }
   },
   "outputs": [
    {
     "name": "stdout",
     "output_type": "stream",
     "text": [
      "[[ 0.00000000e+00  6.42787610e-01  9.84807753e-01  8.66025404e-01\n",
      "   3.42020143e-01]\n",
      " [-3.42020143e-01 -8.66025404e-01 -9.84807753e-01 -6.42787610e-01\n",
      "  -2.44929360e-16]]\n"
     ]
    },
    {
     "data": {
      "text/plain": [
       "-0.8660254037844385"
      ]
     },
     "execution_count": 96,
     "metadata": {},
     "output_type": "execute_result"
    }
   ],
   "source": [
    "'''- 这些函数在对narray进行运算的速度比使用循环或者列表推导式要快很多,内置的许多ufunc函数都是C语言实现的\n",
    "- 但请注意，在对单个数值进行运算时，python提供的运算要比numpy效率高'''\n",
    "\n",
    "x = np.linspace(0,2*np.pi,10).reshape(2,5)\n",
    "y= np.sin(x)\n",
    "print(y)\n",
    "'''对于计算单个元素，则建议采用Math库里对应的函数，np.sin( )对应math.sin( )，因为对于np.sin( )为了实现数组计算，底层做了很多复杂的处理，\n",
    "因此对于单个元素，math库里的函数计算速度快得多；而对于数组元素，则采用numpy库里的函数计算。'''\n"
   ]
  },
  {
   "cell_type": "code",
   "execution_count": 97,
   "metadata": {
    "ExecuteTime": {
     "end_time": "2021-04-06T14:57:43.978930Z",
     "start_time": "2021-04-06T14:57:43.973975Z"
    }
   },
   "outputs": [
    {
     "data": {
      "text/plain": [
       "-0.8660254037844385"
      ]
     },
     "execution_count": 97,
     "metadata": {},
     "output_type": "execute_result"
    }
   ],
   "source": [
    "import math\n",
    "math.sin(x[1,1])"
   ]
  },
  {
   "cell_type": "code",
   "execution_count": 98,
   "metadata": {
    "ExecuteTime": {
     "end_time": "2021-04-06T14:57:47.101435Z",
     "start_time": "2021-04-06T14:57:47.097446Z"
    }
   },
   "outputs": [
    {
     "data": {
      "text/plain": [
       "-0.8660254037844385"
      ]
     },
     "execution_count": 98,
     "metadata": {},
     "output_type": "execute_result"
    }
   ],
   "source": [
    "import math\n",
    "math.sin(x.item(1,1))"
   ]
  },
  {
   "cell_type": "code",
   "execution_count": 108,
   "metadata": {
    "ExecuteTime": {
     "end_time": "2021-04-06T15:03:02.638967Z",
     "start_time": "2021-04-06T15:03:02.633954Z"
    }
   },
   "outputs": [
    {
     "name": "stdout",
     "output_type": "stream",
     "text": [
      "4.1887902047863905\n",
      "item返回python类型: <class 'float'>\n",
      "4.1887902047863905\n",
      "通过下标获取数组元素的类型为numpy中定义的类型: <class 'numpy.float64'>\n"
     ]
    }
   ],
   "source": [
    "x = np.linspace(0,2*np.pi,10).reshape(2,5)\n",
    "print(x.item(1,1))  #与x[1,1]类似\n",
    "print('item返回python类型:',type(x.item(1,1)))\n",
    "print(x[1,1])\n",
    "print('通过下标获取数组元素的类型为numpy中定义的类型:',type(x[1,1]))"
   ]
  },
  {
   "cell_type": "code",
   "execution_count": 115,
   "metadata": {
    "ExecuteTime": {
     "end_time": "2021-04-06T15:17:21.187845Z",
     "start_time": "2021-04-06T15:17:21.183856Z"
    }
   },
   "outputs": [
    {
     "name": "stdout",
     "output_type": "stream",
     "text": [
      "NumPy 包含大量的各种数学运算的函数，包括三角函数，算术运算的函数，复数处理函数等。\n",
      "\n",
      "\n",
      "1. NumPy 提供了标准的三角函数：sin()、cos()、tan()。\n",
      "2. np.around() 函数返回指定数字的四舍五入值。\n",
      "\n",
      "np.around(a,decimals)\n",
      "参数说明：a: 数组\n",
      "          decimals: 舍入的小数位数。 默认值为0。 如果为负，整数将四舍五入到小数点左侧的位置.\n",
      "3.np.floor() 返回小于或者等于指定表达式的最大整数，即向下取整。\n",
      "4.np.ceil() 返回大于或者等于指定表达式的最小整数，即向上取整。 \n",
      "\n"
     ]
    }
   ],
   "source": [
    "print('''NumPy 包含大量的各种数学运算的函数，包括三角函数，算术运算的函数，复数处理函数等。\n",
    "\n",
    "\n",
    "1. numpy 提供了标准的三角函数：sin()、cos()、tan()。\n",
    "2. np.around() 函数返回指定数字的四舍五入值。\n",
    "\n",
    "np.around(a,decimals)\n",
    "参数说明：a: 数组\n",
    "          decimals: 舍入的小数位数。 默认值为0。 如果为负，整数将四舍五入到小数点左侧的位置.\n",
    "3.np.floor() 返回小于或者等于指定表达式的最大整数，即向下取整。\n",
    "4.np.ceil() 返回大于或者等于指定表达式的最小整数，即向上取整。 \n",
    "''')"
   ]
  },
  {
   "cell_type": "markdown",
   "metadata": {},
   "source": [
    "### 算数运算"
   ]
  },
  {
   "cell_type": "code",
   "execution_count": 109,
   "metadata": {
    "ExecuteTime": {
     "end_time": "2021-04-06T15:04:33.811296Z",
     "start_time": "2021-04-06T15:04:33.802350Z"
    }
   },
   "outputs": [
    {
     "name": "stdout",
     "output_type": "stream",
     "text": [
      "\n",
      "算术函数包含简单的加减乘除: add()，subtract()，multiply() 和 divide()\n",
      "\n",
      "第一个数组：\n",
      " [[0 1 2 3 4]\n",
      " [5 6 7 8 9]]\n",
      "第二个数组：\n",
      " [[ 0  2  4  6  8]\n",
      " [10 12 14 16 18]]\n",
      "- -- -- -- -- -- -- -- -- -- -- -- -- -- -- -- -- -- -- -- -- -- -- -- -- -- -- -- -- -- -\n",
      "[[ 0.  3.  6.  9. 12.]\n",
      " [15. 18. 21. 24. 27.]] \n",
      " [[ 0.  3.  6.  9. 12.]\n",
      " [15. 18. 21. 24. 27.]]\n"
     ]
    },
    {
     "data": {
      "text/plain": [
       "True"
      ]
     },
     "execution_count": 109,
     "metadata": {},
     "output_type": "execute_result"
    }
   ],
   "source": [
    "'''四则运算'''\n",
    "print('''\n",
    "算术函数包含简单的加减乘除: add()，subtract()，multiply() 和 divide()\n",
    "''')\n",
    "a = np.zeros(10).reshape(2,5)\n",
    "a1 = np.arange(0,10).reshape(2,5)\n",
    "print('第一个数组：\\n',a1)\n",
    "a2 = np.arange(0,20,2).reshape(2,5)\n",
    "print('第二个数组：\\n',a2)\n",
    "a3 = np.add(a1,a2,out=a)# out =数组须是事先定义过的数组\n",
    "print('- -'*30)\n",
    "print(a3,'\\n',a)\n",
    "id(a3)==id(a)\n",
    "# out 关键字指定数组与通常使用赋值方式得到的函数运算结果数组是绑定到同一对象的"
   ]
  },
  {
   "cell_type": "code",
   "execution_count": 110,
   "metadata": {
    "ExecuteTime": {
     "end_time": "2021-04-06T15:09:55.559352Z",
     "start_time": "2021-04-06T15:09:55.554365Z"
    }
   },
   "outputs": [
    {
     "name": "stdout",
     "output_type": "stream",
     "text": [
      "数组是： [  0.25   1.33   1.   100.  ]\n",
      "\n",
      "\n",
      "调用 reciprocal 函数：\n",
      "[4.        0.7518797 1.        0.01     ]\n"
     ]
    }
   ],
   "source": [
    "'''\n",
    "np.reciprocal() 函数返回参数逐元素的倒数。\n",
    "'''\n",
    "import numpy as np \n",
    "a = np.array([0.25,  1.33,  1,  100])  \n",
    "print ('数组是：',a)\n",
    "print ('\\n')\n",
    "print ('调用 reciprocal 函数：')\n",
    "print (np.reciprocal(a))"
   ]
  },
  {
   "cell_type": "code",
   "execution_count": 111,
   "metadata": {
    "ExecuteTime": {
     "end_time": "2021-04-06T15:11:11.879336Z",
     "start_time": "2021-04-06T15:11:11.873355Z"
    }
   },
   "outputs": [
    {
     "name": "stdout",
     "output_type": "stream",
     "text": [
      "数组是: [  10  100 1000]\n",
      "\n",
      "\n",
      "调用 power 函数：\n",
      "[    100   10000 1000000]\n",
      "\n",
      "\n",
      "第二个数组：\n",
      "[1 2 3]\n",
      "\n",
      "\n",
      "再次调用 power 函数：\n",
      "[        10      10000 1000000000]\n"
     ]
    }
   ],
   "source": [
    "'''\n",
    "np.power() 函数将第一个输入数组中的元素作为底数，计算它与第二个输入数组中相应元素的幂。\n",
    "'''\n",
    "\n",
    "import numpy as np \n",
    " \n",
    "a = np.array([10,100,1000])  \n",
    "print ('数组是:',a)\n",
    "print ('\\n') \n",
    "print ('调用 power 函数：')\n",
    "print (np.power(a,2))\n",
    "print ('\\n')\n",
    "print ('第二个数组：')\n",
    "b = np.array([1,2,3])  \n",
    "print (b)\n",
    "print ('\\n')\n",
    "print ('再次调用 power 函数：')\n",
    "print (np.power(a,b))"
   ]
  },
  {
   "cell_type": "code",
   "execution_count": 113,
   "metadata": {
    "ExecuteTime": {
     "end_time": "2021-04-06T15:12:29.294186Z",
     "start_time": "2021-04-06T15:12:29.288231Z"
    },
    "scrolled": true
   },
   "outputs": [
    {
     "name": "stdout",
     "output_type": "stream",
     "text": [
      "第一个数组： [10 20 30]\n",
      "\n",
      "\n",
      "第二个数组： [3 5 7]\n",
      "\n",
      "\n",
      "调用 mod() 函数：\n",
      "[1 0 2]\n",
      "\n",
      "\n",
      "调用 remainder() 函数：\n",
      "[1 0 2]\n"
     ]
    }
   ],
   "source": [
    "'''\n",
    "np.mod() 计算输入数组中相应元素的相除后的余数。 函数 numpy.remainder() 也产生相同的结果。'''\n",
    "import numpy as np\n",
    " \n",
    "a = np.array([10,20,30]) \n",
    "b = np.array([3,5,7])  \n",
    "print ('第一个数组：',a)\n",
    "\n",
    "print ('\\n')\n",
    "print ('第二个数组：',b)\n",
    "print ('\\n')\n",
    "print ('调用 mod() 函数：')\n",
    "print (np.mod(a,b))\n",
    "print ('\\n')\n",
    "print ('调用 remainder() 函数：')\n",
    "print (np.remainder(a,b))"
   ]
  },
  {
   "cell_type": "markdown",
   "metadata": {},
   "source": [
    "### 比较运算与布尔运算"
   ]
  },
  {
   "cell_type": "code",
   "execution_count": 125,
   "metadata": {
    "ExecuteTime": {
     "end_time": "2021-04-06T15:32:14.168768Z",
     "start_time": "2021-04-06T15:32:14.160792Z"
    }
   },
   "outputs": [
    {
     "name": "stdout",
     "output_type": "stream",
     "text": [
      "python中的比较运算:\n",
      " [[ True  True  True]\n",
      " [ True  True False]]\n",
      "ufunc中的比较运算-等于:\n",
      " [[ True  True  True]\n",
      " [ True  True False]]\n",
      "ufunc中的比较运算-不等于:\n",
      " [[False False False]\n",
      " [False False  True]]\n",
      "ufunc中的比较运算-小于:\n",
      " [[False False False]\n",
      " [False False  True]]\n",
      "ufunc中的比较运算-小于等于:\n",
      " [[ True  True  True]\n",
      " [ True  True  True]]\n",
      "ufunc中的比较运算-大于:\n",
      " [[False False False]\n",
      " [False False False]]\n",
      "ufunc中的比较运算-大于等于:\n",
      " [[ True  True  True]\n",
      " [ True  True False]]\n"
     ]
    }
   ],
   "source": [
    " '''使用'=='、'>'等比较运算符比较两个数组，将返回一个布尔数组，它的每个元素的值是两个数组对应元素比较的结果.'''\n",
    "a = np.array([[1,2,3],[4,5,6]]).reshape(2,3)\n",
    "b = np.array([[1,2,3],[4,5,8]]).reshape(2,3)\n",
    "print('python中的比较运算:\\n',a==b)\n",
    "print('ufunc中的比较运算-等于:\\n',np.equal(a,b))\n",
    "\n",
    "print('ufunc中的比较运算-不等于:\\n',np.not_equal(a,b))\n",
    "\n",
    "print('ufunc中的比较运算-小于:\\n',np.less(a,b))\n",
    "print('ufunc中的比较运算-小于等于:\\n',np.less_equal(a,b))\n",
    "print('ufunc中的比较运算-大于:\\n',np.greater(a,b))\n",
    "print('ufunc中的比较运算-大于等于:\\n',np.greater_equal(a,b))"
   ]
  },
  {
   "cell_type": "code",
   "execution_count": 131,
   "metadata": {
    "ExecuteTime": {
     "end_time": "2021-04-06T15:39:03.061256Z",
     "start_time": "2021-04-06T15:39:03.055273Z"
    },
    "scrolled": true
   },
   "outputs": [
    {
     "name": "stdout",
     "output_type": "stream",
     "text": [
      "a1 [0 1 2 3 4 5 6 7 8 9]\n",
      "a2 [ 0  2  4  6  8 10 12 14 16 18]\n",
      "[False False False False False False False False  True  True]\n",
      "np.logical_not\n",
      "np.logical_or\n",
      "np.logical_xor\n"
     ]
    }
   ],
   "source": [
    "'''由于Python的布尔运算使用and,or和Not等关键字，无法被重载，因此数组的布尔运算智能通过ufunc对应的函数来操作，这些函数以\"logical_\"开头'''\n",
    "a1= np.arange(10)\n",
    "a2=np.arange(0,20,2)\n",
    "print('a1',a1)\n",
    "print('a2',a2)\n",
    "print(np.logical_and(a1>6,a2>15))\n",
    "print('''其余的布尔运算：np.logical_not\n",
    "np.logical_or\n",
    "np.logical_xor''')"
   ]
  },
  {
   "cell_type": "markdown",
   "metadata": {},
   "source": [
    "### 统计函数\n",
    "- numPy 提供了很多统计函数，用于从数组中查找最小元素，最大元素，百分位标准差和方差等。"
   ]
  },
  {
   "cell_type": "code",
   "execution_count": 139,
   "metadata": {
    "ExecuteTime": {
     "end_time": "2021-04-06T15:58:01.525122Z",
     "start_time": "2021-04-06T15:58:01.519170Z"
    }
   },
   "outputs": [
    {
     "name": "stdout",
     "output_type": "stream",
     "text": [
      "np.amin() 和 np.amax()\n",
      "np.amin() 用于计算数组中的元素沿指定轴的最小值。\n",
      "\n",
      "np.amax() 用于计算数组中的元素沿指定轴的最大值。\n",
      "原始的数组是：\n",
      " [[3 7 5]\n",
      " [8 4 3]\n",
      " [2 4 9]]\n",
      "\n",
      "\n",
      "调用 amin() 函数：\n",
      "[3 3 2]\n",
      "\n",
      "\n",
      "再次调用 amin() 函数：\n",
      "[2 4 3]\n",
      "\n",
      "\n"
     ]
    }
   ],
   "source": [
    "print('''np.amin() 和 np.amax()\n",
    "np.amin() 用于计算数组中的元素沿指定轴的最小值。\n",
    "\n",
    "np.amax() 用于计算数组中的元素沿指定轴的最大值。''')\n",
    "\n",
    "import numpy as np \n",
    "a = np.array([[3,7,5],[8,4,3],[2,4,9]])  \n",
    "print ('原始的数组是：\\n',a)\n",
    "print ('\\n')\n",
    "print ('调用 amin() 函数：')\n",
    "print (np.amin(a,1))#行最小\n",
    "print ('\\n')\n",
    "print ('再次调用 amin() 函数：')\n",
    "print (np.amin(a,0))\n",
    "print ('\\n')"
   ]
  },
  {
   "cell_type": "code",
   "execution_count": 141,
   "metadata": {
    "ExecuteTime": {
     "end_time": "2021-04-06T16:01:27.206134Z",
     "start_time": "2021-04-06T16:01:27.198185Z"
    }
   },
   "outputs": [
    {
     "name": "stdout",
     "output_type": "stream",
     "text": [
      "np.ptp()函数计算数组中沿指定轴的元素最大值与最小值的差（最大值 - 最小值）。\n",
      "原始的数组是：\n",
      " [[3 7 6]\n",
      " [8 2 6]\n",
      " [2 2 7]\n",
      " [1 2 3]]\n",
      "\n",
      "\n",
      "调用 ptp() 函数：\n",
      "7\n",
      "\n",
      "\n",
      "沿轴 1 调用 ptp() 函数：\n",
      "[4 6 5 2]\n",
      "\n",
      "\n",
      "沿轴 0 调用 ptp() 函数：\n",
      "[7 5 4]\n"
     ]
    }
   ],
   "source": [
    "print('''np.ptp()函数计算数组中沿指定轴的元素最大值与最小值的差（最大值 - 最小值）。''')\n",
    "import numpy as np \n",
    " \n",
    "a = np.array([[3,7,6],[8,2,6],[2,2,7],[1,2,3]])  \n",
    "print ('原始的数组是：\\n',a)\n",
    "print ('\\n')\n",
    "print ('调用 ptp() 函数：')\n",
    "print (np.ptp(a))\n",
    "print ('\\n')\n",
    "print ('沿轴 1 调用 ptp() 函数：')\n",
    "print (np.ptp(a, axis =  1))\n",
    "print ('\\n')\n",
    "print ('沿轴 0 调用 ptp() 函数：')\n",
    "print (np.ptp(a, axis =  0))"
   ]
  },
  {
   "cell_type": "code",
   "execution_count": 144,
   "metadata": {
    "ExecuteTime": {
     "end_time": "2021-04-06T16:04:52.937441Z",
     "start_time": "2021-04-06T16:04:52.933453Z"
    }
   },
   "outputs": [
    {
     "name": "stdout",
     "output_type": "stream",
     "text": [
      "np.percentile()\n",
      "百分位数是统计中使用的度量，表示小于这个值的观察值的百分比。 函数np.percentile()接受以下参数。\n",
      "\n",
      "np.percentile(a, q, axis)\n",
      "参数说明：\n",
      "\n",
      "a: 输入数组\n",
      "q: 要计算的百分位数，在 0 ~ 100 之间\n",
      "axis: 沿着它计算百分位数的轴\n",
      "np.median()\n",
      "np.median() 函数用于计算数组 a 中元素的中位数（中值）\n"
     ]
    }
   ],
   "source": [
    "print('''np.percentile()\n",
    "百分位数是统计中使用的度量，表示小于这个值的观察值的百分比。 函数np.percentile()接受以下参数。\n",
    "\n",
    "np.percentile(a, q, axis)\n",
    "参数说明：\n",
    "\n",
    "a: 输入数组\n",
    "q: 要计算的百分位数，在 0 ~ 100 之间\n",
    "axis: 沿着它计算百分位数的轴''')\n",
    "#第 p 个百分位数是这样一个值，它使得至少有 p% 的数据项小于或等于这个值，且至少有 (100-p)% 的数据项大于或等于这个值。\n",
    "\n",
    "\n",
    "print('''np.median()\n",
    "np.median() 函数用于计算数组 a 中元素的中位数（中值）''')"
   ]
  },
  {
   "cell_type": "code",
   "execution_count": 148,
   "metadata": {
    "ExecuteTime": {
     "end_time": "2021-04-06T16:06:06.454801Z",
     "start_time": "2021-04-06T16:06:06.445796Z"
    },
    "scrolled": true
   },
   "outputs": [
    {
     "name": "stdout",
     "output_type": "stream",
     "text": [
      "原始的数组是：\n",
      " [[30 65 70]\n",
      " [80 95 10]\n",
      " [50 90 60]\n",
      " [76 88 97]]\n",
      "\n",
      "\n",
      "70%分位数： [76.4 90.5 72.7]\n",
      "调用 median() 函数：\n",
      "73.0\n",
      "\n",
      "\n",
      "沿轴 0 调用 median() 函数：\n",
      "[63. 89. 65.]\n",
      "\n",
      "\n",
      "沿轴 1 调用 median() 函数：\n",
      "[65. 80. 60. 88.]\n"
     ]
    }
   ],
   "source": [
    "import numpy as np \n",
    " \n",
    "a = np.array([[30,65,70],[80,95,10],[50,90,60],[76,88,97]])  \n",
    " \n",
    "print ('原始的数组是：\\n',a)\n",
    "print ('\\n')\n",
    "print ('70%分位数：',np.percentile(a, 70, axis=0))\n",
    "print ('调用 median() 函数：')\n",
    "print (np.median(a))\n",
    "print ('\\n')\n",
    "print ('沿轴 0 调用 median() 函数：')\n",
    "print (np.median(a, axis =  0))\n",
    "print ('\\n')\n",
    "print ('沿轴 1 调用 median() 函数：')\n",
    "print (np.median(a, axis =  1))"
   ]
  },
  {
   "cell_type": "code",
   "execution_count": 150,
   "metadata": {
    "ExecuteTime": {
     "end_time": "2021-04-06T16:07:27.926710Z",
     "start_time": "2021-04-06T16:07:27.918731Z"
    },
    "scrolled": true
   },
   "outputs": [
    {
     "name": "stdout",
     "output_type": "stream",
     "text": [
      "np.mean()\n",
      "np.mean() 函数返回数组中元素的算术平均值。 如果提供了轴，则沿其计算。\n",
      "\n",
      "算术平均值是沿轴的元素的总和除以元素的数量。\n",
      "原始的数组是： [[1 2 3]\n",
      " [3 4 5]\n",
      " [4 5 6]]\n",
      "\n",
      "\n",
      "调用 mean() 函数：\n",
      "3.6666666666666665\n",
      "\n",
      "\n",
      "沿轴 0 调用 mean() 函数：\n",
      "[2.66666667 3.66666667 4.66666667]\n",
      "\n",
      "\n",
      "沿轴 1 调用 mean() 函数：\n",
      "[2. 4. 5.]\n"
     ]
    }
   ],
   "source": [
    "print('''np.mean()\n",
    "np.mean() 函数返回数组中元素的算术平均值。 如果提供了轴，则沿其计算。\n",
    "\n",
    "算术平均值是沿轴的元素的总和除以元素的数量。''')\n",
    "\n",
    "import numpy as np \n",
    " \n",
    "a = np.array([[1,2,3],[3,4,5],[4,5,6]])  \n",
    "print ('原始的数组是：',a)\n",
    "print ('\\n')\n",
    "print ('调用 mean() 函数：')\n",
    "print (np.mean(a))\n",
    "print ('\\n')\n",
    "print ('沿轴 0 调用 mean() 函数：')\n",
    "print (np.mean(a, axis =  0))\n",
    "print ('\\n')\n",
    "print ('沿轴 1 调用 mean() 函数：')\n",
    "print (np.mean(a, axis =  1))"
   ]
  },
  {
   "cell_type": "code",
   "execution_count": null,
   "metadata": {},
   "outputs": [],
   "source": [
    "print('''np.average()\n",
    "np.average() 函数根据在另一个数组中给出的各自的权重计算数组中元素的加权平均值。\n",
    "\n",
    "该函数可以接受一个轴参数。 如果没有指定轴，则数组会被展开。\n",
    "\n",
    "加权平均值即将各数值乘以相应的权数，然后加总求和得到总体值，再除以总的单位数。\n",
    "\n",
    "''')\n",
    "'''考虑数组[1,2,3,4]和相应的权重[4,3,2,1]，通过将相应元素的乘积相加，并将和除以权重的和，来计算加权平均值。'''"
   ]
  },
  {
   "cell_type": "code",
   "execution_count": 151,
   "metadata": {
    "ExecuteTime": {
     "end_time": "2021-04-06T16:09:52.158887Z",
     "start_time": "2021-04-06T16:09:52.152904Z"
    }
   },
   "outputs": [
    {
     "name": "stdout",
     "output_type": "stream",
     "text": [
      "原始的数组是：\n",
      " [1 2 3 4]\n",
      "\n",
      "\n",
      "调用 average() 函数：\n",
      "2.5\n",
      "\n",
      "\n",
      "再次调用 average() 函数：\n",
      "2.0\n",
      "\n",
      "\n",
      "权重的和：\n",
      "(2.0, 10.0)\n"
     ]
    }
   ],
   "source": [
    "import numpy as np \n",
    " \n",
    "a = np.array([1,2,3,4])  \n",
    "print ('原始的数组是：\\n',a)\n",
    "print ('\\n')\n",
    "print ('调用 average() 函数：')\n",
    "print (np.average(a))# 不指定权重时相当于 mean 函数\n",
    "print ('\\n')\n",
    "\n",
    "wts = np.array([4,3,2,1])  \n",
    "print ('再次调用 average() 函数：')\n",
    "print (np.average(a,weights = wts))\n",
    "print ('\\n')\n",
    "# 如果 returned 参数设为 true，则返回权重的和  \n",
    "print ('权重的和：')\n",
    "print (np.average([1,2,3,4],weights =  [4,3,2,1], returned =  True))"
   ]
  },
  {
   "cell_type": "code",
   "execution_count": 155,
   "metadata": {
    "ExecuteTime": {
     "end_time": "2021-04-06T16:16:24.306183Z",
     "start_time": "2021-04-06T16:16:24.301203Z"
    }
   },
   "outputs": [
    {
     "name": "stdout",
     "output_type": "stream",
     "text": [
      "\n",
      "标准差是一组数据平均值分散程度的一种度量。\n",
      "\n",
      "标准差是方差的算术平方根。\n",
      "\n",
      "标准差公式如下：\n",
      "\n",
      "std = sqrt(mean((x - x.mean())**2))\n"
     ]
    },
    {
     "data": {
      "text/plain": [
       "2.8722813232690143"
      ]
     },
     "execution_count": 155,
     "metadata": {},
     "output_type": "execute_result"
    }
   ],
   "source": [
    "print('''\n",
    "标准差是一组数据平均值分散程度的一种度量。\n",
    "\n",
    "标准差是方差的算术平方根。\n",
    "\n",
    "标准差公式如下：\n",
    "\n",
    "std = sqrt(mean((x - x.mean())**2))''')\n",
    "a =np.arange(10)\n",
    "np.std(a)"
   ]
  },
  {
   "cell_type": "code",
   "execution_count": 156,
   "metadata": {
    "ExecuteTime": {
     "end_time": "2021-04-06T16:17:00.851541Z",
     "start_time": "2021-04-06T16:17:00.845587Z"
    }
   },
   "outputs": [
    {
     "name": "stdout",
     "output_type": "stream",
     "text": [
      "统计中的方差（样本方差）是每个样本值与全体样本值的平均数之差的平方值的平均数，即 mean((x - x.mean())** 2)。\n",
      "\n",
      "换句话说，标准差是方差的平方根。\n"
     ]
    },
    {
     "data": {
      "text/plain": [
       "8.25"
      ]
     },
     "execution_count": 156,
     "metadata": {},
     "output_type": "execute_result"
    }
   ],
   "source": [
    "print('''统计中的方差（样本方差）是每个样本值与全体样本值的平均数之差的平方值的平均数，即 mean((x - x.mean())** 2)。\n",
    "\n",
    "换句话说，标准差是方差的平方根。''')\n",
    "a =np.arange(10)\n",
    "np.var(a)"
   ]
  },
  {
   "cell_type": "markdown",
   "metadata": {},
   "source": [
    "### 位运算"
   ]
  },
  {
   "cell_type": "code",
   "execution_count": 134,
   "metadata": {
    "ExecuteTime": {
     "end_time": "2021-04-06T15:42:04.442159Z",
     "start_time": "2021-04-06T15:42:04.439197Z"
    }
   },
   "outputs": [
    {
     "name": "stdout",
     "output_type": "stream",
     "text": [
      "numPy 中以\"bitwise_\" 开头的函数是位运算函数。\n",
      "\n",
      "numPy 位运算包括以下几个函数：\n",
      "\n",
      "函数\t描述\n",
      "bitwise_and\t对数组元素执行位与操作\n",
      "bitwise_or\t对数组元素执行位或操作\n",
      "invert\t    按位取反\n",
      "left_shift\t向左移动二进制表示的位\n",
      "right_shift\t向右移动二进制表示的位\n",
      "注：也可以使用 \"&\"、 \"~\"、 \"|\" 和 \"^\" 等操作符进行计算。\n"
     ]
    }
   ],
   "source": [
    "print('''numPy 中以\"bitwise_\" 开头的函数是位运算函数。\n",
    "\n",
    "numPy 位运算包括以下几个函数：\n",
    "\n",
    "函数\t描述\n",
    "bitwise_and\t对数组元素执行位与操作\n",
    "bitwise_or\t对数组元素执行位或操作\n",
    "invert\t    按位取反\n",
    "left_shift\t向左移动二进制表示的位\n",
    "right_shift\t向右移动二进制表示的位\n",
    "注：也可以使用 \"&\"、 \"~\"、 \"|\" 和 \"^\" 等操作符进行计算。''')"
   ]
  },
  {
   "cell_type": "markdown",
   "metadata": {},
   "source": [
    "### 自定义ufunc函数"
   ]
  },
  {
   "cell_type": "code",
   "execution_count": 159,
   "metadata": {
    "ExecuteTime": {
     "end_time": "2021-04-06T16:33:43.274083Z",
     "start_time": "2021-04-06T16:33:43.270123Z"
    }
   },
   "outputs": [
    {
     "name": "stdout",
     "output_type": "stream",
     "text": [
      "除了numpy内置ufunc函数，用户也可以自定义的ufunc函数.具体地，\n",
      "\n",
      "1. 编写对单个数值计算的目的函数； \n",
      "\n",
      "def add_elements(x, y):\n",
      "    return x + y\n",
      "2. \n",
      "使用frompyfunc或者vectorize可以将计算单个元素的函数转换成对数组中每个元素的ufunc函数\n",
      "\n",
      "利用np.frompyfunc(func, nin, nout)将其转换为ufunc函数\n",
      "func：自己编写的目的函数，\n",
      "nin： 参数个数\n",
      "nout：返回值个数\n",
      "\n",
      "np.frompyfunc的返回值其类型均为object，通过astype()方法可以将类型做出相应的转换；\n",
      "\n",
      "np.vectorize(func, otypes=[])函数指定两个参数，依次为：标量参数、返回值的类型列表\n"
     ]
    }
   ],
   "source": [
    "print('''除了numpy内置ufunc函数，用户也可以自定义的ufunc函数.具体地，\n",
    "\n",
    "1. 编写对单个数值计算的目的函数； \n",
    "\n",
    "def add_elements(x, y):\n",
    "    return x + y\n",
    "2. \n",
    "使用frompyfunc或者vectorize可以将计算单个元素的函数转换成对数组中每个元素的ufunc函数\n",
    "\n",
    "利用np.frompyfunc(func, nin, nout)将其转换为ufunc函数\n",
    "func：自己编写的目的函数，\n",
    "nin： 参数个数\n",
    "nout：返回值个数\n",
    "\n",
    "np.frompyfunc的返回值其类型均为object，通过astype()方法可以将类型做出相应的转换；\n",
    "\n",
    "np.vectorize(func, otypes=[])函数指定两个参数，依次为：标量参数、返回值的类型列表''')"
   ]
  },
  {
   "cell_type": "code",
   "execution_count": 187,
   "metadata": {
    "ExecuteTime": {
     "end_time": "2021-04-06T16:50:58.502365Z",
     "start_time": "2021-04-06T16:50:58.492396Z"
    }
   },
   "outputs": [
    {
     "name": "stdout",
     "output_type": "stream",
     "text": [
      "[92.2 88.88 76.16 100 78.74]\n",
      "[ 92  88  76 100  78]\n"
     ]
    },
    {
     "data": {
      "text/plain": [
       "dtype('int32')"
      ]
     },
     "execution_count": 187,
     "metadata": {},
     "output_type": "execute_result"
    }
   ],
   "source": [
    "'''出题难度大，需要对所有人的分数提升，且保持分数的相对位置不变'''\n",
    "def liftscore(n):\n",
    "    n_new =np.sqrt((n^2)*100)#^位异或运算\n",
    "    n_new = n_new if n_new <=100 else 100\n",
    "    return np.around(n_new,2)\n",
    "\n",
    "score = np.array([87,77,56,100,60])\n",
    "score_1 = np.frompyfunc(liftscore,1,1)(score)\n",
    "print(score_1)\n",
    "\n",
    "score_2 =score_1.astype(int)\n",
    "print(score_2)\n",
    "score_2.dtype"
   ]
  },
  {
   "cell_type": "code",
   "execution_count": 189,
   "metadata": {
    "ExecuteTime": {
     "end_time": "2021-04-06T16:52:51.576931Z",
     "start_time": "2021-04-06T16:52:51.571916Z"
    },
    "scrolled": false
   },
   "outputs": [
    {
     "data": {
      "text/plain": [
       "True"
      ]
     },
     "execution_count": 189,
     "metadata": {},
     "output_type": "execute_result"
    }
   ],
   "source": [
    "score_3 = np.vectorize(liftscore,otypes=[int])(score)\n",
    "score_3\n",
    "any(score_2 ==score_3)"
   ]
  },
  {
   "cell_type": "markdown",
   "metadata": {},
   "source": [
    "### ufunc的方法"
   ]
  },
  {
   "cell_type": "code",
   "execution_count": 196,
   "metadata": {
    "ExecuteTime": {
     "end_time": "2021-04-06T17:30:55.283201Z",
     "start_time": "2021-04-06T17:30:55.279240Z"
    }
   },
   "outputs": [
    {
     "name": "stdout",
     "output_type": "stream",
     "text": [
      "ufunc函数对象本身还有一些方法函数，这些方法只对两个输入、一个输出的ufunc 函数有效\n",
      "(1) reduce()方法于与Python基本靠库中的reduce 函数类似，沿着指定轴对数组进行操作，相当于将相应的操作放到该轴元素之间\n",
      "\n"
     ]
    }
   ],
   "source": [
    "print('''ufunc函数对象本身还有一些方法函数，这些方法只对两个输入、一个输出的ufunc 函数有效\n",
    "(1) reduce()方法沿着指定轴对数组进行操作，相当于将相应的操作放到该轴元素之间\n",
    "''')"
   ]
  },
  {
   "cell_type": "code",
   "execution_count": 206,
   "metadata": {
    "ExecuteTime": {
     "end_time": "2021-04-06T17:41:05.690420Z",
     "start_time": "2021-04-06T17:41:05.683441Z"
    }
   },
   "outputs": [
    {
     "name": "stdout",
     "output_type": "stream",
     "text": [
      "[[1 2 3 4]\n",
      " [5 6 7 8]]\n"
     ]
    },
    {
     "data": {
      "text/plain": [
       "10"
      ]
     },
     "execution_count": 206,
     "metadata": {},
     "output_type": "execute_result"
    }
   ],
   "source": [
    "'''reduce(function, sequence[, initial]) \n",
    "参数说明：\n",
    "function\t有两个参数的函数, 必需参数\n",
    "sequence\ttuple,list ,dictionary,string等可迭代物，必需参数\n",
    "initial\t初始值,可选参数\n",
    "\n",
    "reduce的工作过程是 ：在迭代sequence(tuple,list,dictionary, string等可迭代物)的过程中,首先把前两个元素传给 函数参数,\n",
    "函数加工后,然后把得到的结果和第三个元素作为两个参数传给函数参数, 函数加工后得到的结果又和第四个元素作为两个参数传给函数参数,\n",
    "依次类推。 如果传入了 initial 值, 那么首先传的就不是 sequence 的第一个和第二个元素,而是 initial值和 第一个元素。\n",
    "经过这样的累计计算之后合并序列到一个单一返回值.\n",
    "'''\n",
    "def add(x, y):\n",
    "    return x+y\n",
    "from functools import reduce\n",
    "reduce(add, [1,2,3,4])"
   ]
  },
  {
   "cell_type": "code",
   "execution_count": null,
   "metadata": {},
   "outputs": [],
   "source": [
    "x =np.array([[1,2,3,4],[5,6,7,8]])\n",
    "print(x)\n",
    "np.add.reduce(x,axis=0)\n",
    "#help(np.add.reduce)"
   ]
  },
  {
   "cell_type": "code",
   "execution_count": 208,
   "metadata": {
    "ExecuteTime": {
     "end_time": "2021-04-06T17:48:57.842799Z",
     "start_time": "2021-04-06T17:48:57.835818Z"
    }
   },
   "outputs": [
    {
     "name": "stdout",
     "output_type": "stream",
     "text": [
      "[[1 2 3 4]\n",
      " [5 6 7 8]]\n"
     ]
    },
    {
     "data": {
      "text/plain": [
       "array([[ 1,  3,  6, 10],\n",
       "       [ 5, 11, 18, 26]], dtype=int32)"
      ]
     },
     "execution_count": 208,
     "metadata": {},
     "output_type": "execute_result"
    }
   ],
   "source": [
    "'''\n",
    "(2) accumulate()和reduce()的关系就想cumsum 和sum 的关系,即它返回的数组和输入数组的形状相同，同时保存所有中间的结果：'''\n",
    "x =np.array([[1,2,3,4],[5,6,7,8]])\n",
    "print(x)\n",
    "np.add.accumulate(x,axis=1)"
   ]
  },
  {
   "cell_type": "code",
   "execution_count": 211,
   "metadata": {
    "ExecuteTime": {
     "end_time": "2021-04-06T17:53:47.608999Z",
     "start_time": "2021-04-06T17:53:47.603018Z"
    }
   },
   "outputs": [
    {
     "name": "stdout",
     "output_type": "stream",
     "text": [
      "[0 1 2 3 4 5 6 7]\n"
     ]
    },
    {
     "data": {
      "text/plain": [
       "array([ 6,  4, 10,  5, 14,  6, 18,  7], dtype=int32)"
      ]
     },
     "execution_count": 211,
     "metadata": {},
     "output_type": "execute_result"
    }
   ],
   "source": [
    "'''(3) reduceat()方法用于部分reduce计算，通过indices参数指定一系列的起始和终止位置'''\n",
    "x =np.arange(8)\n",
    "print(x)\n",
    "np.add.reduceat(x,indices=[1,4,1,5,2,6,3,7])"
   ]
  },
  {
   "cell_type": "code",
   "execution_count": 218,
   "metadata": {
    "ExecuteTime": {
     "end_time": "2021-04-06T17:59:11.422323Z",
     "start_time": "2021-04-06T17:59:11.417337Z"
    }
   },
   "outputs": [
    {
     "name": "stdout",
     "output_type": "stream",
     "text": [
      "加和:\n",
      " [[ 6  7  8  9]\n",
      " [ 7  8  9 10]\n",
      " [ 8  9 10 11]\n",
      " [ 9 10 11 12]]\n",
      "乘积:\n",
      " [[ 5  6  7  8]\n",
      " [10 12 14 16]\n",
      " [15 18 21 24]\n",
      " [20 24 28 32]]\n"
     ]
    }
   ],
   "source": [
    "'''(4) outer() 可对其作为两个参数的数组的没每两对元素的组合进行运算'''\n",
    "a =[1,2,3,4]\n",
    "b =[5,6,7,8]\n",
    "print('加和:\\n',np.add.outer(a,b))\n",
    "print('乘积:\\n',np.multiply.outer(a,b))"
   ]
  },
  {
   "cell_type": "markdown",
   "metadata": {},
   "source": [
    "## 广播"
   ]
  },
  {
   "cell_type": "code",
   "execution_count": null,
   "metadata": {},
   "outputs": [],
   "source": [
    "'''广播(Broadcast)是 numpy 对不同形状(shape)的数组进行数值计算的方式， 对数组的算术运算通常在相应的元素上进行。\n",
    "\n",
    "如果两个数组 a 和 b 形状相同，即满足 a.shape == b.shape，那么 a*b 的结果就是 a 与 b 数组对应位相乘。这要求维数相同，且各维度的长度相同。'''"
   ]
  },
  {
   "cell_type": "code",
   "execution_count": 190,
   "metadata": {
    "ExecuteTime": {
     "end_time": "2021-04-06T16:56:12.859557Z",
     "start_time": "2021-04-06T16:56:12.855564Z"
    }
   },
   "outputs": [
    {
     "name": "stdout",
     "output_type": "stream",
     "text": [
      "[ 10  40  90 160]\n"
     ]
    }
   ],
   "source": [
    "import numpy as np \n",
    " \n",
    "a = np.array([1,2,3,4]) \n",
    "b = np.array([10,20,30,40]) \n",
    "c = a * b \n",
    "print (c)"
   ]
  },
  {
   "cell_type": "code",
   "execution_count": 192,
   "metadata": {
    "ExecuteTime": {
     "end_time": "2021-04-06T16:56:50.200401Z",
     "start_time": "2021-04-06T16:56:50.196440Z"
    }
   },
   "outputs": [
    {
     "name": "stdout",
     "output_type": "stream",
     "text": [
      "[[ 1  2  3]\n",
      " [11 12 13]\n",
      " [21 22 23]\n",
      " [31 32 33]]\n"
     ]
    }
   ],
   "source": [
    "import numpy as np \n",
    " \n",
    "a = np.array([[ 0, 0, 0],\n",
    "           [10,10,10],\n",
    "           [20,20,20],\n",
    "           [30,30,30]])\n",
    "b = np.array([1,2,3])\n",
    "print(np.add(a,b))"
   ]
  },
  {
   "cell_type": "markdown",
   "metadata": {},
   "source": [
    "- - 广播的规则:\n",
    "\n",
    "- 让所有输入数组都向其中形状最长的数组看齐，形状中不足的部分都通过在前面加 1 补齐。 如上例中b由(1,3)变成 (2,3)\n",
    "- 输出数组的形状是输入数组形状的各个维度上的最大值。\n",
    "- 如果输入数组的某个维度和输出数组的对应维度的长度相同或者其长度为 1 时，这个数组能够用来计算，否则出错。\n",
    "- 当输入数组的某个维度的长度为 1 时，沿着此维度运算时都用此维度上的第一组值。"
   ]
  },
  {
   "cell_type": "markdown",
   "metadata": {},
   "source": [
    "##  数组元素的添加与删除"
   ]
  },
  {
   "cell_type": "code",
   "execution_count": 311,
   "metadata": {
    "ExecuteTime": {
     "end_time": "2021-04-01T14:36:56.711412Z",
     "start_time": "2021-04-01T14:36:56.708388Z"
    }
   },
   "outputs": [
    {
     "name": "stdout",
     "output_type": "stream",
     "text": [
      "\n",
      "函数\t     元素及描述\n",
      "resize\t返回指定形状的新数组\n",
      "append\t将值添加到数组末尾\n",
      "insert\t沿指定轴将值插入到指定下标之前\n",
      "delete\t删掉某个轴的子数组，并返回删除后的新数组\n",
      "unique\t查找数组内的唯一元素\n"
     ]
    }
   ],
   "source": [
    "print('''\n",
    "函数\t     元素及描述\n",
    "resize\t返回指定形状的新数组\n",
    "reshape  返回指定形状的新数组 \n",
    "append\t将值添加到数组末尾\n",
    "insert\t沿指定轴将值插入到指定下标之前\n",
    "delete\t删掉某个轴的子数组，并返回删除后的新数组\n",
    "unique\t查找数组内的唯一元素''')"
   ]
  },
  {
   "cell_type": "markdown",
   "metadata": {},
   "source": [
    "### resize 函数"
   ]
  },
  {
   "cell_type": "code",
   "execution_count": 14,
   "metadata": {
    "ExecuteTime": {
     "end_time": "2021-04-06T10:15:07.266938Z",
     "start_time": "2021-04-06T10:15:07.262941Z"
    }
   },
   "outputs": [
    {
     "name": "stdout",
     "output_type": "stream",
     "text": [
      "np.resize 函数返回指定大小的新数组。如果新数组大小大于原始大小，则包含原始数组中的元素的副本。\n",
      "        np.resize(arr, shape)\n",
      "参数说明：\n",
      "arr：要修改大小的数组\n",
      "shape：返回数组的新形状\n"
     ]
    }
   ],
   "source": [
    "print('''np.resize 函数返回指定大小的新数组。如果新数组大小大于原始大小，则包含原始数组中的元素的副本。\n",
    "        np.resize(arr, shape)\n",
    "参数说明：\n",
    "arr：要修改大小的数组\n",
    "shape：返回数组的新形状'''\n",
    ")\n",
    "#help(np.resize)"
   ]
  },
  {
   "cell_type": "code",
   "execution_count": 11,
   "metadata": {
    "ExecuteTime": {
     "end_time": "2021-04-06T10:05:46.080205Z",
     "start_time": "2021-04-06T10:05:46.071230Z"
    }
   },
   "outputs": [
    {
     "name": "stdout",
     "output_type": "stream",
     "text": [
      "- -- -- -- -- -- -- -- -- -- -- -- -- -- -- -- -- -- -- -- -- -- -- -- -- -- -- -- -- -- - 第一个数组\n",
      "第一个数组：\n",
      " [[1 2 3]\n",
      " [4 5 6]]\n",
      "第一个数组的形状：\n",
      " (2, 3)\n",
      "- -- -- -- -- -- -- -- -- -- -- -- -- -- -- -- -- -- -- -- -- -- -- -- -- -- -- -- -- -- - 第二个数组\n",
      "第二个数组：\n",
      " [[1 2]\n",
      " [3 4]\n",
      " [5 6]]\n",
      "第二个数组的形状：\n",
      " (3, 2)\n",
      "- -- -- -- -- -- -- -- -- -- -- -- -- -- -- -- -- -- -- -- -- -- -- -- -- -- -- -- -- -- - 第三个数组\n",
      "修改第一个数组的大小：\n",
      "[[1 2 3]\n",
      " [4 5 6]\n",
      " [1 2 3]]\n"
     ]
    }
   ],
   "source": [
    "import numpy as np\n",
    "a = np.array([[1,2,3],[4,5,6]])\n",
    "print('- -'*30,'第一个数组')\n",
    " \n",
    "print ('第一个数组：\\n',a)\n",
    " \n",
    "print ('第一个数组的形状：\\n',a.shape)\n",
    "print('- -'*30,'第二个数组')\n",
    "\n",
    "b = np.resize(a, (3,2))\n",
    " \n",
    "print ('第二个数组：\\n',b) \n",
    "print ('第二个数组的形状：\\n', b.shape)\n",
    "print('- -'*30,'第三个数组')\n",
    " \n",
    "print ('修改第一个数组的大小：')\n",
    "b = np.resize(a,(3,3))# 要注意 a 的第一行在 b 中重复出现，因为尺寸变大了\n",
    "print (b)\n"
   ]
  },
  {
   "cell_type": "markdown",
   "metadata": {},
   "source": [
    "### reshape 函数"
   ]
  },
  {
   "cell_type": "code",
   "execution_count": 33,
   "metadata": {
    "ExecuteTime": {
     "end_time": "2021-04-06T13:04:47.802057Z",
     "start_time": "2021-04-06T13:04:47.799066Z"
    }
   },
   "outputs": [
    {
     "name": "stdout",
     "output_type": "stream",
     "text": [
      "语法：np.reshape(a, newshape, order='C')\n",
      "   参数说明：\n",
      "   a：要修改大小的数组\n",
      "   newshape：返回数组的新形状\n",
      "   order={'C', 'F', 'A'}\n"
     ]
    }
   ],
   "source": [
    "#help(np.reshape)\n",
    "print('''语法：np.reshape(a, newshape, order='C')\n",
    "   参数说明：\n",
    "   a：要修改大小的数组\n",
    "   newshape：返回数组的新形状\n",
    "   order={'C', 'F', 'A'}''')"
   ]
  },
  {
   "cell_type": "code",
   "execution_count": 35,
   "metadata": {
    "ExecuteTime": {
     "end_time": "2021-04-06T13:05:09.961902Z",
     "start_time": "2021-04-06T13:05:09.957927Z"
    }
   },
   "outputs": [
    {
     "name": "stdout",
     "output_type": "stream",
     "text": [
      "[[1 2 3]\n",
      " [4 5 6]]\n"
     ]
    }
   ],
   "source": [
    "import numpy as np\n",
    "a = np.array([[1,2,3], [4,5,6]])\n",
    "b = np.reshape(a, (2,3))\n",
    "print(b)"
   ]
  },
  {
   "cell_type": "code",
   "execution_count": 39,
   "metadata": {
    "ExecuteTime": {
     "end_time": "2021-04-06T13:12:43.674212Z",
     "start_time": "2021-04-06T13:12:43.668258Z"
    }
   },
   "outputs": [
    {
     "name": "stdout",
     "output_type": "stream",
     "text": [
      "如果newshape里面的有负数\n",
      "[[1 2]\n",
      " [3 4]\n",
      " [5 6]]\n",
      "- -- -- -- -- -- -- -- -- -- -\n",
      "[[1 2 3]\n",
      " [4 5 6]]\n"
     ]
    }
   ],
   "source": [
    "print('''如果newshape里面的有负数''')\n",
    "a = np.array([[1,2,3], [4,5,6]])\n",
    "b1 = np.reshape(a,(3,-1))\n",
    "print(b1)\n",
    "# 将a变成3行的格式，列数自动计算的(c=2, d=6/3=2)\n",
    "print('- -'*10)\n",
    "a = np.array([[1,2,3], [4,5,6]])\n",
    "b1 = np.reshape(a,(-1,3))\n",
    "print(b1)"
   ]
  },
  {
   "cell_type": "code",
   "execution_count": 20,
   "metadata": {
    "ExecuteTime": {
     "end_time": "2021-04-06T10:28:25.345988Z",
     "start_time": "2021-04-06T10:28:25.341966Z"
    }
   },
   "outputs": [
    {
     "name": "stdout",
     "output_type": "stream",
     "text": [
      "- -- -- -- -- -- -- -- -- -- - 关于order 这一参数的详解（源自help(np.reshape)的翻译） - -- -- -- -- -- -- -- -- -- -\n",
      "order 的翻译：order : 可选范围为{'C', 'F', 'A'}。使用索引顺序读取a的元素，并按照索引顺序将元素放到变换后的的数组中。\n",
      "         如果不进行order参数的设置，默认参数为C。\n",
      "\n",
      "（1）“C”指的是用类C写的读/索引顺序的元素，最后一个维度变化最快，第一个维度变化最慢。以二维数组为例，简单来讲就是横着读，横着写，\n",
      "     优先读/写一行。\n",
      "（2）“F”是指用FORTRAN类索引顺序读/写元素，最后一个维度变化最慢，第一个维度变化最快。竖着读，竖着写，优先读/写一列。注意，“C”和“F”\n",
      "      选项不考虑底层数组的内存布局，只引用索引的顺序。\n",
      "\n",
      "（3）“A”选项所生成的数组的效果与原数组a的数据存储方式有关，如果数据是按照FORTRAN存储的话，它的生成效果与”F“相同，否则与“C”相同。\n",
      "   这里可能听起来有点模糊，下面会给出示例。\n",
      "\n",
      "注：FORTRAN和C是两个语言，他们存储数组的方式不同，FORTRSAN为列有限，而C为行优先。在python中默认数组生成的时候是按照C的方式进行存储。\n",
      "    但很多时候我们需要调用Fortran的一些库进行数学计算，所以需要让numpy生成的数组变成按照FORTRAN的方式存储\n",
      "\n"
     ]
    }
   ],
   "source": [
    "print('- -'*10,'关于order 这一参数的详解（源自help(np.reshape)的翻译）','- -'*10)\n",
    "print('''order 的翻译：order : 可选范围为{'C', 'F', 'A'}。使用索引顺序读取a的元素，并按照索引顺序将元素放到变换后的的数组中。\n",
    "         如果不进行order参数的设置，默认参数为C。\n",
    "\n",
    "（1）“C”指的是用类C写的读/索引顺序的元素，最后一个维度变化最快，第一个维度变化最慢。以二维数组为例，简单来讲就是横着读，横着写，\n",
    "     优先读/写一行。\n",
    "（2）“F”是指用FORTRAN类索引顺序读/写元素，最后一个维度变化最慢，第一个维度变化最快。竖着读，竖着写，优先读/写一列。注意，“C”和“F”\n",
    "      选项不考虑底层数组的内存布局，只引用索引的顺序。\n",
    "\n",
    "（3）“A”选项所生成的数组的效果与原数组a的数据存储方式有关，如果数据是按照FORTRAN存储的话，它的生成效果与”F“相同，否则与“C”相同。\n",
    "   这里可能听起来有点模糊，下面会给出示例。\n",
    "\n",
    "注：FORTRAN和C是两个语言，他们存储数组的方式不同，FORTRSAN为列有限，而C为行优先。在python中默认数组生成的时候是按照C的方式进行存储。\n",
    "    但很多时候我们需要调用Fortran的一些库进行数学计算，所以需要让numpy生成的数组变成按照FORTRAN的方式存储\n",
    "''')"
   ]
  },
  {
   "cell_type": "code",
   "execution_count": 32,
   "metadata": {
    "ExecuteTime": {
     "end_time": "2021-04-06T13:03:20.260594Z",
     "start_time": "2021-04-06T13:03:20.253603Z"
    }
   },
   "outputs": [
    {
     "name": "stdout",
     "output_type": "stream",
     "text": [
      "原数组:\n",
      " [ 0  1  2  3  4  5  6  7  8  9 10 11]\n",
      "- -- -- -- -- -- -- -- -- -- - 按照order=A排序：\n",
      " [[ 0  1  2  3]\n",
      " [ 4  5  6  7]\n",
      " [ 8  9 10 11]]\n",
      "- -- -- -- -- -- -- -- -- -- - 按照order=C排序：\n",
      " [[ 0  1  2  3]\n",
      " [ 4  5  6  7]\n",
      " [ 8  9 10 11]]\n",
      "- -- -- -- -- -- -- -- -- -- - 按照order=F排序：\n",
      " [[ 0  3  6  9]\n",
      " [ 1  4  7 10]\n",
      " [ 2  5  8 11]]\n",
      "- -- -- -- -- -- -- -- -- -- - 默认排序:\n",
      " [[ 0  1  2  3]\n",
      " [ 4  5  6  7]\n",
      " [ 8  9 10 11]]\n"
     ]
    }
   ],
   "source": [
    "r = np.arange(12)\n",
    "print(\"原数组:\\n\",r)\n",
    "\n",
    "ar1=r.reshape((3,4),order='A')\n",
    "ar2=r.reshape((3,4),order='C')\n",
    "ar3=r.reshape((3,4),order='F')\n",
    "ar4=r.reshape((3,4))\n",
    " \n",
    "\n",
    "print('- -'*10,\"按照order=A排序：\\n\",ar1)\n",
    "print('- -'*10,\"按照order=C排序：\\n\",ar2)\n",
    "print('- -'*10,\"按照order=F排序：\\n\",ar3)\n",
    "print('- -'*10,\"默认排序:\\n\",ar4)"
   ]
  },
  {
   "cell_type": "markdown",
   "metadata": {},
   "source": [
    "### append函数"
   ]
  },
  {
   "cell_type": "code",
   "execution_count": 43,
   "metadata": {
    "ExecuteTime": {
     "end_time": "2021-04-06T13:20:19.177294Z",
     "start_time": "2021-04-06T13:20:19.174329Z"
    }
   },
   "outputs": [
    {
     "name": "stdout",
     "output_type": "stream",
     "text": [
      "\n",
      "np.append 函数在数组的末尾添加值。 追加操作会分配整个数组，并把原来的数组复制到新数组中。 \n",
      "此外，输入数组的维度必须匹配否则将生成ValueError。\n",
      "np.append(arr, values, axis=None)\n",
      "参数说明：\n",
      "arr：输入数组\n",
      "values：要向arr添加的值，需要和arr形状相同（除了要添加的轴）\n",
      "axis：默认为 None。当axis无定义时，是横向加成，返回总是为一维数组！当axis有定义的时候，\n",
      "分别为0和1的时候。当 axis 为0时，数组是加在下面（列数要相同）。当axis为1时，数组是加在右边（行数要相同）。\n"
     ]
    }
   ],
   "source": [
    "print('''\n",
    "np.append 函数在数组的末尾添加值。 追加操作会分配整个数组，并把原来的数组复制到新数组中。 \n",
    "此外，输入数组的维度必须匹配否则将生成ValueError。\n",
    "np.append(arr, values, axis=None)\n",
    "参数说明：\n",
    "arr：输入数组\n",
    "values：要向arr添加的值，需要和arr形状相同（除了要添加的轴）\n",
    "axis：默认为 None。当axis无定义时，是横向加成，返回总是为一维数组！当axis有定义的时候，\n",
    "分别为0和1的时候。当 axis 为0时，数组是加在下面（列数要相同）。当axis为1时，数组是加在右边（行数要相同）。''')"
   ]
  },
  {
   "cell_type": "code",
   "execution_count": 42,
   "metadata": {
    "ExecuteTime": {
     "end_time": "2021-04-06T13:19:23.583555Z",
     "start_time": "2021-04-06T13:19:23.574609Z"
    }
   },
   "outputs": [
    {
     "name": "stdout",
     "output_type": "stream",
     "text": [
      "第一个数组：\n",
      " [[1 2 3]\n",
      " [4 5 6]]\n",
      "向数组添加元素：\n",
      "[1 2 3 4 5 6 7 8 9]\n",
      "\n",
      "\n",
      "沿轴 0 添加元素：\n",
      "[[1 2 3]\n",
      " [4 5 6]\n",
      " [7 8 9]]\n",
      "\n",
      "\n",
      "沿轴 1 添加元素：\n",
      "[[1 2 3 5 5 5]\n",
      " [4 5 6 7 8 9]]\n"
     ]
    }
   ],
   "source": [
    "import numpy as np \n",
    "a = np.array([[1,2,3],[4,5,6]])\n",
    " \n",
    "print ('第一个数组：\\n',a)\n",
    " \n",
    "print ('向数组添加元素：')\n",
    "print (np.append(a, [7,8,9]))\n",
    "print ('\\n')\n",
    " \n",
    "print ('沿轴 0 添加元素：')\n",
    "print (np.append(a, [[7,8,9]],axis = 0))\n",
    "print ('\\n')\n",
    " \n",
    "print ('沿轴 1 添加元素：')\n",
    "print (np.append(a, [[5,5,5],[7,8,9]],axis = 1))"
   ]
  },
  {
   "cell_type": "markdown",
   "metadata": {},
   "source": [
    "### insert 函数"
   ]
  },
  {
   "cell_type": "code",
   "execution_count": null,
   "metadata": {},
   "outputs": [],
   "source": [
    "print('''np.insert\n",
    "np.insert 函数在给定索引之前，沿给定轴在输入数组中插入值。\n",
    "\n",
    "如果值的类型转换为要插入，则它与输入数组不同。 插入没有原地的，函数会返回一个新数组。 此外，如果未提供轴，则输入数组会被展开。\n",
    "\n",
    "np.insert(arr, obj, values, axis)\n",
    "参数说明：\n",
    "\n",
    "arr：输入数组\n",
    "obj：在其之前插入值的索引\n",
    "values：要插入的值\n",
    "axis：沿着它插入的轴，如果未提供，则输入数组会被展开''')\n"
   ]
  },
  {
   "cell_type": "code",
   "execution_count": 44,
   "metadata": {
    "ExecuteTime": {
     "end_time": "2021-04-06T13:22:40.807227Z",
     "start_time": "2021-04-06T13:22:40.800274Z"
    }
   },
   "outputs": [
    {
     "name": "stdout",
     "output_type": "stream",
     "text": [
      "第一个数组：\n",
      "[[1 2]\n",
      " [3 4]\n",
      " [5 6]]\n",
      "\n",
      "\n",
      "未传递 Axis 参数。 在插入之前输入数组会被展开。\n",
      "[ 1  2  3 11 12  4  5  6]\n",
      "\n",
      "\n",
      "传递了 Axis 参数。 会广播值数组来配输入数组。\n",
      "沿轴 0 广播：\n",
      "[[ 1  2]\n",
      " [11 11]\n",
      " [ 3  4]\n",
      " [ 5  6]]\n",
      "\n",
      "\n",
      "沿轴 1 广播：\n",
      "[[ 1 11  2]\n",
      " [ 3 11  4]\n",
      " [ 5 11  6]]\n"
     ]
    }
   ],
   "source": [
    "import numpy as np \n",
    "a = np.array([[1,2],[3,4],[5,6]])\n",
    " \n",
    "print ('第一个数组：')\n",
    "print (a)\n",
    "print ('\\n')\n",
    " \n",
    "print ('未传递 Axis 参数。 在插入之前输入数组会被展开。')\n",
    "print (np.insert(a,3,[11,12]))\n",
    "print ('\\n')\n",
    "print ('传递了 Axis 参数。 会广播值数组来配输入数组。')\n",
    " \n",
    "print ('沿轴 0 广播：')\n",
    "print (np.insert(a,1,[11],axis = 0))\n",
    "print ('\\n')\n",
    " \n",
    "print ('沿轴 1 广播：')\n",
    "print (np.insert(a,1,11,axis = 1))"
   ]
  },
  {
   "cell_type": "markdown",
   "metadata": {},
   "source": [
    "###  delete 函数"
   ]
  },
  {
   "cell_type": "code",
   "execution_count": 46,
   "metadata": {
    "ExecuteTime": {
     "end_time": "2021-04-06T13:28:18.849633Z",
     "start_time": "2021-04-06T13:28:18.845645Z"
    }
   },
   "outputs": [
    {
     "name": "stdout",
     "output_type": "stream",
     "text": [
      "np.delete 函数返回从输入数组中删除指定子数组的新数组。 与 insert() 函数的情况一样，如果未提供轴参数，则输入数组将展开。\n",
      "\n",
      "np.delete(arr, obj, axis)\n",
      "参数说明：\n",
      "\n",
      "arr：输入数组\n",
      "obj：可以被切片，整数或者整数数组，表明要从输入数组删除的子数组\n",
      "axis：沿着它删除给定子数组的轴，如果未提供，则输入数组会被展开\n",
      "\n"
     ]
    }
   ],
   "source": [
    "print('''np.delete 函数返回从输入数组中删除指定子数组的新数组。 与 insert() 函数的情况一样，如果未提供轴参数，则输入数组将展开。\n",
    "\n",
    "np.delete(arr, obj, axis)\n",
    "参数说明：\n",
    "\n",
    "arr：输入数组\n",
    "obj：可以被切片，整数或者整数数组，表明要从输入数组删除的子数组\n",
    "axis：沿着它删除给定子数组的轴，如果未提供，则输入数组会被展开\n",
    "''')"
   ]
  },
  {
   "cell_type": "code",
   "execution_count": null,
   "metadata": {},
   "outputs": [],
   "source": [
    "import numpy as np\n",
    "a = np.arange(12).reshape(3,4)\n",
    " \n",
    "print ('第一个数组：',a)\n",
    "print ('\\n')\n",
    " \n",
    "print ('未传递 Axis 参数。 在插入之前输入数组会被展开。')\n",
    "print (np.delete(a,5))\n",
    "print ('\\n')\n",
    " \n",
    "print ('删除第二列：')\n",
    "print (np.delete(a,1,axis = 1))\n",
    "print ('\\n')\n",
    " \n",
    "print ('包含从数组中删除的替代值的切片：')\n",
    "a = np.array([1,2,3,4,5,6,7,8,9,10])\n",
    "print (np.delete(a, np.s_[::2]))"
   ]
  },
  {
   "cell_type": "markdown",
   "metadata": {},
   "source": [
    "### unique 函数"
   ]
  },
  {
   "cell_type": "code",
   "execution_count": null,
   "metadata": {},
   "outputs": [],
   "source": [
    "print('''np.unique\n",
    "np.unique 函数用于去除数组中的重复元素。\n",
    "\n",
    "np.unique(arr, return_index, return_inverse, return_counts)\n",
    "参数说明：\n",
    "\n",
    "arr：输入数组，如果不是一维数组则会展开\n",
    "return_index：如果为true，返回新列表元素在旧列表中的位置（下标），并以列表形式储\n",
    "return_inverse：如果为true，返回旧列表元素在新列表中的位置（下标），并以列表形式储\n",
    "return_counts：如果为true，返回去重数组中的元素在原数组中的出现次数''')"
   ]
  },
  {
   "cell_type": "code",
   "execution_count": 47,
   "metadata": {
    "ExecuteTime": {
     "end_time": "2021-04-06T13:30:50.534777Z",
     "start_time": "2021-04-06T13:30:50.466963Z"
    }
   },
   "outputs": [
    {
     "name": "stdout",
     "output_type": "stream",
     "text": [
      "第一个数组： [5 2 6 2 7 5 6 8 2 9]\n",
      "\n",
      "\n",
      "第一个数组的去重值：\n",
      "[2 5 6 7 8 9]\n",
      "\n",
      "\n",
      "去重数组的索引数组：\n",
      "[1 0 2 4 7 9]\n",
      "\n",
      "\n",
      "我们可以看到每个和原数组下标对应的数值： [5 2 6 2 7 5 6 8 2 9]\n",
      "\n",
      "\n",
      "去重数组的下标：\n",
      "[2 5 6 7 8 9]\n",
      "\n",
      "\n",
      "下标为：\n",
      "[1 0 2 0 3 1 2 4 0 5]\n",
      "\n",
      "\n",
      "使用下标重构原数组：\n",
      "[5 2 6 2 7 5 6 8 2 9]\n",
      "\n",
      "\n",
      "返回去重元素的重复数量：\n",
      "[2 5 6 7 8 9]\n",
      "[3 2 2 1 1 1]\n"
     ]
    }
   ],
   "source": [
    "import numpy as np\n",
    "a = np.array([5,2,6,2,7,5,6,8,2,9])\n",
    " \n",
    "print ('第一个数组：',a)\n",
    "print ('\\n')\n",
    " \n",
    "print ('第一个数组的去重值：')\n",
    "u = np.unique(a)\n",
    "print (u)\n",
    "print ('\\n')\n",
    " \n",
    "print ('去重数组的索引数组：')\n",
    "u,indices = np.unique(a, return_index = True)\n",
    "print (indices)\n",
    "print ('\\n')\n",
    " \n",
    "print ('我们可以看到每个和原数组下标对应的数值：',a)\n",
    "print ('\\n')\n",
    " \n",
    "print ('去重数组的下标：')\n",
    "u,indices = np.unique(a,return_inverse = True)\n",
    "print (u)\n",
    "print ('\\n')\n",
    " \n",
    "print ('下标为：')\n",
    "print (indices)\n",
    "print ('\\n')\n",
    " \n",
    "print ('使用下标重构原数组：')\n",
    "print (u[indices])\n",
    "print ('\\n')\n",
    " \n",
    "print ('返回去重元素的重复数量：')\n",
    "u,indices = np.unique(a,return_counts = True)\n",
    "print (u)\n",
    "print (indices)"
   ]
  },
  {
   "cell_type": "markdown",
   "metadata": {},
   "source": [
    "## 排序、条件刷选函数"
   ]
  },
  {
   "cell_type": "code",
   "execution_count": 4,
   "metadata": {
    "ExecuteTime": {
     "end_time": "2021-04-08T19:50:05.243244Z",
     "start_time": "2021-04-08T19:50:05.235236Z"
    }
   },
   "outputs": [
    {
     "name": "stdout",
     "output_type": "stream",
     "text": [
      "原始的数组是：\n",
      " [[3 7]\n",
      " [9 1]]\n",
      "\n",
      "\n",
      "调用 sort() 函数：\n",
      "[[3 7]\n",
      " [1 9]]\n",
      "\n",
      "\n",
      "按行排序：\n",
      "[[3 7]\n",
      " [1 9]]\n",
      "\n",
      "\n",
      "原始的的数组是：\n",
      "[(b'raju', 21) (b'anil', 25) (b'ravi', 17) (b'amar', 27)]\n",
      "\n",
      "\n",
      "按 name 排序：\n",
      "[(b'amar', 27) (b'anil', 25) (b'raju', 21) (b'ravi', 17)]\n"
     ]
    }
   ],
   "source": [
    "'''numpy.sort()\n",
    "numpy.sort() 函数返回输入数组的排序副本。函数格式如下：\n",
    "\n",
    "numpy.sort(a, axis, kind, order)\n",
    "参数说明：\n",
    "\n",
    "a: 要排序的数组\n",
    "axis: 沿着它排序数组的轴，如果没有数组会被展开，沿着最后的轴排序， axis=0 按列排序，axis=1 按行排序\n",
    "kind: 默认为'quicksort'（快速排序）\n",
    "order: 如果数组包含字段，则是要排序的字段'''\n",
    "\n",
    "'''种类\t             速度 \t最坏情况\t工作空间\t稳定性\n",
    "'quicksort'（快速排序）\t1\tO(n^2)\t0\t否\n",
    "'mergesort'（归并排序）\t2\tO(n*log(n))\t~n/2\t是\n",
    "'heapsort'（堆排序）\t3\tO(n*log(n))\t0\t否'''\n",
    "import numpy as np  \n",
    " \n",
    "a = np.array([[3,7],[9,1]])  \n",
    "print ('原始的数组是：\\n',a)\n",
    "print ('\\n')\n",
    "\n",
    "print ('调用 sort() 函数：')\n",
    "print (np.sort(a))\n",
    "print ('\\n')\n",
    "print ('按行排序：')\n",
    "print (np.sort(a, axis =  1))\n",
    "print ('\\n')\n",
    "# 在 sort 函数中排序字段 \n",
    "dt = np.dtype([('name',  'S10'),('age',  int)]) \n",
    "a = np.array([(\"raju\",21),(\"anil\",25),(\"ravi\",  17),  (\"amar\",27)], dtype = dt)  \n",
    "print ('原始的的数组是：')\n",
    "print (a)\n",
    "print ('\\n')\n",
    "print ('按 name 排序：')\n",
    "print (np.sort(a, order =  'name'))"
   ]
  },
  {
   "cell_type": "code",
   "execution_count": 5,
   "metadata": {
    "ExecuteTime": {
     "end_time": "2021-04-08T19:50:29.695903Z",
     "start_time": "2021-04-08T19:50:29.691885Z"
    }
   },
   "outputs": [
    {
     "name": "stdout",
     "output_type": "stream",
     "text": [
      "Help on function sort in module numpy:\n",
      "\n",
      "sort(a, axis=-1, kind=None, order=None)\n",
      "    Return a sorted copy of an array.\n",
      "    \n",
      "    Parameters\n",
      "    ----------\n",
      "    a : array_like\n",
      "        Array to be sorted.\n",
      "    axis : int or None, optional\n",
      "        Axis along which to sort. If None, the array is flattened before\n",
      "        sorting. The default is -1, which sorts along the last axis.\n",
      "    kind : {'quicksort', 'mergesort', 'heapsort', 'stable'}, optional\n",
      "        Sorting algorithm. The default is 'quicksort'. Note that both 'stable'\n",
      "        and 'mergesort' use timsort or radix sort under the covers and, in general,\n",
      "        the actual implementation will vary with data type. The 'mergesort' option\n",
      "        is retained for backwards compatibility.\n",
      "    \n",
      "        .. versionchanged:: 1.15.0.\n",
      "           The 'stable' option was added.\n",
      "    \n",
      "    order : str or list of str, optional\n",
      "        When `a` is an array with fields defined, this argument specifies\n",
      "        which fields to compare first, second, etc.  A single field can\n",
      "        be specified as a string, and not all fields need be specified,\n",
      "        but unspecified fields will still be used, in the order in which\n",
      "        they come up in the dtype, to break ties.\n",
      "    \n",
      "    Returns\n",
      "    -------\n",
      "    sorted_array : ndarray\n",
      "        Array of the same type and shape as `a`.\n",
      "    \n",
      "    See Also\n",
      "    --------\n",
      "    ndarray.sort : Method to sort an array in-place.\n",
      "    argsort : Indirect sort.\n",
      "    lexsort : Indirect stable sort on multiple keys.\n",
      "    searchsorted : Find elements in a sorted array.\n",
      "    partition : Partial sort.\n",
      "    \n",
      "    Notes\n",
      "    -----\n",
      "    The various sorting algorithms are characterized by their average speed,\n",
      "    worst case performance, work space size, and whether they are stable. A\n",
      "    stable sort keeps items with the same key in the same relative\n",
      "    order. The four algorithms implemented in NumPy have the following\n",
      "    properties:\n",
      "    \n",
      "    =========== ======= ============= ============ ========\n",
      "       kind      speed   worst case    work space   stable\n",
      "    =========== ======= ============= ============ ========\n",
      "    'quicksort'    1     O(n^2)            0          no\n",
      "    'heapsort'     3     O(n*log(n))       0          no\n",
      "    'mergesort'    2     O(n*log(n))      ~n/2        yes\n",
      "    'timsort'      2     O(n*log(n))      ~n/2        yes\n",
      "    =========== ======= ============= ============ ========\n",
      "    \n",
      "    .. note:: The datatype determines which of 'mergesort' or 'timsort'\n",
      "       is actually used, even if 'mergesort' is specified. User selection\n",
      "       at a finer scale is not currently available.\n",
      "    \n",
      "    All the sort algorithms make temporary copies of the data when\n",
      "    sorting along any but the last axis.  Consequently, sorting along\n",
      "    the last axis is faster and uses less space than sorting along\n",
      "    any other axis.\n",
      "    \n",
      "    The sort order for complex numbers is lexicographic. If both the real\n",
      "    and imaginary parts are non-nan then the order is determined by the\n",
      "    real parts except when they are equal, in which case the order is\n",
      "    determined by the imaginary parts.\n",
      "    \n",
      "    Previous to numpy 1.4.0 sorting real and complex arrays containing nan\n",
      "    values led to undefined behaviour. In numpy versions >= 1.4.0 nan\n",
      "    values are sorted to the end. The extended sort order is:\n",
      "    \n",
      "      * Real: [R, nan]\n",
      "      * Complex: [R + Rj, R + nanj, nan + Rj, nan + nanj]\n",
      "    \n",
      "    where R is a non-nan real value. Complex values with the same nan\n",
      "    placements are sorted according to the non-nan part if it exists.\n",
      "    Non-nan values are sorted as before.\n",
      "    \n",
      "    .. versionadded:: 1.12.0\n",
      "    \n",
      "    quicksort has been changed to `introsort <https://en.wikipedia.org/wiki/Introsort>`_.\n",
      "    When sorting does not make enough progress it switches to\n",
      "    `heapsort <https://en.wikipedia.org/wiki/Heapsort>`_.\n",
      "    This implementation makes quicksort O(n*log(n)) in the worst case.\n",
      "    \n",
      "    'stable' automatically chooses the best stable sorting algorithm\n",
      "    for the data type being sorted.\n",
      "    It, along with 'mergesort' is currently mapped to\n",
      "    `timsort <https://en.wikipedia.org/wiki/Timsort>`_\n",
      "    or `radix sort <https://en.wikipedia.org/wiki/Radix_sort>`_\n",
      "    depending on the data type.\n",
      "    API forward compatibility currently limits the\n",
      "    ability to select the implementation and it is hardwired for the different\n",
      "    data types.\n",
      "    \n",
      "    .. versionadded:: 1.17.0\n",
      "    \n",
      "    Timsort is added for better performance on already or nearly\n",
      "    sorted data. On random data timsort is almost identical to\n",
      "    mergesort. It is now used for stable sort while quicksort is still the\n",
      "    default sort if none is chosen. For timsort details, refer to\n",
      "    `CPython listsort.txt <https://github.com/python/cpython/blob/3.7/Objects/listsort.txt>`_.\n",
      "    'mergesort' and 'stable' are mapped to radix sort for integer data types. Radix sort is an\n",
      "    O(n) sort instead of O(n log n).\n",
      "    \n",
      "    .. versionchanged:: 1.17.0\n",
      "    \n",
      "    NaT now sorts to the end of arrays for consistency with NaN.\n",
      "    \n",
      "    Examples\n",
      "    --------\n",
      "    >>> a = np.array([[1,4],[3,1]])\n",
      "    >>> np.sort(a)                # sort along the last axis\n",
      "    array([[1, 4],\n",
      "           [1, 3]])\n",
      "    >>> np.sort(a, axis=None)     # sort the flattened array\n",
      "    array([1, 1, 3, 4])\n",
      "    >>> np.sort(a, axis=0)        # sort along the first axis\n",
      "    array([[1, 1],\n",
      "           [3, 4]])\n",
      "    \n",
      "    Use the `order` keyword to specify a field to use when sorting a\n",
      "    structured array:\n",
      "    \n",
      "    >>> dtype = [('name', 'S10'), ('height', float), ('age', int)]\n",
      "    >>> values = [('Arthur', 1.8, 41), ('Lancelot', 1.9, 38),\n",
      "    ...           ('Galahad', 1.7, 38)]\n",
      "    >>> a = np.array(values, dtype=dtype)       # create a structured array\n",
      "    >>> np.sort(a, order='height')                        # doctest: +SKIP\n",
      "    array([('Galahad', 1.7, 38), ('Arthur', 1.8, 41),\n",
      "           ('Lancelot', 1.8999999999999999, 38)],\n",
      "          dtype=[('name', '|S10'), ('height', '<f8'), ('age', '<i4')])\n",
      "    \n",
      "    Sort by age, then height if ages are equal:\n",
      "    \n",
      "    >>> np.sort(a, order=['age', 'height'])               # doctest: +SKIP\n",
      "    array([('Galahad', 1.7, 38), ('Lancelot', 1.8999999999999999, 38),\n",
      "           ('Arthur', 1.8, 41)],\n",
      "          dtype=[('name', '|S10'), ('height', '<f8'), ('age', '<i4')])\n",
      "\n"
     ]
    }
   ],
   "source": []
  },
  {
   "cell_type": "code",
   "execution_count": null,
   "metadata": {},
   "outputs": [],
   "source": []
  }
 ],
 "metadata": {
  "kernelspec": {
   "display_name": "Python 3",
   "language": "python",
   "name": "python3"
  },
  "language_info": {
   "codemirror_mode": {
    "name": "ipython",
    "version": 3
   },
   "file_extension": ".py",
   "mimetype": "text/x-python",
   "name": "python",
   "nbconvert_exporter": "python",
   "pygments_lexer": "ipython3",
   "version": "3.7.6"
  },
  "latex_envs": {
   "LaTeX_envs_menu_present": true,
   "autoclose": false,
   "autocomplete": true,
   "bibliofile": "biblio.bib",
   "cite_by": "apalike",
   "current_citInitial": 1,
   "eqLabelWithNumbers": true,
   "eqNumInitial": 1,
   "hotkeys": {
    "equation": "Ctrl-E",
    "itemize": "Ctrl-I"
   },
   "labels_anchors": false,
   "latex_user_defs": false,
   "report_style_numbering": false,
   "user_envs_cfg": false
  },
  "toc": {
   "base_numbering": 1,
   "nav_menu": {},
   "number_sections": true,
   "sideBar": true,
   "skip_h1_title": false,
   "title_cell": "Table of Contents",
   "title_sidebar": "Contents",
   "toc_cell": false,
   "toc_position": {
    "height": "calc(100% - 180px)",
    "left": "10px",
    "top": "150px",
    "width": "384px"
   },
   "toc_section_display": true,
   "toc_window_display": true
  }
 },
 "nbformat": 4,
 "nbformat_minor": 4
}
